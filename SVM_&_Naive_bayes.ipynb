{
  "nbformat": 4,
  "nbformat_minor": 0,
  "metadata": {
    "colab": {
      "provenance": [],
      "authorship_tag": "ABX9TyOn1yGYMUSi/t5DU1nzk23X",
      "include_colab_link": true
    },
    "kernelspec": {
      "name": "python3",
      "display_name": "Python 3"
    },
    "language_info": {
      "name": "python"
    }
  },
  "cells": [
    {
      "cell_type": "markdown",
      "metadata": {
        "id": "view-in-github",
        "colab_type": "text"
      },
      "source": [
        "<a href=\"https://colab.research.google.com/github/pushpitab18/PW_MACHINE_LEARNING_ASSIGNMENTS/blob/main/SVM_%26_Naive_bayes.ipynb\" target=\"_parent\"><img src=\"https://colab.research.google.com/assets/colab-badge.svg\" alt=\"Open In Colab\"/></a>"
      ]
    },
    {
      "cell_type": "markdown",
      "source": [
        "#Theoretical Questions and Answers :"
      ],
      "metadata": {
        "id": "BPFzNfLJWy5q"
      }
    },
    {
      "cell_type": "markdown",
      "source": [
        "##Q1 :  What is a Support Vector Machine (SVM)?\n",
        "\n",
        "\n",
        "###ans :\n",
        "\n",
        "A Support Vector Machine (SVM) is a type of supervised learning algorithm used for classification and regression tasks. It's a powerful and versatile machine learning model that can handle high-dimensional data and non-linear relationships.\n",
        "\n",
        "- Key Concepts:\n",
        "\n",
        "1. Hyperplane: SVMs work by finding the best hyperplane (a line or plane) that separates the data into different classes.\n",
        "2. Support Vectors: The hyperplane is determined by the support vectors, which are the data points that lie closest to the hyperplane.\n",
        "3. Margin: The margin is the distance between the hyperplane and the support vectors. The goal of SVM is to maximize the margin.\n",
        "4. Kernel Trick: SVMs can use different kernel functions to transform the data into a higher-dimensional space, allowing for non-linear classification.\n",
        "\n",
        "- How SVM Works:\n",
        "\n",
        "1. Data Preprocessing: The data is preprocessed to ensure it's in a suitable format for training.\n",
        "2. Model Training: The SVM algorithm is trained on the labeled data to find the optimal hyperplane.\n",
        "3. Hyperplane Optimization: The algorithm iteratively adjusts the hyperplane to maximize the margin.\n",
        "4. Support Vector Selection: The support vectors are selected as the data points that lie closest to the hyperplane.\n",
        "5. Prediction: Once the model is trained, it can be used to make predictions on new, unseen data.\n"
      ],
      "metadata": {
        "id": "_woAxuERaT6L"
      }
    },
    {
      "cell_type": "markdown",
      "source": [
        "##Q2 : What is the difference between Hard Margin and Soft Margin SVM?\n",
        "\n",
        "\n",
        "###ans :\n",
        "\n",
        "\n",
        "In Support Vector Machines (SVMs), the margin refers to the distance between the decision boundary (hyperplane) and the closest data points (support vectors). There are two types of margins in SVMs: Hard Margin and Soft Margin.\n",
        "\n",
        "####Hard Margin SVM:\n",
        "\n",
        "- In Hard Margin SVM, the goal is to find a hyperplane that:\n",
        "\n",
        "1. Completely separates the classes.\n",
        "2. Maximizes the margin between the hyperplane and the support vectors.\n",
        "\n",
        "The hard margin SVM assumes that the data is linearly separable, meaning that a hyperplane can be found to completely separate the classes without any errors.\n",
        "\n",
        "#### Soft Margin SVM:\n",
        "\n",
        "- In Soft Margin SVM, the goal is to find a hyperplane that:\n",
        "\n",
        "1. Minimizes the number of misclassifications.\n",
        "2. Maximizes the margin between the hyperplane and the support vectors.\n",
        "\n",
        "The soft margin SVM allows for some misclassifications, which means that some data points can be on the wrong side of the hyperplane. This is useful when the data is noisy or non-linearly separable.\n",
        "\n",
        "- Key differences:\n",
        "\n",
        "1. Separability: Hard Margin SVM assumes linear separability, while Soft Margin SVM allows for non-linear separability.\n",
        "2. Misclassifications: Hard Margin SVM does not allow for misclassifications, while Soft Margin SVM allows for some misclassifications.\n",
        "3. Margin maximization: Both Hard Margin and Soft Margin SVM aim to maximize the margin, but Soft Margin SVM does so while allowing for some misclassifications.\n",
        "4. Robustness: Soft Margin SVM is more robust to outliers and noise, as it allows for some misclassifications.\n"
      ],
      "metadata": {
        "id": "x3M6UYUca9PB"
      }
    },
    {
      "cell_type": "markdown",
      "source": [
        "##Q3 : What is the mathematical intuition behind SVM?\n",
        "\n",
        "###ans :\n",
        "\n",
        "The mathematical intuition behind Support Vector Machines (SVMs) can be understood by breaking down the concept into its key components:\n",
        "\n",
        "1. Linear Separability :\n",
        "SVMs start with the idea of linear separability, where the goal is to find a hyperplane that separates the data into different classes.\n",
        "\n",
        "2. Margin Maximization :\n",
        "The SVM algorithm aims to maximize the margin between the hyperplane and the support vectors. The margin is defined as the distance between the hyperplane and the closest data point.\n",
        "\n",
        "3. Soft Margin :\n",
        "In cases where the data is not linearly separable, SVMs introduce the concept of a soft margin. This allows for some misclassifications by introducing slack variables.\n",
        "\n",
        "4. Kernel Trick :\n",
        "SVMs use the kernel trick to transform the data into a higher-dimensional space, where it becomes linearly separable. This is done by using a kernel function that maps the data to a higher-dimensional space.\n",
        "\n",
        "5. Dual Formulation :\n",
        "The SVM algorithm is typically formulated in its dual form, which involves maximizing the dual objective function. This formulation provides a convenient way to solve the optimization problem.\n",
        "\n",
        "6. Karush-Kuhn-Tucker (KKT) Conditions :\n",
        "The SVM algorithm uses the KKT conditions to find the optimal solution. These conditions provide a set of necessary and sufficient conditions for the optimal solution.\n",
        "\n",
        "- Mathematical Formulation :\n",
        "The mathematical formulation of SVMs can be summarized as follows:\n",
        "\n",
        "- Primal Formulation :\n",
        "The primal formulation of SVMs involves minimizing the objective function:\n",
        "\n",
        "L(w, b, ξ) = (1/2) * w^T * w + C * ∑[i=1 to n] ξ_i\n",
        "\n",
        "- subject to the constraints:\n",
        "\n",
        "y_i * (w^T * x_i + b) ≥ 1 - ξ_i\n",
        "\n",
        "ξ_i ≥ 0\n",
        "\n",
        "- Dual Formulation :\n",
        "The dual formulation of SVMs involves maximizing the objective function:\n",
        "\n",
        "L(α) = ∑[i=1 to n] α_i - (1/2) * ∑[i=1 to n] ∑[j=1 to n] α_i * α_j * y_i * y_j * x_i^T * x_j\n",
        "\n",
        "- subject to the constraints:\n",
        "\n",
        "∑[i=1 to n] α_i * y_i = 0\n",
        "\n",
        "0 ≤ α_i ≤ C\n",
        "\n",
        "The dual formulation provides a convenient way to solve the optimization problem using quadratic programming techniques.\n",
        "\n",
        "- Kernel Trick :\n",
        "The kernel trick involves transforming the data into a higher-dimensional space using a kernel function:\n",
        "\n",
        "K(x_i, x_j) = φ(x_i)^T * φ(x_j)\n",
        "\n",
        "The kernel function allows us to compute the dot product of the transformed data points without explicitly computing the transformation.\n",
        "\n",
        "The mathematical intuition behind SVMs provides a powerful framework for understanding the underlying mechanics of the algorithm. By breaking down the concept into its key components, we can gain a deeper understanding of how SVMs work and how they can be applied to real-world problems."
      ],
      "metadata": {
        "id": "R7o0RonHb2Ul"
      }
    },
    {
      "cell_type": "markdown",
      "source": [
        "##Q4 :  What is the role of Lagrange Multipliers in SVM?\n",
        "\n",
        "\n",
        "###ans :\n",
        "\n",
        "Lagrange multipliers play a crucial role in Support Vector Machines (SVMs) as they help in solving the optimization problem that arises in SVM formulation.\n",
        "\n",
        "#### Role of Lagrange Multipliers in SVM:\n",
        "1. Constrained Optimization\n",
        "SVMs involve a constrained optimization problem, where the goal is to maximize the margin (distance between the hyperplane and the support vectors) subject to certain constraints.\n",
        "\n",
        "2. Introducing Lagrange Multipliers\n",
        "To solve this constrained optimization problem, Lagrange multipliers are introduced. These multipliers help in incorporating the constraints into the optimization problem.\n",
        "\n",
        "3. Formulating the Lagrangian\n",
        "The Lagrangian function is formulated by introducing the Lagrange multipliers and combining the objective function with the constraints.\n",
        "\n",
        "4. Solving for the Lagrange Multipliers\n",
        "The Lagrange multipliers are then solved for, which helps in finding the optimal solution to the optimization problem.\n",
        "\n",
        "5. Obtaining the Dual Formulation\n",
        "The Lagrange multipliers help in obtaining the dual formulation of the SVM problem, which is more convenient to solve than the primal formulation.\n",
        "\n",
        "6. Interpreting the Lagrange Multipliers\n",
        "The Lagrange multipliers have an interesting interpretation in the context of SVMs. They represent the \"importance\" of each data point in the classification problem.\n",
        "\n",
        "#### Mathematical Formulation:\n",
        "The Lagrangian function for the SVM problem can be formulated as:\n",
        "\n",
        "L(w, b, α) = (1/2) * w^T * w - ∑[i=1 to n] α_i * (y_i * (w^T * x_i + b) - 1)\n",
        "\n",
        "where w is the weight vector, b is the bias term, α is the Lagrange multiplier vector, x_i is the i-th data point, y_i is the i-th label, and n is the number of data points.\n",
        "\n",
        "The Lagrange multipliers are then solved for by setting the partial derivatives of the Lagrangian function with respect to the primal variables (w and b) to zero.\n"
      ],
      "metadata": {
        "id": "KQMKOuL9dYrS"
      }
    },
    {
      "cell_type": "markdown",
      "source": [
        "##Q5 : What are Support Vectors in SVM?\n",
        "\n",
        "\n",
        "###ans :\n",
        "\n",
        "\n",
        "Support Vectors (SVs) are a fundamental concept in Support Vector Machines (SVMs). They play a crucial role in defining the decision boundary of the classifier.\n",
        "\n",
        "#### What are Support Vectors?\n",
        "Support Vectors are the data points that lie closest to the decision boundary (hyperplane) of the classifier. They are the points that are most difficult to classify and have the greatest influence on the decision boundary.\n",
        "\n",
        "#### Characteristics of Support Vectors:\n",
        "1. Closest to the decision boundary: Support Vectors are the data points that lie closest to the decision boundary.\n",
        "2. Most difficult to classify: Support Vectors are the points that are most difficult to classify, as they are closest to the decision boundary.\n",
        "3. Greatest influence on the decision boundary: Support Vectors have the greatest influence on the decision boundary, as they are used to define the hyperplane.\n",
        "4. Unique representation: Support Vectors have a unique representation in the feature space, which allows them to be identified and used to define the decision boundary.\n"
      ],
      "metadata": {
        "id": "5RtHHv2Me0qq"
      }
    },
    {
      "cell_type": "markdown",
      "source": [
        "##Q6 : What is a Support Vector Classifier (SVC)?\n",
        "\n",
        "\n",
        "###ans :  \n",
        "\n",
        "\n",
        "A Support Vector Classifier (SVC) is a type of supervised learning algorithm used for classification tasks. It is a powerful and flexible classifier that can handle high-dimensional data and non-linear relationships.\n",
        "\n",
        "#### Key Features of SVC:\n",
        "1. Hyperplane: SVC finds the optimal hyperplane that separates the classes in the feature space.\n",
        "2. Support Vectors: SVC identifies the support vectors, which are the data points closest to the hyperplane.\n",
        "3. Kernel Trick: SVC uses the kernel trick to transform the data into a higher-dimensional space, where it becomes linearly separable.\n",
        "4. Soft Margin: SVC allows for some misclassifications by introducing slack variables.\n",
        "\n",
        "\n",
        "#### How SVC Works:\n",
        "1. Data Preprocessing: The data is preprocessed to ensure it is in a suitable format for training.\n",
        "2. Kernel Selection: A kernel function is selected to transform the data into a higher-dimensional space.\n",
        "3. Hyperplane Optimization: The hyperplane is optimized to maximize the margin between the decision boundary and the support vectors.\n",
        "4. Support Vector Selection: The support vectors are selected as the data points that lie closest to the hyperplane.\n",
        "5. Prediction: Once the model is trained, it can be used to make predictions on new, unseen data.\n",
        "\n"
      ],
      "metadata": {
        "id": "XpfyNQYPfNer"
      }
    },
    {
      "cell_type": "markdown",
      "source": [
        "##Q7 :  What is a Support Vector Regressor (SVR)?\n",
        "\n",
        "\n",
        "###ans :\n",
        "\n",
        "A Support Vector Regressor (SVR) is a type of supervised learning algorithm used for regression tasks. It is a powerful and flexible regressor that can handle non-linear relationships and non-normal data distributions.\n",
        "\n",
        "#### Key Features of SVR:\n",
        "1. Hyperplane: SVR finds the optimal hyperplane that minimizes the error between the predicted and actual values.\n",
        "2. Support Vectors: SVR identifies the support vectors, which are the data points closest to the hyperplane.\n",
        "3. Kernel Trick: SVR uses the kernel trick to transform the data into a higher-dimensional space, where it becomes linearly separable.\n",
        "4. Epsilon-Insensitive Loss Function: SVR uses an epsilon-insensitive loss function, which ignores errors below a certain threshold (epsilon).\n",
        "\n",
        "#### How SVR Works:\n",
        "1. Data Preprocessing: The data is preprocessed to ensure it is in a suitable format for training.\n",
        "2. Kernel Selection: A kernel function is selected to transform the data into a higher-dimensional space.\n",
        "3. Hyperplane Optimization: The hyperplane is optimized to minimize the error between the predicted and actual values.\n",
        "4. Support Vector Selection: The support vectors are selected as the data points that lie closest to the hyperplane.\n",
        "5. Prediction: Once the model is trained, it can be used to make predictions on new, unseen data.\n"
      ],
      "metadata": {
        "id": "R3qArwbMZH-0"
      }
    },
    {
      "cell_type": "markdown",
      "source": [
        "##Q8 : What is the Kernel Trick in SVM?\n",
        "\n",
        "\n",
        "###ans :\n",
        "\n",
        "The Kernel Trick is a mathematical technique used in Support Vector Machines (SVMs) to transform the original data into a higher-dimensional space, where it becomes linearly separable.\n",
        "\n",
        "#### Why is the Kernel Trick needed?\n",
        "In many cases, the original data is not linearly separable, meaning that it cannot be separated by a single hyperplane. The Kernel Trick helps to overcome this limitation by transforming the data into a higher-dimensional space, where it becomes linearly separable.\n",
        "\n",
        "#### How does the Kernel Trick work?\n",
        "The Kernel Trick works by using a kernel function to map the original data into a higher-dimensional space. The kernel function is chosen such that the transformed data is linearly separable.\n",
        "\n",
        "#### Types of Kernel Functions:\n",
        "1. Linear Kernel: A linear kernel is used for linearly separable data.\n",
        "2. Polynomial Kernel: A polynomial kernel is used for non-linearly separable data.\n",
        "3. Radial Basis Function (RBF) Kernel: An RBF kernel is used for non-linearly separable data.\n",
        "4. Sigmoid Kernel: A sigmoid kernel is used for non-linearly separable data.\n"
      ],
      "metadata": {
        "id": "ysfvGOOWZ2j4"
      }
    },
    {
      "cell_type": "markdown",
      "source": [
        "##Q9 : Compare Linear Kernel, Polynomial Kernel, and RBF Kernel.\n",
        "\n",
        "\n",
        "###ans :\n",
        "\n",
        "Here's a comparison of Linear Kernel, Polynomial Kernel, and RBF Kernel:\n",
        "\n",
        "#### Linear Kernel :\n",
        "1. Definition: K(x, y) = x^T y\n",
        "2. Characteristics: Linear kernel is a simple and efficient kernel. It is suitable for linearly separable data.\n",
        "3. Advantages: Fast computation, simple to implement.\n",
        "4. Disadvantages: Not suitable for non-linearly separable data.\n",
        "\n",
        "#### Polynomial Kernel :\n",
        "1. Definition: K(x, y) = (x^T y + c)^d\n",
        "2. Characteristics: Polynomial kernel is a non-linear kernel. It is suitable for non-linearly separable data.\n",
        "3. Advantages: Can handle non-linear relationships, flexible.\n",
        "4. Disadvantages: Computationally expensive, prone to overfitting.\n",
        "\n",
        "#### RBF Kernel (Radial Basis Function) :\n",
        "1. Definition: K(x, y) = exp(-γ ||x - y||^2)\n",
        "2. Characteristics: RBF kernel is a non-linear kernel. It is suitable for non-linearly separable data.\n",
        "3. Advantages: Can handle non-linear relationships, robust to noise.\n",
        "4. Disadvantages: Computationally expensive, sensitive to hyperparameters.\n",
        "\n",
        "#### Comparison Summary\n",
        "\n",
        "| Kernel | Linear Separability | Computational Complexity | Handling Non-linear Relationships |\n",
        "| --- | --- | --- | --- |\n",
        "| Linear | Yes | Low | No |\n",
        "| Polynomial | No | High | Yes |\n",
        "| RBF | No | High | Yes |\n",
        "\n",
        "#### Choosing the Right Kernel\n",
        "1. Linear Kernel: Use for linearly separable data, fast computation required.\n",
        "2. Polynomial Kernel: Use for non-linearly separable data, flexible representation required.\n",
        "3. RBF Kernel: Use for non-linearly separable data, robustness to noise required.\n",
        "\n",
        "In summary, the choice of kernel depends on the specific problem requirements, such as linear separability, computational complexity, and handling non-linear relationships."
      ],
      "metadata": {
        "id": "tG6Nxs5rauM1"
      }
    },
    {
      "cell_type": "markdown",
      "source": [
        "##Q10 : What is the effect of the C parameter in SVM?\n",
        "\n",
        "###ans :\n",
        "\n",
        "\n",
        "The C parameter in SVM (Support Vector Machine) is a regularization parameter that controls the trade-off between the margin (the distance between the decision boundary and the support vectors) and the misclassification error.\n",
        "\n",
        "#### Effect of C Parameter:\n",
        "1. Large C: A large value of C means that the SVM will try to classify all the training data correctly, even if it means having a smaller margin. This can lead to overfitting.\n",
        "2. Small C: A small value of C means that the SVM will allow for some misclassifications in the training data, but will have a larger margin. This can lead to underfitting.\n",
        "\n",
        "#### How C Affects the SVM:\n",
        "1. Soft Margin: The C parameter controls the soft margin, which is the amount of misclassification error allowed in the training data.\n",
        "2. Support Vectors: The C parameter affects the number of support vectors, which are the data points that lie closest to the decision boundary.\n",
        "3. Decision Boundary: The C parameter affects the shape and position of the decision boundary.\n",
        "\n",
        "#### Choosing the Right Value of C:\n",
        "1. Cross-Validation: Use cross-validation to find the optimal value of C.\n",
        "2. Grid Search: Perform a grid search over a range of values for C.\n",
        "3. Default Value: Use the default value of C provided by the SVM library or software.\n",
        "\n",
        "#### Common Values of C:\n",
        "1. C = 1: A common default value for C.\n",
        "2. C = 10: A larger value of C, which can lead to overfitting.\n",
        "3. C = 0.1: A smaller value of C, which can lead to underfitting.\n",
        "\n",
        "In summary, the C parameter in SVM controls the trade-off between the margin and the misclassification error. A large value of C can lead to overfitting, while a small value of C can lead to underfitting. Choosing the right value of C is crucial for achieving good performance with SVM."
      ],
      "metadata": {
        "id": "aRhhHgOebWWG"
      }
    },
    {
      "cell_type": "markdown",
      "source": [
        "##Q11 : What is the role of the Gamma parameter in RBF Kernel SVM?\n",
        "\n",
        "###ans :\n",
        "\n",
        "The Gamma (γ) parameter in RBF (Radial Basis Function) Kernel SVM plays a crucial role in controlling the spread or bandwidth of the kernel.\n",
        "\n",
        "#### Role of Gamma:\n",
        "1. Kernel Width: Gamma controls the width of the kernel, which determines how quickly the kernel function decreases as the distance between the data points increases.\n",
        "2. Influence of Support Vectors: Gamma affects the influence of support vectors on the decision boundary. A small gamma value means that the support vectors have a large influence, while a large gamma value means that the support vectors have a small influence.\n",
        "3. Overfitting vs. Underfitting: Gamma helps to balance overfitting and underfitting. A small gamma value can lead to overfitting, while a large gamma value can lead to underfitting.\n",
        "\n",
        "#### Effects of Gamma Values:\n",
        "1. Small Gamma (γ): A small gamma value means that the kernel is very narrow, and the support vectors have a large influence on the decision boundary. This can lead to overfitting.\n",
        "2. Large Gamma (γ): A large gamma value means that the kernel is very wide, and the support vectors have a small influence on the decision boundary. This can lead to underfitting.\n"
      ],
      "metadata": {
        "id": "yi8SxBjQcbxg"
      }
    },
    {
      "cell_type": "markdown",
      "source": [
        "##Q12 : What is the Naïve Bayes classifier, and why is it called \"Naïve\"?\n",
        "\n",
        "\n",
        "###ans :\n",
        "\n",
        "\n",
        "The Naïve Bayes classifier is a type of supervised learning algorithm based on Bayes' theorem. It's a popular choice for classification tasks, especially in natural language processing and text classification.\n",
        "\n",
        "####How Naïve Bayes Works:\n",
        "1. Bayes' Theorem: The algorithm uses Bayes' theorem to update the probability of a hypothesis as more evidence or data becomes available.\n",
        "2. Class Probabilities: Naïve Bayes calculates the probability of each class in the training data.\n",
        "3. Feature Probabilities: The algorithm then calculates the probability of each feature given each class.\n",
        "4. Prediction: For a new, unseen data point, Naïve Bayes calculates the probability of each class given the features of the data point.\n",
        "\n",
        "####Why is it Called \"Naïve\"?\n",
        "The Naïve Bayes classifier is called \"naïve\" because it makes two simplifying assumptions:\n",
        "\n",
        "1. Independence Assumption: The algorithm assumes that all features are independent of each other, given the class. This means that the presence or absence of one feature does not affect the probability of another feature.\n",
        "2. Equal Importance Assumption: Naïve Bayes also assumes that all features are equally important for classification.\n",
        "\n",
        "These assumptions are often violated in real-world data, which is why the algorithm is called \"naïve\". Despite these assumptions, Naïve Bayes often performs surprisingly well in practice.\n"
      ],
      "metadata": {
        "id": "sQ2h2z1rdVsM"
      }
    },
    {
      "cell_type": "markdown",
      "source": [
        "##Q13 :  What is Bayes’ Theorem?\n",
        "\n",
        "###ans :\n",
        "\n",
        "\n",
        "Bayes' Theorem is a fundamental concept in probability theory and statistics. It describes how to update the probability of a hypothesis based on new evidence or data.\n",
        "\n",
        "Bayes' Theorem Formula:\n",
        "P(H|E) = P(E|H) * P(H) / P(E)\n",
        "\n",
        "####Where:\n",
        "\n",
        "- P(H|E) is the posterior probability of the hypothesis (H) given the evidence (E).\n",
        "- P(E|H) is the likelihood of the evidence given the hypothesis.\n",
        "- P(H) is the prior probability of the hypothesis.\n",
        "- P(E) is the probability of the evidence.\n",
        "\n",
        "####How Bayes' Theorem Works:\n",
        "1. Prior Probability: Start with an initial probability of the hypothesis (P(H)).\n",
        "2. New Evidence: Observe new evidence (E) related to the hypothesis.\n",
        "3. Likelihood: Calculate the likelihood of the evidence given the hypothesis (P(E|H)).\n",
        "4. Posterior Probability: Update the probability of the hypothesis using Bayes' Theorem (P(H|E)).\n",
        "5. Repeat: As new evidence becomes available, repeat the process to refine the probability of the hypothesis.\n",
        "\n",
        "####Interpretation:\n",
        "- Bayes' Theorem helps to:\n",
        "\n",
        "1. Update probabilities: Update the probability of a hypothesis based on new evidence.\n",
        "2. Incorporate prior knowledge: Incorporate prior knowledge or assumptions about the hypothesis.\n",
        "3. Make probabilistic predictions: Make probabilistic predictions about future events.\n",
        "\n",
        "####Applications:\n",
        "- Bayes' Theorem has numerous applications in:\n",
        "\n",
        "1. Machine learning: Bayesian inference, Bayesian networks, and Bayesian decision theory.\n",
        "2. Statistics: Hypothesis testing, confidence intervals, and Bayesian estimation.\n",
        "3. Artificial intelligence: Expert systems, decision-making, and probabilistic reasoning.\n",
        "4. Medicine: Diagnostic testing, disease modeling, and personalized medicine.\n",
        "\n",
        "In summary, Bayes' Theorem is a powerful tool for updating probabilities based on new evidence, incorporating prior knowledge, and making probabilistic predictions. Its applications are diverse, ranging from machine learning and statistics to artificial intelligence and medicine."
      ],
      "metadata": {
        "id": "O2scd9pKe1KJ"
      }
    },
    {
      "cell_type": "markdown",
      "source": [
        "##Q14 :  Explain the differences between Gaussian Naïve Bayes, Multinomial Naïve Bayes, and Bernoulli Naïve Bayes.\n",
        "\n",
        "###ans :\n",
        "\n",
        "\n",
        "Gaussian Naïve Bayes, Multinomial Naïve Bayes, and Bernoulli Naïve Bayes are three variants of the Naïve Bayes algorithm, each designed for specific types of data.\n",
        "\n",
        "####Gaussian Naïve Bayes:\n",
        "1. Continuous Data: Gaussian Naïve Bayes is used for continuous data, such as heights, weights, or temperatures.\n",
        "2. Gaussian Distribution: It assumes that the features follow a Gaussian distribution.\n",
        "3. Probability Density Function: The algorithm uses the probability density function of the Gaussian distribution to calculate the probabilities.\n",
        "\n",
        "####Multinomial Naïve Bayes:\n",
        "1. Discrete Data: Multinomial Naïve Bayes is used for discrete data, such as word counts or categorical variables.\n",
        "2. Multinomial Distribution: It assumes that the features follow a multinomial distribution.\n",
        "3. Probability Mass Function: The algorithm uses the probability mass function of the multinomial distribution to calculate the probabilities.\n",
        "\n",
        "####Bernoulli Naïve Bayes:\n",
        "1. Binary Data: Bernoulli Naïve Bayes is used for binary data, such as 0/1, yes/no, or true/false.\n",
        "2. Bernoulli Distribution: It assumes that the features follow a Bernoulli distribution.\n",
        "3. Probability Mass Function: The algorithm uses the probability mass function of the Bernoulli distribution to calculate the probabilities.\n",
        "\n",
        "- Comparison:\n",
        "\n",
        "| Algorithm | Data Type | Distribution | Probability Function |\n",
        "| --- | --- | --- | --- |\n",
        "| Gaussian Naïve Bayes | Continuous | Gaussian | Probability Density Function |\n",
        "| Multinomial Naïve Bayes | Discrete | Multinomial | Probability Mass Function |\n",
        "| Bernoulli Naïve Bayes | Binary | Bernoulli | Probability Mass Function |\n",
        "\n",
        "####Choosing the Right Algorithm:\n",
        "1. Data Type: Choose the algorithm based on the type of data you have (continuous, discrete, or binary).\n",
        "2. Distribution: Consider the underlying distribution of the data (Gaussian, multinomial, or Bernoulli).\n",
        "3. Problem Requirements: Select the algorithm that best suits the requirements of your problem.\n",
        "\n",
        "In summary, Gaussian Naïve Bayes is used for continuous data, Multinomial Naïve Bayes is used for discrete data, and Bernoulli Naïve Bayes is used for binary data. Each algorithm assumes a specific distribution and uses the corresponding probability function to calculate the probabilities."
      ],
      "metadata": {
        "id": "aBSsHvBUfkrk"
      }
    },
    {
      "cell_type": "markdown",
      "source": [
        "##Q15 :  When should you use Gaussian Naïve Bayes over other variants?\n",
        "\n",
        "\n",
        "###ans :\n",
        "\n",
        "\n",
        "####Gaussian Naïve Bayes is a suitable choice when:\n",
        "\n",
        "1. Continuous Data:\n",
        "Gaussian Naïve Bayes is designed for continuous data, such as:\n",
        "\n",
        "- Heights\n",
        "- Weights\n",
        "- Temperatures\n",
        "- Prices\n",
        "\n",
        "2. Gaussian Distribution:\n",
        "The algorithm assumes that the features follow a Gaussian distribution. If the data is normally distributed or approximately normal, Gaussian Naïve Bayes is a good choice.\n",
        "\n",
        "3. High-Dimensional Data:\n",
        "Gaussian Naïve Bayes can handle high-dimensional data, making it suitable for applications with many features.\n",
        "\n",
        "4. Noisy Data:\n",
        "Gaussian Naïve Bayes is robust to noisy data, as it uses the mean and variance of the features to calculate the probabilities.\n",
        "\n",
        "5. Simple Implementation:\n",
        "Gaussian Naïve Bayes has a simple implementation, making it easy to understand and use.\n",
        "\n",
        "####When to Avoid Gaussian Naïve Bayes:\n",
        "1. Discrete Data: Gaussian Naïve Bayes is not suitable for discrete data, such as categorical variables or word counts.\n",
        "2. Non-Gaussian Distribution: If the data does not follow a Gaussian distribution, Gaussian Naïve Bayes may not perform well.\n",
        "3. Small Sample Size: Gaussian Naïve Bayes requires a sufficient sample size to estimate the mean and variance of the features accurately.\n",
        "\n",
        "In summary, Gaussian Naïve Bayes is a good choice when working with continuous data that follows a Gaussian distribution, especially in high-dimensional spaces with noisy data. However, it may not be suitable for discrete data or non-Gaussian distributions."
      ],
      "metadata": {
        "id": "PJEuI3d8gBEp"
      }
    },
    {
      "cell_type": "markdown",
      "source": [
        "##Q16 : What are the key assumptions made by Naïve Bayes?\n",
        "\n",
        "\n",
        "###ans :\n",
        "\n",
        "####Naïve Bayes makes two key assumptions:\n",
        "\n",
        "1. Independence Assumption:\n",
        "Naïve Bayes assumes that all features are independent of each other, given the class. This means that the presence or absence of one feature does not affect the probability of another feature.\n",
        "\n",
        "2. Equal Importance Assumption:\n",
        "Naïve Bayes also assumes that all features are equally important for classification. This means that each feature is given equal weight when calculating the probabilities.\n",
        "\n",
        "####Implications of these Assumptions:\n",
        "1. Simplification: These assumptions simplify the calculation of probabilities, making it possible to calculate the posterior probability of a class given a set of features.\n",
        "2. Reduced Computational Complexity: The independence assumption reduces the computational complexity of the algorithm, making it faster and more efficient.\n",
        "3. Improved Interpretability: The equal importance assumption makes it easier to interpret the results, as each feature is given equal weight.\n",
        "\n",
        "####Limitations of these Assumptions:\n",
        "1. Feature Dependence: In reality, features are often dependent on each other, which can lead to inaccurate results.\n",
        "2. Feature Importance: Not all features are equally important for classification, which can lead to suboptimal results.\n",
        "\n",
        "####Mitigating the Limitations:\n",
        "1. Feature Engineering: Careful feature engineering can help to reduce feature dependence and improve the accuracy of the model.\n",
        "2. Feature Selection: Selecting the most relevant features can help to improve the accuracy of the model.\n",
        "3. Regularization Techniques: Regularization techniques, such as L1 and L2 regularization, can help to reduce the impact of feature dependence and importance.\n",
        "\n",
        "In summary, Naïve Bayes makes two key assumptions: independence and equal importance. While these assumptions simplify the calculation of probabilities and reduce computational complexity, they can also lead to limitations and inaccuracies. Careful feature engineering, feature selection, and regularization techniques can help to mitigate these limitations."
      ],
      "metadata": {
        "id": "H2acfQCYgr9q"
      }
    },
    {
      "cell_type": "markdown",
      "source": [
        "##Q17 : What are the advantages and disadvantages of Naïve Bayes?\n",
        "\n",
        "\n",
        "###ans :\n",
        "\n",
        "Naïve Bayes is a popular machine learning algorithm that offers several advantages, but also has some disadvantages.\n",
        "\n",
        "####Advantages:\n",
        "1. Easy to Implement: Naïve Bayes is a simple algorithm to implement, and its implementation is straightforward.\n",
        "2. Fast Training: Naïve Bayes trains quickly, even on large datasets, because it only needs to calculate the mean and variance of the features.\n",
        "3. Good Performance: Naïve Bayes often performs well, especially in text classification tasks, despite its simplicity.\n",
        "4. Robust to Noise: Naïve Bayes is robust to noisy data, because it uses the mean and variance of the features to calculate the probabilities.\n",
        "5. Interpretable Results: Naïve Bayes provides interpretable results, because each feature is given a weight that indicates its importance.\n",
        "\n",
        "####Disadvantages:\n",
        "1. Assumes Independence: Naïve Bayes assumes that all features are independent, which is often not true in real-world data.\n",
        "2. Assumes Equal Importance: Naïve Bayes assumes that all features are equally important, which can lead to suboptimal results.\n",
        "3. Sensitive to Feature Scaling: Naïve Bayes is sensitive to feature scaling, because it uses the mean and variance of the features to calculate the probabilities.\n",
        "4. Not Suitable for Complex Relationships: Naïve Bayes is not suitable for complex relationships between features, because it assumes a simple, linear relationship.\n",
        "5. Can be Biased: Naïve Bayes can be biased towards features with high variance, because it uses the variance to calculate the probabilities.\n"
      ],
      "metadata": {
        "id": "wIi4YL5XhwEa"
      }
    },
    {
      "cell_type": "markdown",
      "source": [
        "##Q18 : Why is Naïve Bayes a good choice for text classification?\n",
        "\n",
        "\n",
        "###ans :\n",
        "\n",
        "Naïve Bayes is a popular choice for text classification tasks due to its simplicity, efficiency, and effectiveness. Here are some reasons why Naïve Bayes is well-suited for text classification:\n",
        "\n",
        "1. High-Dimensional Data:\n",
        "Text data is typically high-dimensional, with thousands of features (words) in a document. Naïve Bayes can handle high-dimensional data efficiently, making it a good choice for text classification.\n",
        "\n",
        "2. Sparse Data:\n",
        "Text data is often sparse, meaning that most documents contain only a small subset of the total vocabulary. Naïve Bayes can handle sparse data effectively, as it only considers the features that are present in the document.\n",
        "\n",
        "3. Simple and Efficient:\n",
        "Naïve Bayes is a simple algorithm to implement and train, even on large datasets. This makes it an attractive choice for text classification tasks, where the dataset can be massive.\n",
        "\n",
        "4. Robust to Noise:\n",
        "Text data can be noisy, with spelling mistakes, grammatical errors, and irrelevant words. Naïve Bayes is robust to noise, as it uses the mean and variance of the features to calculate the probabilities.\n",
        "\n",
        "5. Interpretable Results:\n",
        "Naïve Bayes provides interpretable results, as each feature (word) is given a weight that indicates its importance in the classification decision.\n",
        "\n",
        "6. Handling Class Imbalance:\n",
        "Text classification datasets can be imbalanced, with one class having a significantly larger number of instances than others. Naïve Bayes can handle class imbalance by using techniques such as oversampling the minority class or undersampling the majority class.\n",
        "\n",
        "7. Fast Training and Prediction:\n",
        "Naïve Bayes trains quickly, even on large datasets, and makes predictions fast. This makes it suitable for real-time text classification applications.\n",
        "\n",
        "8. Wide Range of Applications:\n",
        "Naïve Bayes has been successfully applied to a wide range of text classification tasks, including spam filtering, sentiment analysis, topic modeling, and information retrieval.\n",
        "\n",
        "In summary, Naïve Bayes is a good choice for text classification due to its simplicity, efficiency, and effectiveness in handling high-dimensional, sparse, and noisy data. Its interpretable results and ability to handle class imbalance make it a popular choice for many text classification applications."
      ],
      "metadata": {
        "id": "cjBeihiqiNp9"
      }
    },
    {
      "cell_type": "markdown",
      "source": [
        "##Q19 :  Compare SVM and Naïve Bayes for classification tasks?\n",
        "\n",
        "\n",
        "###ans :\n",
        "\n",
        "SVM (Support Vector Machine) and Naïve Bayes are two popular machine learning algorithms used for classification tasks. Here's a comparison of the two:\n",
        "\n",
        "####SVM:\n",
        "1. Max-margin classifier: SVM finds the hyperplane that maximizes the margin between classes.\n",
        "2. Kernel trick: SVM uses the kernel trick to transform the data into a higher-dimensional space, making it possible to separate non-linearly separable data.\n",
        "3. Robust to noise: SVM is robust to noisy data, as it focuses on the support vectors.\n",
        "4. High accuracy: SVM can achieve high accuracy, especially in high-dimensional spaces.\n",
        "5. Computational complexity: SVM can be computationally expensive, especially for large datasets.\n",
        "\n",
        "####Naïve Bayes:\n",
        "1. Probabilistic classifier: Naïve Bayes is a probabilistic classifier that uses Bayes' theorem to calculate the probability of a class given the features.\n",
        "2. Independence assumption: Naïve Bayes assumes that all features are independent, given the class.\n",
        "3. Simple and efficient: Naïve Bayes is simple to implement and train, even on large datasets.\n",
        "4. Interpretable results: Naïve Bayes provides interpretable results, as each feature is given a weight that indicates its importance.\n",
        "5. Sensitive to feature scaling: Naïve Bayes is sensitive to feature scaling, as it uses the mean and variance of the features to calculate the probabilities.\n",
        "\n",
        "Comparison Summary:\n",
        "\n",
        "| Algorithm | Complexity | Accuracy | Noise Robustness | Interpretability |\n",
        "| --- | --- | --- | --- | --- |\n",
        "| SVM | High | High | High | Low |\n",
        "| Naïve Bayes | Low | Medium | Medium | High |\n",
        "\n",
        "\n",
        "In summary, SVM and Naïve Bayes have different strengths and weaknesses. SVM is a more powerful algorithm that can achieve high accuracy, but it can be computationally expensive and less interpretable. Naïve Bayes is a simpler algorithm that is more efficient and provides interpretable results, but it may not achieve the same level of accuracy as SVM. The choice between SVM and Naïve Bayes depends on the specific characteristics of the data and the goals of the project."
      ],
      "metadata": {
        "id": "odfzOkLrifXZ"
      }
    },
    {
      "cell_type": "markdown",
      "source": [
        "##Q20 : How does Laplace Smoothing help in Naïve Bayes?\n",
        "\n",
        "###ans :\n",
        "\n",
        "Laplace Smoothing, also known as additive smoothing, is a technique used in Naïve Bayes to handle the problem of zero probability estimates.\n",
        "\n",
        "####Problem of Zero Probability Estimates:\n",
        "In Naïve Bayes, the probability of a feature given a class is calculated using the maximum likelihood estimate (MLE). However, if a feature is not present in the training data for a particular class, the MLE will be zero, leading to a zero probability estimate.\n",
        "\n",
        "####Laplace Smoothing:\n",
        "Laplace Smoothing adds a small value, typically 1, to the numerator and denominator of the MLE calculation. This ensures that the probability estimate is never zero.\n",
        "\n",
        "####Benefits of Laplace Smoothing:\n",
        "1. Avoids Zero Probability Estimates: Laplace Smoothing ensures that the probability estimate is never zero, which can lead to incorrect predictions.\n",
        "2. Improves Model Robustness: By avoiding zero probability estimates, Laplace Smoothing improves the robustness of the Naïve Bayes model.\n",
        "3. Reduces Overfitting: Laplace Smoothing can help reduce overfitting by reducing the impact of rare features.\n",
        "4. Improves Predictive Performance: Laplace Smoothing can improve the predictive performance of Naïve Bayes, especially on imbalanced datasets.\n",
        "\n",
        "####Laplace Smoothing Formula:\n",
        "The Laplace Smoothing formula is:\n",
        "\n",
        "P(feature|class) = (count(feature, class) + α) / (count(class) + α * num_features)\n",
        "\n",
        "####Where:\n",
        "\n",
        "- α is the smoothing parameter (typically 1)\n",
        "- count(feature, class) is the number of times the feature appears in the class\n",
        "- count(class) is the number of instances in the class\n",
        "- num_features is the number of features\n",
        "\n",
        "In summary, Laplace Smoothing is a simple yet effective technique that helps Naïve Bayes avoid zero probability estimates, improve model robustness, reduce overfitting, and improve predictive performance."
      ],
      "metadata": {
        "id": "eTbjD1Gki-BX"
      }
    },
    {
      "cell_type": "markdown",
      "source": [
        "# Practical Question & Answer :"
      ],
      "metadata": {
        "id": "nxCrrHM1jTD7"
      }
    },
    {
      "cell_type": "markdown",
      "source": [
        "##Q21 : Write a Python program to train an SVM Classifier on the Iris dataset and evaluate accuracy.\n"
      ],
      "metadata": {
        "id": "0zkE_wsplSpE"
      }
    },
    {
      "cell_type": "code",
      "source": [
        "#ans :\n",
        "\n",
        "# Import necessary libraries\n",
        "from sklearn import datasets\n",
        "from sklearn.model_selection import train_test_split\n",
        "from sklearn import svm\n",
        "from sklearn import metrics\n",
        "\n",
        "# Load the Iris dataset\n",
        "iris = datasets.load_iris()\n",
        "\n",
        "# Define the feature matrix (X) and the response vector (y)\n",
        "X = iris.data\n",
        "y = iris.target\n",
        "\n",
        "# Split the dataset into a training set and a test set\n",
        "X_train, X_test, y_train, y_test = train_test_split(X, y, test_size=0.2, random_state=42)\n",
        "\n",
        "# Create an SVM Classifier\n",
        "clf = svm.SVC(kernel='rbf', gamma=1, C=1)\n",
        "\n",
        "# Train the Classifier using the training data\n",
        "clf.fit(X_train, y_train)\n",
        "\n",
        "# Use the trained Classifier to predict the labels of the test data\n",
        "y_pred = clf.predict(X_test)\n",
        "\n",
        "# Evaluate the accuracy of the Classifier\n",
        "accuracy = metrics.accuracy_score(y_test, y_pred)\n",
        "print(\"Accuracy:\", accuracy)\n",
        "\n",
        "# Print the classification report\n",
        "print(\"Classification Report:\")\n",
        "print(metrics.classification_report(y_test, y_pred))\n",
        "\n",
        "# Print the confusion matrix\n",
        "print(\"Confusion Matrix:\")\n",
        "print(metrics.confusion_matrix(y_test, y_pred))\n"
      ],
      "metadata": {
        "colab": {
          "base_uri": "https://localhost:8080/"
        },
        "id": "cFTjZ__El1V0",
        "outputId": "de897f54-03f0-4988-cf02-da03e6a1a6de"
      },
      "execution_count": null,
      "outputs": [
        {
          "output_type": "stream",
          "name": "stdout",
          "text": [
            "Accuracy: 1.0\n",
            "Classification Report:\n",
            "              precision    recall  f1-score   support\n",
            "\n",
            "           0       1.00      1.00      1.00        10\n",
            "           1       1.00      1.00      1.00         9\n",
            "           2       1.00      1.00      1.00        11\n",
            "\n",
            "    accuracy                           1.00        30\n",
            "   macro avg       1.00      1.00      1.00        30\n",
            "weighted avg       1.00      1.00      1.00        30\n",
            "\n",
            "Confusion Matrix:\n",
            "[[10  0  0]\n",
            " [ 0  9  0]\n",
            " [ 0  0 11]]\n"
          ]
        }
      ]
    },
    {
      "cell_type": "markdown",
      "source": [
        "##Q22 : Write a Python program to train two SVM classifiers with Linear and RBF kernels on the Wine dataset, then compare their accuracies."
      ],
      "metadata": {
        "id": "z7lFUEJRmEfl"
      }
    },
    {
      "cell_type": "code",
      "source": [
        "#ans :\n",
        "\n",
        "# Import necessary libraries\n",
        "from sklearn import datasets\n",
        "from sklearn.model_selection import train_test_split\n",
        "from sklearn import svm\n",
        "from sklearn import metrics\n",
        "\n",
        "# Load the Wine dataset\n",
        "wine = datasets.load_wine()\n",
        "\n",
        "# Define the feature matrix (X) and the response vector (y)\n",
        "X = wine.data\n",
        "y = wine.target\n",
        "\n",
        "# Split the dataset into a training set and a test set\n",
        "X_train, X_test, y_train, y_test = train_test_split(X, y, test_size=0.2, random_state=42)\n",
        "\n",
        "# Create an SVM Classifier with a Linear kernel\n",
        "clf_linear = svm.SVC(kernel='linear', C=1)\n",
        "\n",
        "# Train the Linear SVM Classifier using the training data\n",
        "clf_linear.fit(X_train, y_train)\n",
        "\n",
        "# Create an SVM Classifier with an RBF kernel\n",
        "clf_rbf = svm.SVC(kernel='rbf', gamma=1, C=1)\n",
        "\n",
        "# Train the RBF SVM Classifier using the training data\n",
        "clf_rbf.fit(X_train, y_train)\n",
        "\n",
        "# Use the trained Classifiers to predict the labels of the test data\n",
        "y_pred_linear = clf_linear.predict(X_test)\n",
        "y_pred_rbf = clf_rbf.predict(X_test)\n",
        "\n",
        "# Evaluate the accuracy of the Classifiers\n",
        "accuracy_linear = metrics.accuracy_score(y_test, y_pred_linear)\n",
        "accuracy_rbf = metrics.accuracy_score(y_test, y_pred_rbf)\n",
        "\n",
        "# Print the accuracy of the Classifiers\n",
        "print(\"Linear SVM Accuracy:\", accuracy_linear)\n",
        "print(\"RBF SVM Accuracy:\", accuracy_rbf)\n",
        "\n",
        "# Compare the accuracy of the Classifiers\n",
        "if accuracy_linear > accuracy_rbf:\n",
        "    print(\"Linear SVM Classifier is more accurate.\")\n",
        "elif accuracy_rbf > accuracy_linear:\n",
        "    print(\"RBF SVM Classifier is more accurate.\")\n",
        "else:\n",
        "    print(\"Both Classifiers have the same accuracy.\")\n"
      ],
      "metadata": {
        "colab": {
          "base_uri": "https://localhost:8080/"
        },
        "id": "KD9Ost3WmKzY",
        "outputId": "7a305b57-dd01-4243-df75-b631d8b3b361"
      },
      "execution_count": null,
      "outputs": [
        {
          "output_type": "stream",
          "name": "stdout",
          "text": [
            "Linear SVM Accuracy: 1.0\n",
            "RBF SVM Accuracy: 0.3888888888888889\n",
            "Linear SVM Classifier is more accurate.\n"
          ]
        }
      ]
    },
    {
      "cell_type": "markdown",
      "source": [
        "##Q23 : Write a Python program to train an SVM Regressor (SVR) on a housing dataset and evaluate it using Mean Squared Error (MSE)."
      ],
      "metadata": {
        "id": "YJ8okTAnmd-N"
      }
    },
    {
      "cell_type": "code",
      "source": [
        "#ans :\n",
        "\n",
        "# Import necessary libraries\n",
        "from sklearn import datasets\n",
        "from sklearn.model_selection import train_test_split\n",
        "from sklearn import svm\n",
        "from sklearn import metrics\n",
        "import numpy as np\n",
        "from sklearn.datasets import fetch_california_housing\n",
        "\n",
        "\n",
        "# Load the California housing dataset\n",
        "housing = fetch_california_housing()\n",
        "\n",
        "# Define the feature matrix (X) and the response vector (y)\n",
        "X = housing.data\n",
        "y = housing.target\n",
        "\n",
        "# Split the dataset into a training set and a test set\n",
        "X_train, X_test, y_train, y_test = train_test_split(X, y, test_size=0.2, random_state=42)\n",
        "\n",
        "# Create an SVM Regressor (SVR)\n",
        "svr = svm.SVR(kernel='rbf', gamma=1, C=1)\n",
        "\n",
        "# Train the SVR using the training data\n",
        "svr.fit(X_train, y_train)\n",
        "\n",
        "# Use the trained SVR to predict the target values of the test data\n",
        "y_pred = svr.predict(X_test)\n",
        "\n",
        "# Evaluate the SVR using Mean Squared Error (MSE)\n",
        "mse = metrics.mean_squared_error(y_test, y_pred)\n",
        "print(\"Mean Squared Error (MSE):\", mse)\n",
        "\n",
        "# Evaluate the SVR using Root Mean Squared Error (RMSE)\n",
        "rmse = np.sqrt(mse)\n",
        "print(\"Root Mean Squared Error (RMSE):\", rmse)\n",
        "\n",
        "# Evaluate the SVR using Mean Absolute Error (MAE)\n",
        "mae = metrics.mean_absolute_error(y_test, y_pred)\n",
        "print(\"Mean Absolute Error (MAE):\", mae)\n",
        "\n",
        "# Evaluate the SVR using R-Squared (R2)\n",
        "r2 = metrics.r2_score(y_test, y_pred)\n",
        "print(\"R-Squared (R2):\", r2)"
      ],
      "metadata": {
        "colab": {
          "base_uri": "https://localhost:8080/"
        },
        "id": "1YjyWj3boE-g",
        "outputId": "f1cadeb1-0813-45f1-9ddf-e9ee777a001d"
      },
      "execution_count": null,
      "outputs": [
        {
          "output_type": "stream",
          "name": "stdout",
          "text": [
            "Mean Squared Error (MSE): 1.3242768729938779\n",
            "Root Mean Squared Error (RMSE): 1.150772294154616\n",
            "Mean Absolute Error (MAE): 0.8739227908891307\n",
            "R-Squared (R2): -0.01058287525745949\n"
          ]
        }
      ]
    },
    {
      "cell_type": "markdown",
      "source": [
        "##Q24 :  Write a Python program to train an SVM Classifier with a Polynomial Kernel and visualize the decision boundary."
      ],
      "metadata": {
        "id": "LCJX8F6rqNob"
      }
    },
    {
      "cell_type": "code",
      "source": [
        "#ans :\n",
        "\n",
        "# Import necessary libraries\n",
        "from sklearn import datasets\n",
        "from sklearn import svm\n",
        "import numpy as np\n",
        "import matplotlib.pyplot as plt\n",
        "\n",
        "# Load the Iris dataset\n",
        "iris = datasets.load_iris()\n",
        "\n",
        "# Define the feature matrix (X) and the response vector (y)\n",
        "X = iris.data[:, :2]\n",
        "y = iris.target\n",
        "\n",
        "# Create an SVM Classifier with a Polynomial Kernel\n",
        "clf = svm.SVC(kernel='poly', degree=2, gamma=1, C=1)\n",
        "\n",
        "# Train the Classifier using the training data\n",
        "clf.fit(X, y)\n",
        "\n",
        "# Create a meshgrid of the feature space\n",
        "h = .02\n",
        "x_min, x_max = X[:, 0].min() - 1, X[:, 0].max() + 1\n",
        "y_min, y_max = X[:, 1].min() - 1, X[:, 1].max() + 1\n",
        "xx, yy = np.meshgrid(np.arange(x_min, x_max, h),\n",
        "                         np.arange(y_min, y_max, h))\n",
        "\n",
        "# Make predictions on the meshgrid\n",
        "Z = clf.predict(np.c_[xx.ravel(), yy.ravel()])\n",
        "\n",
        "# Put the result into a color plot\n",
        "Z = Z.reshape(xx.shape)\n",
        "plt.contourf(xx, yy, Z, alpha=0.8)\n",
        "\n",
        "# the training points\n",
        "plt.scatter(X[:, 0], X[:, 1], c=y, s=20, edgecolor='k')\n",
        "plt.xlabel('Feature 1')\n",
        "plt.ylabel('Feature 2')\n",
        "plt.title('SVM Classifier with Polynomial Kernel')\n",
        "plt.show()\n"
      ],
      "metadata": {
        "colab": {
          "base_uri": "https://localhost:8080/",
          "height": 472
        },
        "id": "7FL-lN43qUkI",
        "outputId": "d75eb524-d3e0-4eb3-8b92-11303664feef"
      },
      "execution_count": null,
      "outputs": [
        {
          "output_type": "display_data",
          "data": {
            "text/plain": [
              "<Figure size 640x480 with 1 Axes>"
            ],
            "image/png": "[encoded data removed]"
          },
          "metadata": {}
        }
      ]
    },
    {
      "cell_type": "markdown",
      "source": [
        "##Q25 : Write a Python program to train a Gaussian Naïve Bayes classifier on the Breast Cancer dataset and evaluate accuracy."
      ],
      "metadata": {
        "id": "cMhbX83usSIy"
      }
    },
    {
      "cell_type": "code",
      "source": [
        "#ans :\n",
        "\n",
        "# Import necessary libraries\n",
        "from sklearn import datasets\n",
        "from sklearn.model_selection import train_test_split\n",
        "from sklearn.naive_bayes import GaussianNB\n",
        "from sklearn import metrics\n",
        "\n",
        "# Load the Breast Cancer dataset\n",
        "cancer = datasets.load_breast_cancer()\n",
        "\n",
        "# Define the feature matrix (X) and the response vector (y)\n",
        "X = cancer.data\n",
        "y = cancer.target\n",
        "\n",
        "# Split the dataset into a training set and a test set\n",
        "X_train, X_test, y_train, y_test = train_test_split(X, y, test_size=0.2, random_state=42)\n",
        "\n",
        "# Create a Gaussian Naïve Bayes classifier\n",
        "gnb = GaussianNB()\n",
        "\n",
        "# Train the classifier using the training data\n",
        "gnb.fit(X_train, y_train)\n",
        "\n",
        "# Use the trained classifier to predict the labels of the test data\n",
        "y_pred = gnb.predict(X_test)\n",
        "\n",
        "# Evaluate the accuracy of the classifier\n",
        "accuracy = metrics.accuracy_score(y_test, y_pred)\n",
        "print(\"Accuracy:\", accuracy)\n",
        "\n",
        "# Evaluate the classifier using classification report and confusion matrix\n",
        "print(\"Classification Report:\")\n",
        "print(metrics.classification_report(y_test, y_pred))\n",
        "print(\"Confusion Matrix:\")\n",
        "print(metrics.confusion_matrix(y_test, y_pred))\n"
      ],
      "metadata": {
        "colab": {
          "base_uri": "https://localhost:8080/"
        },
        "id": "5eu3Sg2ksYvG",
        "outputId": "de4f5050-9e62-4e38-8e7c-7287a3e250e2"
      },
      "execution_count": null,
      "outputs": [
        {
          "output_type": "stream",
          "name": "stdout",
          "text": [
            "Accuracy: 0.9736842105263158\n",
            "Classification Report:\n",
            "              precision    recall  f1-score   support\n",
            "\n",
            "           0       1.00      0.93      0.96        43\n",
            "           1       0.96      1.00      0.98        71\n",
            "\n",
            "    accuracy                           0.97       114\n",
            "   macro avg       0.98      0.97      0.97       114\n",
            "weighted avg       0.97      0.97      0.97       114\n",
            "\n",
            "Confusion Matrix:\n",
            "[[40  3]\n",
            " [ 0 71]]\n"
          ]
        }
      ]
    },
    {
      "cell_type": "markdown",
      "source": [
        "##Q26 : Write a Python program to train a Multinomial Naïve Bayes classifier for text classification using the 20 Newsgroups dataset."
      ],
      "metadata": {
        "id": "F_zpE3-ptFEW"
      }
    },
    {
      "cell_type": "code",
      "source": [
        "#ans :\n",
        "\n",
        "# Import necessary libraries\n",
        "from sklearn.datasets import fetch_20newsgroups\n",
        "from sklearn.model_selection import train_test_split\n",
        "from sklearn.feature_extraction.text import CountVectorizer\n",
        "from sklearn.naive_bayes import MultinomialNB\n",
        "from sklearn import metrics\n",
        "\n",
        "# Load the 20 Newsgroups dataset\n",
        "newsgroups_train = fetch_20newsgroups(subset='train')\n",
        "newsgroups_test = fetch_20newsgroups(subset='test')\n",
        "\n",
        "# Define the training and test data\n",
        "X_train = newsgroups_train.data\n",
        "y_train = newsgroups_train.target\n",
        "X_test = newsgroups_test.data\n",
        "y_test = newsgroups_test.target\n",
        "\n",
        "# Create a CountVectorizer object to convert text data into a matrix of token counts\n",
        "vectorizer = CountVectorizer(stop_words='english')\n",
        "\n",
        "# Fit the vectorizer to the training data and transform both the training and test data\n",
        "X_train_count = vectorizer.fit_transform(X_train)\n",
        "X_test_count = vectorizer.transform(X_test)\n",
        "\n",
        "# Create a Multinomial Naïve Bayes classifier\n",
        "clf = MultinomialNB()\n",
        "\n",
        "# Train the classifier using the training data\n",
        "clf.fit(X_train_count, y_train)\n",
        "\n",
        "# Use the trained classifier to predict the labels of the test data\n",
        "y_pred = clf.predict(X_test_count)\n",
        "\n",
        "# Evaluate the accuracy of the classifier\n",
        "accuracy = metrics.accuracy_score(y_test, y_pred)\n",
        "print(\"Accuracy:\", accuracy)\n",
        "\n",
        "# Evaluate the classifier using classification report and confusion matrix\n",
        "print(\"Classification Report:\")\n",
        "print(metrics.classification_report(y_test, y_pred))\n",
        "print(\"Confusion Matrix:\")\n",
        "print(metrics.confusion_matrix(y_test, y_pred))\n"
      ],
      "metadata": {
        "colab": {
          "base_uri": "https://localhost:8080/"
        },
        "id": "-w9SmfGXtNdI",
        "outputId": "1be4c2ce-5089-4bec-aea0-8dca6e6d991a"
      },
      "execution_count": null,
      "outputs": [
        {
          "output_type": "stream",
          "name": "stdout",
          "text": [
            "Accuracy: 0.8023101433882103\n",
            "Classification Report:\n",
            "              precision    recall  f1-score   support\n",
            "\n",
            "           0       0.80      0.81      0.80       319\n",
            "           1       0.65      0.80      0.72       389\n",
            "           2       0.80      0.04      0.08       394\n",
            "           3       0.55      0.80      0.65       392\n",
            "           4       0.85      0.79      0.82       385\n",
            "           5       0.69      0.84      0.76       395\n",
            "           6       0.89      0.74      0.81       390\n",
            "           7       0.89      0.92      0.91       396\n",
            "           8       0.95      0.94      0.95       398\n",
            "           9       0.95      0.92      0.93       397\n",
            "          10       0.92      0.97      0.94       399\n",
            "          11       0.80      0.96      0.87       396\n",
            "          12       0.79      0.70      0.74       393\n",
            "          13       0.88      0.87      0.87       396\n",
            "          14       0.84      0.92      0.88       394\n",
            "          15       0.81      0.95      0.87       398\n",
            "          16       0.72      0.93      0.81       364\n",
            "          17       0.93      0.94      0.94       376\n",
            "          18       0.68      0.62      0.65       310\n",
            "          19       0.88      0.44      0.59       251\n",
            "\n",
            "    accuracy                           0.80      7532\n",
            "   macro avg       0.81      0.79      0.78      7532\n",
            "weighted avg       0.81      0.80      0.78      7532\n",
            "\n",
            "Confusion Matrix:\n",
            "[[257   0   0   2   0   1   0   0   1   1   2   1   1   6   3  27   3   6\n",
            "    3   5]\n",
            " [  1 310   0  14   6  22   1   0   0   2   0  12   7   2   7   0   1   1\n",
            "    3   0]\n",
            " [  1  67  16 145  15  93   3   1   4   4   1  17   3   2   8   1   1   1\n",
            "   10   1]\n",
            " [  0  11   1 313  16  10   6   3   1   0   1   4  21   0   5   0   0   0\n",
            "    0   0]\n",
            " [  0  13   1  20 306   6   6   4   2   2   0   4  11   3   3   0   2   0\n",
            "    2   0]\n",
            " [  1  34   2  11   1 332   0   0   0   0   0   6   0   2   4   0   2   0\n",
            "    0   0]\n",
            " [  0   3   0  31  13   3 288  15   3   1   6   0  12   7   3   0   2   1\n",
            "    2   0]\n",
            " [  0   1   0   2   0   0   5 364   4   1   2   1   5   1   3   0   2   1\n",
            "    4   0]\n",
            " [  0   0   0   1   0   0   3  10 375   0   0   1   2   0   0   0   1   0\n",
            "    5   0]\n",
            " [  0   0   0   0   1   0   1   4   0 364  18   0   0   0   2   0   2   2\n",
            "    3   0]\n",
            " [  0   0   0   0   0   0   0   0   0   5 387   1   0   1   1   1   0   0\n",
            "    3   0]\n",
            " [  0   2   0   0   0   2   2   1   0   0   0 379   2   2   3   0   2   0\n",
            "    1   0]\n",
            " [  0  18   0  26   4   4   6   3   2   0   0  35 275   9   5   1   0   2\n",
            "    3   0]\n",
            " [  5   7   0   2   0   1   2   1   0   2   1   1   5 343   5   5   2   4\n",
            "   10   0]\n",
            " [  2   6   0   0   0   3   0   1   0   0   0   1   2   4 364   1   1   1\n",
            "    8   0]\n",
            " [  4   2   0   1   0   1   0   0   0   0   1   0   1   3   2 377   0   0\n",
            "    1   5]\n",
            " [  0   1   0   1   0   0   2   0   2   1   0   5   0   0   0   0 337   1\n",
            "   13   1]\n",
            " [  4   1   0   0   0   2   0   0   0   1   0   3   0   1   0   1   2 353\n",
            "    8   0]\n",
            " [  2   0   0   0   0   0   0   1   0   0   1   3   0   3  11   1  89   3\n",
            "  193   3]\n",
            " [ 44   2   0   0   0   1   0   0   0   0   1   1   0   3   4  50  22   3\n",
            "   10 110]]\n"
          ]
        }
      ]
    },
    {
      "cell_type": "markdown",
      "source": [
        "##Q27 : Write a Python program to train an SVM Classifier with different C values and compare the decision boundaries visually."
      ],
      "metadata": {
        "id": "o8Rg2oHRuwZb"
      }
    },
    {
      "cell_type": "code",
      "source": [
        "#ans :\n",
        "\n",
        "\n",
        "# Import necessary libraries\n",
        "from sklearn import datasets\n",
        "from sklearn import svm\n",
        "import numpy as np\n",
        "import matplotlib.pyplot as plt\n",
        "\n",
        "# Load the Iris dataset\n",
        "iris = datasets.load_iris()\n",
        "\n",
        "# Define the feature matrix (X) and the response vector (y)\n",
        "X = iris.data[:, :2]\n",
        "y = iris.target\n",
        "\n",
        "# Create a meshgrid of the feature space\n",
        "h = .02\n",
        "x_min, x_max = X[:, 0].min() - 1, X[:, 0].max() + 1\n",
        "y_min, y_max = X[:, 1].min() - 1, X[:, 1].max() + 1\n",
        "xx, yy = np.meshgrid(np.arange(x_min, x_max, h),\n",
        "                         np.arange(y_min, y_max, h))\n",
        "\n",
        "# Create a figure and a set of subplots\n",
        "fig, axs = plt.subplots(2, 2, figsize=(10, 8))\n",
        "\n",
        "# Train SVM Classifiers with different C values\n",
        "C_values = [0.1, 1, 10, 100]\n",
        "for i, C in enumerate(C_values):\n",
        "    clf = svm.SVC(kernel='linear', C=C)\n",
        "    clf.fit(X, y)\n",
        "\n",
        "    # Plot the decision boundary\n",
        "    Z = clf.predict(np.c_[xx.ravel(), yy.ravel()])\n",
        "    Z = Z.reshape(xx.shape)\n",
        "    axs[i // 2, i % 2].contourf(xx, yy, Z, alpha=0.8)\n",
        "\n",
        "    # Plot the training points\n",
        "    axs[i // 2, i % 2].scatter(X[:, 0], X[:, 1], c=y, s=20, edgecolor='k')\n",
        "\n",
        "    # Set the title of the subplot\n",
        "    axs[i // 2, i % 2].set_title(f\"C = {C}\")\n",
        "\n",
        "# Layout so plots do not overlap\n",
        "fig.tight_layout()\n",
        "\n",
        "plt.show()\n"
      ],
      "metadata": {
        "colab": {
          "base_uri": "https://localhost:8080/",
          "height": 807
        },
        "id": "PmtH_PqZu4b4",
        "outputId": "43977c4b-0156-4197-f4d8-a9998b2b8b45"
      },
      "execution_count": null,
      "outputs": [
        {
          "output_type": "display_data",
          "data": {
            "text/plain": [
              "<Figure size 1000x800 with 4 Axes>"
            ],
            "image/png": "[encoded data removed]"
          },
          "metadata": {}
        }
      ]
    },
    {
      "cell_type": "markdown",
      "source": [
        "##Q28 : Write a Python program to train a Bernoulli Naïve Bayes classifier for binary classification on a dataset with binary features."
      ],
      "metadata": {
        "id": "JF1h2kkfvqE2"
      }
    },
    {
      "cell_type": "code",
      "source": [
        "#ans :\n",
        "\n",
        "# Import necessary libraries\n",
        "from sklearn.naive_bayes import BernoulliNB\n",
        "from sklearn.datasets import make_classification\n",
        "from sklearn.model_selection import train_test_split\n",
        "from sklearn import metrics\n",
        "\n",
        "# Generate a random binary classification dataset\n",
        "X, y = make_classification(n_samples=1000, n_features=10, n_informative=5, n_redundant=3, n_repeated=2, n_classes=2, random_state=42)\n",
        "\n",
        "# Convert the feature matrix into binary features\n",
        "X_binary = (X > 0).astype(int)\n",
        "\n",
        "# Split the dataset into a training set and a test set\n",
        "X_train, X_test, y_train, y_test = train_test_split(X_binary, y, test_size=0.2, random_state=42)\n",
        "\n",
        "# Create a Bernoulli Naïve Bayes classifier\n",
        "bnb = BernoulliNB()\n",
        "\n",
        "# Train the classifier using the training data\n",
        "bnb.fit(X_train, y_train)\n",
        "\n",
        "# Use the trained classifier to predict the labels of the test data\n",
        "y_pred = bnb.predict(X_test)\n",
        "\n",
        "# Evaluate the accuracy of the classifier\n",
        "accuracy = metrics.accuracy_score(y_test, y_pred)\n",
        "print(\"Accuracy:\", accuracy)\n",
        "\n",
        "# Evaluate the classifier using classification report and confusion matrix\n",
        "print(\"Classification Report:\")\n",
        "print(metrics.classification_report(y_test, y_pred))\n",
        "print(\"Confusion Matrix:\")\n",
        "print(metrics.confusion_matrix(y_test, y_pred))\n"
      ],
      "metadata": {
        "colab": {
          "base_uri": "https://localhost:8080/"
        },
        "id": "FcF5LHlIvv5J",
        "outputId": "9b3d7708-cf81-4365-d63a-e9ab28c2707c"
      },
      "execution_count": null,
      "outputs": [
        {
          "output_type": "stream",
          "name": "stdout",
          "text": [
            "Accuracy: 0.765\n",
            "Classification Report:\n",
            "              precision    recall  f1-score   support\n",
            "\n",
            "           0       0.81      0.69      0.74        99\n",
            "           1       0.73      0.84      0.78       101\n",
            "\n",
            "    accuracy                           0.77       200\n",
            "   macro avg       0.77      0.76      0.76       200\n",
            "weighted avg       0.77      0.77      0.76       200\n",
            "\n",
            "Confusion Matrix:\n",
            "[[68 31]\n",
            " [16 85]]\n"
          ]
        }
      ]
    },
    {
      "cell_type": "markdown",
      "source": [
        "##Q29 : Write a Python program to apply feature scaling before training an SVM model and compare results with unscaled data."
      ],
      "metadata": {
        "id": "-oEvjkE7wp9n"
      }
    },
    {
      "cell_type": "code",
      "source": [
        "#ans :\n",
        "\n",
        "# Import necessary libraries\n",
        "from sklearn import datasets\n",
        "from sklearn.model_selection import train_test_split\n",
        "from sklearn import svm\n",
        "from sklearn.preprocessing import StandardScaler\n",
        "from sklearn import metrics\n",
        "import numpy as np\n",
        "\n",
        "# Load the Iris dataset\n",
        "iris = datasets.load_iris()\n",
        "\n",
        "# Define the feature matrix (X) and the response vector (y)\n",
        "X = iris.data\n",
        "y = iris.target\n",
        "\n",
        "# Split the dataset into a training set and a test set\n",
        "X_train, X_test, y_train, y_test = train_test_split(X, y, test_size=0.2, random_state=42)\n",
        "\n",
        "# Create an SVM model without feature scaling\n",
        "svm_unscaled = svm.SVC(kernel='rbf', gamma=1, C=1)\n",
        "svm_unscaled.fit(X_train, y_train)\n",
        "y_pred_unscaled = svm_unscaled.predict(X_test)\n",
        "accuracy_unscaled = metrics.accuracy_score(y_test, y_pred_unscaled)\n",
        "print(\"Accuracy without feature scaling:\", accuracy_unscaled)\n",
        "\n",
        "# Apply feature scaling using StandardScaler\n",
        "scaler = StandardScaler()\n",
        "X_train_scaled = scaler.fit_transform(X_train)\n",
        "X_test_scaled = scaler.transform(X_test)\n",
        "\n",
        "# Create an SVM model with feature scaling\n",
        "svm_scaled = svm.SVC(kernel='rbf', gamma=1, C=1)\n",
        "svm_scaled.fit(X_train_scaled, y_train)\n",
        "y_pred_scaled = svm_scaled.predict(X_test_scaled)\n",
        "accuracy_scaled = metrics.accuracy_score(y_test, y_pred_scaled)\n",
        "print(\"Accuracy with feature scaling:\", accuracy_scaled)\n",
        "\n",
        "# Compare the results\n",
        "if accuracy_scaled > accuracy_unscaled:\n",
        "    print(\"Feature scaling improves the accuracy of the SVM model.\")\n",
        "elif accuracy_scaled < accuracy_unscaled:\n",
        "    print(\"Feature scaling does not improve the accuracy of the SVM model.\")\n",
        "else:\n",
        "    print(\"Feature scaling has no effect on the accuracy of the SVM model.\")\n"
      ],
      "metadata": {
        "colab": {
          "base_uri": "https://localhost:8080/"
        },
        "id": "xIY9WxM2wynD",
        "outputId": "b1725812-e068-42bf-d4aa-ddd05c45c691"
      },
      "execution_count": null,
      "outputs": [
        {
          "output_type": "stream",
          "name": "stdout",
          "text": [
            "Accuracy without feature scaling: 1.0\n",
            "Accuracy with feature scaling: 1.0\n",
            "Feature scaling has no effect on the accuracy of the SVM model.\n"
          ]
        }
      ]
    },
    {
      "cell_type": "markdown",
      "source": [
        "##Q30 :  Write a Python program to train a Gaussian Naïve Bayes model and compare the predictions before and after Laplace Smoothing."
      ],
      "metadata": {
        "id": "E5GBcbCkxP-e"
      }
    },
    {
      "cell_type": "code",
      "source": [
        "#ans :\n",
        "\n",
        "\n",
        "# Import necessary libraries\n",
        "from sklearn.datasets import load_iris\n",
        "from sklearn.model_selection import train_test_split\n",
        "from sklearn.naive_bayes import GaussianNB\n",
        "from sklearn.preprocessing import LabelEncoder\n",
        "import numpy as np\n",
        "import pandas as pd\n",
        "\n",
        "# Load the Iris dataset\n",
        "iris = load_iris()\n",
        "X = iris.data\n",
        "y = iris.target\n",
        "\n",
        "# Split the dataset into a training set and a test set\n",
        "X_train, X_test, y_train, y_test = train_test_split(X, y, test_size=0.2, random_state=42)\n",
        "\n",
        "# Create a Gaussian Naïve Bayes model without Laplace Smoothing\n",
        "gnb = GaussianNB()\n",
        "gnb.fit(X_train, y_train)\n",
        "y_pred_before_smoothing = gnb.predict(X_test)\n",
        "\n",
        "# Apply Laplace Smoothing using a custom function\n",
        "def laplace_smoothing(X, y, alpha=1):\n",
        "    X_smoothed = X.copy()\n",
        "    y_smoothed = y.copy()\n",
        "    for i in range(X.shape[1]):\n",
        "        X_smoothed[:, i] = (X[:, i] + alpha) / (1 + 2 * alpha)\n",
        "    return X_smoothed, y_smoothed\n",
        "\n",
        "X_train_smoothed, y_train_smoothed = laplace_smoothing(X_train, y_train)\n",
        "gnb_smoothed = GaussianNB()\n",
        "gnb_smoothed.fit(X_train_smoothed, y_train_smoothed)\n",
        "y_pred_after_smoothing = gnb_smoothed.predict(X_test)\n",
        "\n",
        "# Compare the predictions before and after Laplace Smoothing\n",
        "print(\"Predictions before Laplace Smoothing:\")\n",
        "print(y_pred_before_smoothing)\n",
        "print(\"\\nPredictions after Laplace Smoothing:\")\n",
        "print(y_pred_after_smoothing)\n",
        "\n",
        "# Evaluate the accuracy of the models before and after Laplace Smoothing\n",
        "accuracy_before_smoothing = np.mean(y_pred_before_smoothing == y_test)\n",
        "accuracy_after_smoothing = np.mean(y_pred_after_smoothing == y_test)\n",
        "print(\"\\nAccuracy before Laplace Smoothing:\", accuracy_before_smoothing)\n",
        "print(\"Accuracy after Laplace Smoothing:\", accuracy_after_smoothing)\n"
      ],
      "metadata": {
        "colab": {
          "base_uri": "https://localhost:8080/"
        },
        "id": "le9NcCckxXSr",
        "outputId": "e6b869dd-7942-4037-cc79-f59c5ccf225e"
      },
      "execution_count": null,
      "outputs": [
        {
          "output_type": "stream",
          "name": "stdout",
          "text": [
            "Predictions before Laplace Smoothing:\n",
            "[1 0 2 1 1 0 1 2 1 1 2 0 0 0 0 1 2 1 1 2 0 2 0 2 2 2 2 2 0 0]\n",
            "\n",
            "Predictions after Laplace Smoothing:\n",
            "[2 2 2 2 2 2 2 2 2 2 2 2 2 2 2 2 2 2 2 2 2 2 2 2 2 2 2 2 2 2]\n",
            "\n",
            "Accuracy before Laplace Smoothing: 1.0\n",
            "Accuracy after Laplace Smoothing: 0.36666666666666664\n"
          ]
        }
      ]
    },
    {
      "cell_type": "markdown",
      "source": [
        "##Q31 : Write a Python program to train an SVM Classifier and use GridSearchCV to tune the hyperparameters (C, gamma, kernel)."
      ],
      "metadata": {
        "id": "3Vxd1b9P0JxK"
      }
    },
    {
      "cell_type": "code",
      "source": [
        "#ans :\n",
        "\n",
        "\n",
        "# Import necessary libraries\n",
        "from sklearn import datasets\n",
        "from sklearn.model_selection import train_test_split\n",
        "from sklearn import svm\n",
        "from sklearn.model_selection import GridSearchCV\n",
        "from sklearn import metrics\n",
        "\n",
        "# Load the Iris dataset\n",
        "iris = datasets.load_iris()\n",
        "\n",
        "# Define the feature matrix (X) and the response vector (y)\n",
        "X = iris.data\n",
        "y = iris.target\n",
        "\n",
        "# Split the dataset into a training set and a test set\n",
        "X_train, X_test, y_train, y_test = train_test_split(X, y, test_size=0.2, random_state=42)\n",
        "\n",
        "# Define the hyperparameter tuning space\n",
        "param_grid = {\n",
        "    'C': [0.1, 1, 10, 100],\n",
        "    'gamma': ['scale', 'auto'],\n",
        "    'kernel': ['linear', 'rbf', 'poly']\n",
        "}\n",
        "\n",
        "# Create an SVM Classifier\n",
        "svm_classifier = svm.SVC()\n",
        "\n",
        "# Create a GridSearchCV object\n",
        "grid_search = GridSearchCV(estimator=svm_classifier, param_grid=param_grid, cv=5)\n",
        "\n",
        "# Perform grid search\n",
        "grid_search.fit(X_train, y_train)\n",
        "\n",
        "# Print the best hyperparameters and the corresponding best score\n",
        "print(\"Best Hyperparameters:\", grid_search.best_params_)\n",
        "print(\"Best Score:\", grid_search.best_score_)\n",
        "\n",
        "# Evaluate the best model on the test set\n",
        "y_pred = grid_search.best_estimator_.predict(X_test)\n",
        "accuracy = metrics.accuracy_score(y_test, y_pred)\n",
        "print(\"Test Accuracy:\", accuracy)\n",
        "\n",
        "# Print the classification report\n",
        "print(\"Classification Report:\")\n",
        "print(metrics.classification_report(y_test, y_pred))\n",
        "\n",
        "# Print the confusion matrix\n",
        "print(\"Confusion Matrix:\")\n",
        "print(metrics.confusion_matrix(y_test, y_pred))\n"
      ],
      "metadata": {
        "colab": {
          "base_uri": "https://localhost:8080/"
        },
        "id": "eUzol0eK0VAy",
        "outputId": "eea4229a-ac28-4b7e-a052-8cce3a46e421"
      },
      "execution_count": null,
      "outputs": [
        {
          "output_type": "stream",
          "name": "stdout",
          "text": [
            "Best Hyperparameters: {'C': 1, 'gamma': 'scale', 'kernel': 'linear'}\n",
            "Best Score: 0.9583333333333334\n",
            "Test Accuracy: 1.0\n",
            "Classification Report:\n",
            "              precision    recall  f1-score   support\n",
            "\n",
            "           0       1.00      1.00      1.00        10\n",
            "           1       1.00      1.00      1.00         9\n",
            "           2       1.00      1.00      1.00        11\n",
            "\n",
            "    accuracy                           1.00        30\n",
            "   macro avg       1.00      1.00      1.00        30\n",
            "weighted avg       1.00      1.00      1.00        30\n",
            "\n",
            "Confusion Matrix:\n",
            "[[10  0  0]\n",
            " [ 0  9  0]\n",
            " [ 0  0 11]]\n"
          ]
        }
      ]
    },
    {
      "cell_type": "markdown",
      "source": [
        "##Q32 : Write a Python program to train an SVM Classifier on an imbalanced dataset and apply class weighting and check it improve accuracy."
      ],
      "metadata": {
        "id": "tGf179hM01KO"
      }
    },
    {
      "cell_type": "code",
      "source": [
        "#ans :\n",
        "\n",
        "\n",
        "# Import necessary libraries\n",
        "from sklearn.datasets import make_classification\n",
        "from sklearn.model_selection import train_test_split\n",
        "from sklearn import svm\n",
        "from sklearn.utils.class_weight import compute_class_weight\n",
        "from sklearn.preprocessing import LabelEncoder\n",
        "from sklearn import metrics\n",
        "import numpy as np\n",
        "\n",
        "# Generate an imbalanced classification dataset\n",
        "X, y = make_classification(n_samples=1000, n_features=10, n_informative=5, n_redundant=3, n_repeated=2, n_classes=2, n_clusters_per_class=1, weights=[0.9, 0.1], random_state=42)\n",
        "\n",
        "# Split the dataset into a training set and a test set\n",
        "X_train, X_test, y_train, y_test = train_test_split(X, y, test_size=0.2, random_state=42)\n",
        "\n",
        "# Compute the class weights\n",
        "class_weights = compute_class_weight(class_weight='balanced', classes=np.unique(y_train), y=y_train)\n",
        "class_weights = dict(enumerate(class_weights))\n",
        "\n",
        "# Create an SVM Classifier without class weighting\n",
        "svm_classifier_without_weighting = svm.SVC(kernel='rbf', gamma=1, C=1)\n",
        "svm_classifier_without_weighting.fit(X_train, y_train)\n",
        "y_pred_without_weighting = svm_classifier_without_weighting.predict(X_test)\n",
        "accuracy_without_weighting = metrics.accuracy_score(y_test, y_pred_without_weighting)\n",
        "print(\"Accuracy without class weighting:\", accuracy_without_weighting)\n",
        "\n",
        "# Create an SVM Classifier with class weighting\n",
        "svm_classifier_with_weighting = svm.SVC(kernel='rbf', gamma=1, C=1, class_weight=class_weights)\n",
        "svm_classifier_with_weighting.fit(X_train, y_train)\n",
        "y_pred_with_weighting = svm_classifier_with_weighting.predict(X_test)\n",
        "accuracy_with_weighting = metrics.accuracy_score(y_test, y_pred_with_weighting)\n",
        "print(\"Accuracy with class weighting:\", accuracy_with_weighting)\n",
        "\n",
        "# Compare the accuracy with and without class weighting\n",
        "if accuracy_with_weighting > accuracy_without_weighting:\n",
        "    print(\"Class weighting improves the accuracy of the SVM Classifier.\")\n",
        "elif accuracy_with_weighting < accuracy_without_weighting:\n",
        "    print(\"Class weighting does not improve the accuracy of the SVM Classifier.\")\n",
        "else:\n",
        "    print(\"Class weighting has no effect on the accuracy of the SVM Classifier.\")\n",
        "\n",
        "# Print the classification report\n",
        "print(\"Classification Report without class weighting:\")\n",
        "print(metrics.classification_report(y_test, y_pred_without_weighting))\n",
        "print(\"Classification Report with class weighting:\")\n",
        "print(metrics.classification_report(y_test, y_pred_with_weighting))\n",
        "\n",
        "# Print the confusion matrix\n",
        "print(\"Confusion Matrix without class weighting:\")\n",
        "print(metrics.confusion_matrix(y_test, y_pred_without_weighting))\n",
        "print(\"Confusion Matrix with class weighting:\")\n",
        "print(metrics.confusion_matrix(y_test, y_pred_with_weighting))\n"
      ],
      "metadata": {
        "colab": {
          "base_uri": "https://localhost:8080/"
        },
        "id": "P4TSniuy06_I",
        "outputId": "dc9145f6-04d5-4260-c591-bd805c8393e2"
      },
      "execution_count": 5,
      "outputs": [
        {
          "output_type": "stream",
          "name": "stdout",
          "text": [
            "Accuracy without class weighting: 0.93\n",
            "Accuracy with class weighting: 0.955\n",
            "Class weighting improves the accuracy of the SVM Classifier.\n",
            "Classification Report without class weighting:\n",
            "              precision    recall  f1-score   support\n",
            "\n",
            "           0       0.93      1.00      0.96       184\n",
            "           1       1.00      0.12      0.22        16\n",
            "\n",
            "    accuracy                           0.93       200\n",
            "   macro avg       0.96      0.56      0.59       200\n",
            "weighted avg       0.93      0.93      0.90       200\n",
            "\n",
            "Classification Report with class weighting:\n",
            "              precision    recall  f1-score   support\n",
            "\n",
            "           0       0.95      1.00      0.98       184\n",
            "           1       1.00      0.44      0.61        16\n",
            "\n",
            "    accuracy                           0.95       200\n",
            "   macro avg       0.98      0.72      0.79       200\n",
            "weighted avg       0.96      0.95      0.95       200\n",
            "\n",
            "Confusion Matrix without class weighting:\n",
            "[[184   0]\n",
            " [ 14   2]]\n",
            "Confusion Matrix with class weighting:\n",
            "[[184   0]\n",
            " [  9   7]]\n"
          ]
        }
      ]
    },
    {
      "cell_type": "markdown",
      "source": [
        "##Q33 : Write a Python program to implement a Naïve Bayes classifier for spam detection using email data."
      ],
      "metadata": {
        "id": "FpGJcE5F_pCS"
      }
    },
    {
      "cell_type": "code",
      "source": [
        "!pip install scikit-learn pandas"
      ],
      "metadata": {
        "colab": {
          "base_uri": "https://localhost:8080/"
        },
        "id": "_qm6NarQFqN7",
        "outputId": "51db2a54-c4da-451d-b5a3-ab4833bc8514"
      },
      "execution_count": 7,
      "outputs": [
        {
          "output_type": "stream",
          "name": "stdout",
          "text": [
            "Requirement already satisfied: scikit-learn in /usr/local/lib/python3.11/dist-packages (1.6.1)\n",
            "Requirement already satisfied: pandas in /usr/local/lib/python3.11/dist-packages (2.2.2)\n",
            "Requirement already satisfied: numpy>=1.19.5 in /usr/local/lib/python3.11/dist-packages (from scikit-learn) (2.0.2)\n",
            "Requirement already satisfied: scipy>=1.6.0 in /usr/local/lib/python3.11/dist-packages (from scikit-learn) (1.14.1)\n",
            "Requirement already satisfied: joblib>=1.2.0 in /usr/local/lib/python3.11/dist-packages (from scikit-learn) (1.4.2)\n",
            "Requirement already satisfied: threadpoolctl>=3.1.0 in /usr/local/lib/python3.11/dist-packages (from scikit-learn) (3.6.0)\n",
            "Requirement already satisfied: python-dateutil>=2.8.2 in /usr/local/lib/python3.11/dist-packages (from pandas) (2.8.2)\n",
            "Requirement already satisfied: pytz>=2020.1 in /usr/local/lib/python3.11/dist-packages (from pandas) (2025.1)\n",
            "Requirement already satisfied: tzdata>=2022.7 in /usr/local/lib/python3.11/dist-packages (from pandas) (2025.1)\n",
            "Requirement already satisfied: six>=1.5 in /usr/local/lib/python3.11/dist-packages (from python-dateutil>=2.8.2->pandas) (1.17.0)\n"
          ]
        }
      ]
    },
    {
      "cell_type": "code",
      "source": [
        "#ans :\n",
        "\n",
        "import pandas as pd\n",
        "from sklearn.model_selection import train_test_split\n",
        "from sklearn.feature_extraction.text import CountVectorizer\n",
        "from sklearn.naive_bayes import MultinomialNB\n",
        "from sklearn.metrics import accuracy_score, classification_report, confusion_matrix\n",
        "\n",
        "# Sample email data\n",
        "data = {\n",
        "    'text': [\n",
        "        'Congratulations! You have won a $1000 Walmart gift card. Click here to claim now.',\n",
        "        'Hi John, can we schedule a meeting for tomorrow?',\n",
        "        'You have been selected for a free iPhone. Click here to claim your prize.',\n",
        "        'Reminder: Your appointment is scheduled for 10 AM tomorrow.',\n",
        "        'Earn extra cash from home. Click here to learn more.',\n",
        "        'Your account has been compromised. Please reset your password.',\n",
        "        'Hey, are we still on for the game tonight?',\n",
        "        'Get a free laptop by completing this survey.',\n",
        "        'Your invoice for the month of October is ready.',\n",
        "        'You have a new friend request on Facebook.'\n",
        "    ],\n",
        "    'label': [\n",
        "        'spam', 'ham', 'spam', 'ham', 'spam', 'spam', 'ham', 'spam', 'ham', 'ham'\n",
        "    ]\n",
        "}\n",
        "\n",
        "# Convert the data into a DataFrame\n",
        "df = pd.DataFrame(data)\n",
        "\n",
        "# Split the data into training and testing sets\n",
        "X_train, X_test, y_train, y_test = train_test_split(df['text'], df['label'], test_size=0.3, random_state=42)\n",
        "\n",
        "# Convert text data into feature vectors\n",
        "vectorizer = CountVectorizer()\n",
        "X_train_vec = vectorizer.fit_transform(X_train)\n",
        "X_test_vec = vectorizer.transform(X_test)\n",
        "\n",
        "# Train the Naïve Bayes classifier\n",
        "classifier = MultinomialNB()\n",
        "classifier.fit(X_train_vec, y_train)\n",
        "\n",
        "# Make predictions on the test set\n",
        "y_pred = classifier.predict(X_test_vec)\n",
        "\n",
        "# Evaluate the classifier\n",
        "print(\"Accuracy:\", accuracy_score(y_test, y_pred))\n",
        "print(\"\\nConfusion Matrix:\\n\", confusion_matrix(y_test, y_pred))\n",
        "print(\"\\nClassification Report:\\n\", classification_report(y_test, y_pred))\n",
        "\n",
        "# Example of predicting a new email\n",
        "new_email = [\"Congratulations! You've won a free ticket to Bahamas.\"]\n",
        "new_email_vec = vectorizer.transform(new_email)\n",
        "prediction = classifier.predict(new_email_vec)\n",
        "print(\"\\nPrediction for new email:\", prediction[0])"
      ],
      "metadata": {
        "colab": {
          "base_uri": "https://localhost:8080/"
        },
        "id": "-RhRipVfGQg9",
        "outputId": "17008aa0-e995-4c9c-f974-c603cac7fb5d"
      },
      "execution_count": 8,
      "outputs": [
        {
          "output_type": "stream",
          "name": "stdout",
          "text": [
            "Accuracy: 1.0\n",
            "\n",
            "Confusion Matrix:\n",
            " [[2 0]\n",
            " [0 1]]\n",
            "\n",
            "Classification Report:\n",
            "               precision    recall  f1-score   support\n",
            "\n",
            "         ham       1.00      1.00      1.00         2\n",
            "        spam       1.00      1.00      1.00         1\n",
            "\n",
            "    accuracy                           1.00         3\n",
            "   macro avg       1.00      1.00      1.00         3\n",
            "weighted avg       1.00      1.00      1.00         3\n",
            "\n",
            "\n",
            "Prediction for new email: spam\n"
          ]
        }
      ]
    },
    {
      "cell_type": "markdown",
      "source": [
        "##Q34 : Write a Python program to train an SVM Classifier and a Naïve Bayes Classifier on the same dataset and compare their accuracy."
      ],
      "metadata": {
        "id": "JRvz7tyOGeuz"
      }
    },
    {
      "cell_type": "code",
      "source": [
        "#ans :\n",
        "\n",
        "#Import necessary libraries\n",
        "from sklearn import datasets\n",
        "from sklearn.model_selection import train_test_split\n",
        "from sklearn import svm\n",
        "from sklearn.naive_bayes import GaussianNB\n",
        "from sklearn import metrics\n",
        "import numpy as np\n",
        "\n",
        "# Load the Iris dataset\n",
        "iris = datasets.load_iris()\n",
        "\n",
        "# Define the feature matrix (X) and the response vector (y)\n",
        "X = iris.data\n",
        "y = iris.target\n",
        "\n",
        "# Split the dataset into a training set and a test set\n",
        "X_train, X_test, y_train, y_test = train_test_split(X, y, test_size=0.2, random_state=42)\n",
        "\n",
        "# Create an SVM Classifier\n",
        "svm_classifier = svm.SVC(kernel='rbf', gamma=1, C=1)\n",
        "svm_classifier.fit(X_train, y_train)\n",
        "y_pred_svm = svm_classifier.predict(X_test)\n",
        "accuracy_svm = metrics.accuracy_score(y_test, y_pred_svm)\n",
        "print(\"SVM Classifier Accuracy:\", accuracy_svm)\n",
        "\n",
        "# Create a Naïve Bayes Classifier\n",
        "nb_classifier = GaussianNB()\n",
        "nb_classifier.fit(X_train, y_train)\n",
        "y_pred_nb = nb_classifier.predict(X_test)\n",
        "accuracy_nb = metrics.accuracy_score(y_test, y_pred_nb)\n",
        "print(\"Naïve Bayes Classifier Accuracy:\", accuracy_nb)\n",
        "\n",
        "# Compare the accuracy of the two Classifiers\n",
        "if accuracy_svm > accuracy_nb:\n",
        "    print(\"SVM Classifier is more accurate than Naïve Bayes Classifier.\")\n",
        "elif accuracy_svm < accuracy_nb:\n",
        "    print(\"Naïve Bayes Classifier is more accurate than SVM Classifier.\")\n",
        "else:\n",
        "    print(\"Both Classifiers have the same accuracy.\")\n",
        "\n",
        "# Print the classification report for both Classifiers\n",
        "print(\"SVM Classifier Classification Report:\")\n",
        "print(metrics.classification_report(y_test, y_pred_svm))\n",
        "print(\"Naïve Bayes Classifier Classification Report:\")\n",
        "print(metrics.classification_report(y_test, y_pred_nb))\n",
        "\n",
        "# Print the confusion matrix for both Classifiers\n",
        "print(\"SVM Classifier Confusion Matrix:\")\n",
        "print(metrics.confusion_matrix(y_test, y_pred_svm))\n",
        "print(\"Naïve Bayes Classifier Confusion Matrix:\")\n",
        "print(metrics.confusion_matrix(y_test, y_pred_nb))\n"
      ],
      "metadata": {
        "colab": {
          "base_uri": "https://localhost:8080/"
        },
        "id": "eFN7GRw3GkLT",
        "outputId": "c42524c3-fe50-43c3-d243-9dbbeafde613"
      },
      "execution_count": 9,
      "outputs": [
        {
          "output_type": "stream",
          "name": "stdout",
          "text": [
            "SVM Classifier Accuracy: 1.0\n",
            "Naïve Bayes Classifier Accuracy: 1.0\n",
            "Both Classifiers have the same accuracy.\n",
            "SVM Classifier Classification Report:\n",
            "              precision    recall  f1-score   support\n",
            "\n",
            "           0       1.00      1.00      1.00        10\n",
            "           1       1.00      1.00      1.00         9\n",
            "           2       1.00      1.00      1.00        11\n",
            "\n",
            "    accuracy                           1.00        30\n",
            "   macro avg       1.00      1.00      1.00        30\n",
            "weighted avg       1.00      1.00      1.00        30\n",
            "\n",
            "Naïve Bayes Classifier Classification Report:\n",
            "              precision    recall  f1-score   support\n",
            "\n",
            "           0       1.00      1.00      1.00        10\n",
            "           1       1.00      1.00      1.00         9\n",
            "           2       1.00      1.00      1.00        11\n",
            "\n",
            "    accuracy                           1.00        30\n",
            "   macro avg       1.00      1.00      1.00        30\n",
            "weighted avg       1.00      1.00      1.00        30\n",
            "\n",
            "SVM Classifier Confusion Matrix:\n",
            "[[10  0  0]\n",
            " [ 0  9  0]\n",
            " [ 0  0 11]]\n",
            "Naïve Bayes Classifier Confusion Matrix:\n",
            "[[10  0  0]\n",
            " [ 0  9  0]\n",
            " [ 0  0 11]]\n"
          ]
        }
      ]
    },
    {
      "cell_type": "markdown",
      "source": [
        "##Q35 : Write a Python program to perform feature selection before training a Naïve Bayes classifier and compare results."
      ],
      "metadata": {
        "id": "sIVJGsXUG8_o"
      }
    },
    {
      "cell_type": "code",
      "source": [
        "#ans :\n",
        "\n",
        "\n",
        "# Import necessary libraries\n",
        "from sklearn.datasets import load_iris\n",
        "from sklearn.model_selection import train_test_split\n",
        "from sklearn.feature_selection import SelectKBest, chi2\n",
        "from sklearn.naive_bayes import GaussianNB\n",
        "from sklearn import metrics\n",
        "import numpy as np\n",
        "\n",
        "# Load the Iris dataset\n",
        "iris = load_iris()\n",
        "X = iris.data\n",
        "y = iris.target\n",
        "\n",
        "# Split the dataset into a training set and a test set\n",
        "X_train, X_test, y_train, y_test = train_test_split(X, y, test_size=0.2, random_state=42)\n",
        "\n",
        "# Train a Naïve Bayes classifier without feature selection\n",
        "nb_classifier_without_fs = GaussianNB()\n",
        "nb_classifier_without_fs.fit(X_train, y_train)\n",
        "y_pred_without_fs = nb_classifier_without_fs.predict(X_test)\n",
        "accuracy_without_fs = metrics.accuracy_score(y_test, y_pred_without_fs)\n",
        "print(\"Accuracy without feature selection:\", accuracy_without_fs)\n",
        "\n",
        "# Perform feature selection using chi-squared test\n",
        "selector = SelectKBest(chi2, k=2)\n",
        "X_train_fs = selector.fit_transform(X_train, y_train)\n",
        "X_test_fs = selector.transform(X_test)\n",
        "\n",
        "# Train a Naïve Bayes classifier with feature selection\n",
        "nb_classifier_with_fs = GaussianNB()\n",
        "nb_classifier_with_fs.fit(X_train_fs, y_train)\n",
        "y_pred_with_fs = nb_classifier_with_fs.predict(X_test_fs)\n",
        "accuracy_with_fs = metrics.accuracy_score(y_test, y_pred_with_fs)\n",
        "print(\"Accuracy with feature selection:\", accuracy_with_fs)\n",
        "\n",
        "# Compare the accuracy with and without feature selection\n",
        "if accuracy_with_fs > accuracy_without_fs:\n",
        "    print(\"Feature selection improves the accuracy of the Naïve Bayes classifier.\")\n",
        "elif accuracy_with_fs < accuracy_without_fs:\n",
        "    print(\"Feature selection does not improve the accuracy of the Naïve Bayes classifier.\")\n",
        "else:\n",
        "    print(\"Feature selection has no effect on the accuracy of the Naïve Bayes classifier.\")\n",
        "\n",
        "# Print the classification report for both Classifiers\n",
        "print(\"Classification Report without feature selection:\")\n",
        "print(metrics.classification_report(y_test, y_pred_without_fs))\n",
        "print(\"Classification Report with feature selection:\")\n",
        "print(metrics.classification_report(y_test, y_pred_with_fs))\n",
        "\n",
        "# Print the confusion matrix for both Classifiers\n",
        "print(\"Confusion Matrix without feature selection:\")\n",
        "print(metrics.confusion_matrix(y_test, y_pred_without_fs))\n",
        "print(\"Confusion Matrix with feature selection:\")\n",
        "print(metrics.confusion_matrix(y_test, y_pred_with_fs))\n"
      ],
      "metadata": {
        "colab": {
          "base_uri": "https://localhost:8080/"
        },
        "id": "QvpIAbtRHKPx",
        "outputId": "9d7a32e6-dc0d-4fcd-f9bd-a8897044109c"
      },
      "execution_count": 10,
      "outputs": [
        {
          "output_type": "stream",
          "name": "stdout",
          "text": [
            "Accuracy without feature selection: 1.0\n",
            "Accuracy with feature selection: 1.0\n",
            "Feature selection has no effect on the accuracy of the Naïve Bayes classifier.\n",
            "Classification Report without feature selection:\n",
            "              precision    recall  f1-score   support\n",
            "\n",
            "           0       1.00      1.00      1.00        10\n",
            "           1       1.00      1.00      1.00         9\n",
            "           2       1.00      1.00      1.00        11\n",
            "\n",
            "    accuracy                           1.00        30\n",
            "   macro avg       1.00      1.00      1.00        30\n",
            "weighted avg       1.00      1.00      1.00        30\n",
            "\n",
            "Classification Report with feature selection:\n",
            "              precision    recall  f1-score   support\n",
            "\n",
            "           0       1.00      1.00      1.00        10\n",
            "           1       1.00      1.00      1.00         9\n",
            "           2       1.00      1.00      1.00        11\n",
            "\n",
            "    accuracy                           1.00        30\n",
            "   macro avg       1.00      1.00      1.00        30\n",
            "weighted avg       1.00      1.00      1.00        30\n",
            "\n",
            "Confusion Matrix without feature selection:\n",
            "[[10  0  0]\n",
            " [ 0  9  0]\n",
            " [ 0  0 11]]\n",
            "Confusion Matrix with feature selection:\n",
            "[[10  0  0]\n",
            " [ 0  9  0]\n",
            " [ 0  0 11]]\n"
          ]
        }
      ]
    },
    {
      "cell_type": "markdown",
      "source": [
        "##Q36 : Write a Python program to train an SVM Classifier using One-vs-Rest (OvR) and One-vs-One (OvO) strategies on the Wine dataset and compare their accuracy."
      ],
      "metadata": {
        "id": "5DxDnvaoHoRN"
      }
    },
    {
      "cell_type": "code",
      "source": [
        "#ans :\n",
        "\n",
        "# Import necessary libraries\n",
        "from sklearn import datasets\n",
        "from sklearn.model_selection import train_test_split\n",
        "from sklearn import svm\n",
        "from sklearn import metrics\n",
        "import numpy as np\n",
        "\n",
        "# Load the Wine dataset\n",
        "wine = datasets.load_wine()\n",
        "\n",
        "# Define the feature matrix (X) and the response vector (y)\n",
        "X = wine.data\n",
        "y = wine.target\n",
        "\n",
        "# Split the dataset into a training set and a test set\n",
        "X_train, X_test, y_train, y_test = train_test_split(X, y, test_size=0.2, random_state=42)\n",
        "\n",
        "# Train an SVM Classifier using One-vs-Rest (OvR) strategy\n",
        "svm_ovr = svm.SVC(kernel='linear', decision_function_shape='ovr')\n",
        "svm_ovr.fit(X_train, y_train)\n",
        "y_pred_ovr = svm_ovr.predict(X_test)\n",
        "accuracy_ovr = metrics.accuracy_score(y_test, y_pred_ovr)\n",
        "print(\"Accuracy using One-vs-Rest (OvR) strategy:\", accuracy_ovr)\n",
        "\n",
        "# Train an SVM Classifier using One-vs-One (OvO) strategy\n",
        "svm_ovo = svm.SVC(kernel='linear', decision_function_shape='ovo')\n",
        "svm_ovo.fit(X_train, y_train)\n",
        "y_pred_ovo = svm_ovo.predict(X_test)\n",
        "accuracy_ovo = metrics.accuracy_score(y_test, y_pred_ovo)\n",
        "print(\"Accuracy using One-vs-One (OvO) strategy:\", accuracy_ovo)\n",
        "\n",
        "# Compare the accuracy of both strategies\n",
        "if accuracy_ovr > accuracy_ovo:\n",
        "    print(\"One-vs-Rest (OvR) strategy is more accurate than One-vs-One (OvO) strategy.\")\n",
        "elif accuracy_ovr < accuracy_ovo:\n",
        "    print(\"One-vs-One (OvO) strategy is more accurate than One-vs-Rest (OvR) strategy.\")\n",
        "else:\n",
        "    print(\"Both strategies have the same accuracy.\")\n",
        "\n",
        "# Print the classification report for both strategies\n",
        "print(\"Classification Report using One-vs-Rest (OvR) strategy:\")\n",
        "print(metrics.classification_report(y_test, y_pred_ovr))\n",
        "print(\"Classification Report using One-vs-One (OvO) strategy:\")\n",
        "print(metrics.classification_report(y_test, y_pred_ovo))\n",
        "\n",
        "# Print the confusion matrix for both strategies\n",
        "print(\"Confusion Matrix using One-vs-Rest (OvR) strategy:\")\n",
        "print(metrics.confusion_matrix(y_test, y_pred_ovr))\n",
        "print(\"Confusion Matrix using One-vs-One (OvO) strategy:\")\n",
        "print(metrics.confusion_matrix(y_test, y_pred_ovo))\n"
      ],
      "metadata": {
        "colab": {
          "base_uri": "https://localhost:8080/"
        },
        "id": "FUAiMVBwH1T3",
        "outputId": "a74c8966-dda9-477d-bdd2-5213e4067448"
      },
      "execution_count": 11,
      "outputs": [
        {
          "output_type": "stream",
          "name": "stdout",
          "text": [
            "Accuracy using One-vs-Rest (OvR) strategy: 1.0\n",
            "Accuracy using One-vs-One (OvO) strategy: 1.0\n",
            "Both strategies have the same accuracy.\n",
            "Classification Report using One-vs-Rest (OvR) strategy:\n",
            "              precision    recall  f1-score   support\n",
            "\n",
            "           0       1.00      1.00      1.00        14\n",
            "           1       1.00      1.00      1.00        14\n",
            "           2       1.00      1.00      1.00         8\n",
            "\n",
            "    accuracy                           1.00        36\n",
            "   macro avg       1.00      1.00      1.00        36\n",
            "weighted avg       1.00      1.00      1.00        36\n",
            "\n",
            "Classification Report using One-vs-One (OvO) strategy:\n",
            "              precision    recall  f1-score   support\n",
            "\n",
            "           0       1.00      1.00      1.00        14\n",
            "           1       1.00      1.00      1.00        14\n",
            "           2       1.00      1.00      1.00         8\n",
            "\n",
            "    accuracy                           1.00        36\n",
            "   macro avg       1.00      1.00      1.00        36\n",
            "weighted avg       1.00      1.00      1.00        36\n",
            "\n",
            "Confusion Matrix using One-vs-Rest (OvR) strategy:\n",
            "[[14  0  0]\n",
            " [ 0 14  0]\n",
            " [ 0  0  8]]\n",
            "Confusion Matrix using One-vs-One (OvO) strategy:\n",
            "[[14  0  0]\n",
            " [ 0 14  0]\n",
            " [ 0  0  8]]\n"
          ]
        }
      ]
    },
    {
      "cell_type": "markdown",
      "source": [
        "##Q37 : Write a Python program to train an SVM Classifier using Linear, Polynomial, and RBF kernels on the Breast Cancer dataset and compare their accuracy."
      ],
      "metadata": {
        "id": "W-PfIu3sK94K"
      }
    },
    {
      "cell_type": "code",
      "source": [
        "#ans :\n",
        "\n",
        "\n",
        "# Import necessary libraries\n",
        "from sklearn import datasets\n",
        "from sklearn.model_selection import train_test_split\n",
        "from sklearn import svm\n",
        "from sklearn import metrics\n",
        "import numpy as np\n",
        "\n",
        "# Load the Breast Cancer dataset\n",
        "breast_cancer = datasets.load_breast_cancer()\n",
        "\n",
        "# Define the feature matrix (X) and the response vector (y)\n",
        "X = breast_cancer.data\n",
        "y = breast_cancer.target\n",
        "\n",
        "# Split the dataset into a training set and a test set\n",
        "X_train, X_test, y_train, y_test = train_test_split(X, y, test_size=0.2, random_state=42)\n",
        "\n",
        "# Train an SVM Classifier using Linear kernel\n",
        "svm_linear = svm.SVC(kernel='linear', C=1)\n",
        "svm_linear.fit(X_train, y_train)\n",
        "y_pred_linear = svm_linear.predict(X_test)\n",
        "accuracy_linear = metrics.accuracy_score(y_test, y_pred_linear)\n",
        "print(\"Accuracy using Linear kernel:\", accuracy_linear)\n",
        "\n",
        "# Train an SVM Classifier using Polynomial kernel\n",
        "svm_polynomial = svm.SVC(kernel='poly', degree=3, C=1)\n",
        "svm_polynomial.fit(X_train, y_train)\n",
        "y_pred_polynomial = svm_polynomial.predict(X_test)\n",
        "accuracy_polynomial = metrics.accuracy_score(y_test, y_pred_polynomial)\n",
        "print(\"Accuracy using Polynomial kernel:\", accuracy_polynomial)\n",
        "\n",
        "# Train an SVM Classifier using RBF kernel\n",
        "svm_rbf = svm.SVC(kernel='rbf', C=1, gamma=1)\n",
        "svm_rbf.fit(X_train, y_train)\n",
        "y_pred_rbf = svm_rbf.predict(X_test)\n",
        "accuracy_rbf = metrics.accuracy_score(y_test, y_pred_rbf)\n",
        "print(\"Accuracy using RBF kernel:\", accuracy_rbf)\n",
        "\n",
        "# Compare the accuracy of all kernels\n",
        "kernels = ['Linear', 'Polynomial', 'RBF']\n",
        "accuracies = [accuracy_linear, accuracy_polynomial, accuracy_rbf]\n",
        "best_kernel_index = np.argmax(accuracies)\n",
        "print(f\"Best kernel: {kernels[best_kernel_index]} with accuracy: {accuracies[best_kernel_index]}\")\n",
        "\n",
        "# Print the classification report for all kernels\n",
        "print(\"Classification Report using Linear kernel:\")\n",
        "print(metrics.classification_report(y_test, y_pred_linear))\n",
        "print(\"Classification Report using Polynomial kernel:\")\n",
        "print(metrics.classification_report(y_test, y_pred_polynomial))\n",
        "print(\"Classification Report using RBF kernel:\")\n",
        "print(metrics.classification_report(y_test, y_pred_rbf))\n",
        "\n",
        "# Print the confusion matrix for all kernels\n",
        "print(\"Confusion Matrix using Linear kernel:\")\n",
        "print(metrics.confusion_matrix(y_test, y_pred_linear))\n",
        "print(\"Confusion Matrix using Polynomial kernel:\")\n",
        "print(metrics.confusion_matrix(y_test, y_pred_polynomial))\n",
        "print(\"Confusion Matrix using RBF kernel:\")\n",
        "print(metrics.confusion_matrix(y_test, y_pred_rbf))\n"
      ],
      "metadata": {
        "colab": {
          "base_uri": "https://localhost:8080/"
        },
        "id": "ecsn_wgOLE_t",
        "outputId": "4b90e31d-a205-44e9-8a7d-8edaa65f3dbc"
      },
      "execution_count": 12,
      "outputs": [
        {
          "output_type": "stream",
          "name": "stdout",
          "text": [
            "Accuracy using Linear kernel: 0.956140350877193\n",
            "Accuracy using Polynomial kernel: 0.9473684210526315\n",
            "Accuracy using RBF kernel: 0.6228070175438597\n",
            "Best kernel: Linear with accuracy: 0.956140350877193\n",
            "Classification Report using Linear kernel:\n",
            "              precision    recall  f1-score   support\n",
            "\n",
            "           0       0.97      0.91      0.94        43\n",
            "           1       0.95      0.99      0.97        71\n",
            "\n",
            "    accuracy                           0.96       114\n",
            "   macro avg       0.96      0.95      0.95       114\n",
            "weighted avg       0.96      0.96      0.96       114\n",
            "\n",
            "Classification Report using Polynomial kernel:\n",
            "              precision    recall  f1-score   support\n",
            "\n",
            "           0       1.00      0.86      0.93        43\n",
            "           1       0.92      1.00      0.96        71\n",
            "\n",
            "    accuracy                           0.95       114\n",
            "   macro avg       0.96      0.93      0.94       114\n",
            "weighted avg       0.95      0.95      0.95       114\n",
            "\n",
            "Classification Report using RBF kernel:\n",
            "              precision    recall  f1-score   support\n",
            "\n",
            "           0       0.00      0.00      0.00        43\n",
            "           1       0.62      1.00      0.77        71\n",
            "\n",
            "    accuracy                           0.62       114\n",
            "   macro avg       0.31      0.50      0.38       114\n",
            "weighted avg       0.39      0.62      0.48       114\n",
            "\n",
            "Confusion Matrix using Linear kernel:\n",
            "[[39  4]\n",
            " [ 1 70]]\n",
            "Confusion Matrix using Polynomial kernel:\n",
            "[[37  6]\n",
            " [ 0 71]]\n",
            "Confusion Matrix using RBF kernel:\n",
            "[[ 0 43]\n",
            " [ 0 71]]\n"
          ]
        },
        {
          "output_type": "stream",
          "name": "stderr",
          "text": [
            "/usr/local/lib/python3.11/dist-packages/sklearn/metrics/_classification.py:1565: UndefinedMetricWarning: Precision is ill-defined and being set to 0.0 in labels with no predicted samples. Use `zero_division` parameter to control this behavior.\n",
            "  _warn_prf(average, modifier, f\"{metric.capitalize()} is\", len(result))\n",
            "/usr/local/lib/python3.11/dist-packages/sklearn/metrics/_classification.py:1565: UndefinedMetricWarning: Precision is ill-defined and being set to 0.0 in labels with no predicted samples. Use `zero_division` parameter to control this behavior.\n",
            "  _warn_prf(average, modifier, f\"{metric.capitalize()} is\", len(result))\n",
            "/usr/local/lib/python3.11/dist-packages/sklearn/metrics/_classification.py:1565: UndefinedMetricWarning: Precision is ill-defined and being set to 0.0 in labels with no predicted samples. Use `zero_division` parameter to control this behavior.\n",
            "  _warn_prf(average, modifier, f\"{metric.capitalize()} is\", len(result))\n"
          ]
        }
      ]
    },
    {
      "cell_type": "markdown",
      "source": [
        "##Q38 : Write a Python program to train an SVM Classifier using Stratified K-Fold Cross-Validation and compute the average accuracy."
      ],
      "metadata": {
        "id": "w7dMN0CfMG-Y"
      }
    },
    {
      "cell_type": "code",
      "source": [
        "#ans :\n",
        "\n",
        "\n",
        "# Import necessary libraries\n",
        "from sklearn import datasets\n",
        "from sklearn.model_selection import StratifiedKFold\n",
        "from sklearn import svm\n",
        "from sklearn import metrics\n",
        "import numpy as np\n",
        "\n",
        "# Load the Iris dataset\n",
        "iris = datasets.load_iris()\n",
        "\n",
        "# Define the feature matrix (X) and the response vector (y)\n",
        "X = iris.data\n",
        "y = iris.target\n",
        "\n",
        "# Create a Stratified K-Fold Cross-Validation object\n",
        "skf = StratifiedKFold(n_splits=5, shuffle=True, random_state=42)\n",
        "\n",
        "# Initialize lists to store accuracy scores\n",
        "accuracy_scores = []\n",
        "\n",
        "# Perform Stratified K-Fold Cross-Validation\n",
        "for train_index, test_index in skf.split(X, y):\n",
        "    X_train, X_test = X[train_index], X[test_index]\n",
        "    y_train, y_test = y[train_index], y[test_index]\n",
        "\n",
        "    # Train an SVM Classifier on the current fold\n",
        "    svm_classifier = svm.SVC(kernel='linear', C=1)\n",
        "    svm_classifier.fit(X_train, y_train)\n",
        "\n",
        "    # Predict the labels of the test set\n",
        "    y_pred = svm_classifier.predict(X_test)\n",
        "\n",
        "    # Compute the accuracy score\n",
        "    accuracy = metrics.accuracy_score(y_test, y_pred)\n",
        "    accuracy_scores.append(accuracy)\n",
        "\n",
        "# Compute the average accuracy\n",
        "average_accuracy = np.mean(accuracy_scores)\n",
        "print(\"Average Accuracy:\", average_accuracy)\n",
        "\n",
        "# Print the accuracy scores for each fold\n",
        "print(\"Accuracy Scores for Each Fold:\")\n",
        "for i, accuracy in enumerate(accuracy_scores):\n",
        "    print(f\"Fold {i+1}: {accuracy}\")\n"
      ],
      "metadata": {
        "colab": {
          "base_uri": "https://localhost:8080/"
        },
        "id": "6q-KxS9iMMsY",
        "outputId": "d0f75293-e875-47a2-8988-4c4b4b3cc602"
      },
      "execution_count": 13,
      "outputs": [
        {
          "output_type": "stream",
          "name": "stdout",
          "text": [
            "Average Accuracy: 0.9866666666666667\n",
            "Accuracy Scores for Each Fold:\n",
            "Fold 1: 1.0\n",
            "Fold 2: 1.0\n",
            "Fold 3: 0.9333333333333333\n",
            "Fold 4: 1.0\n",
            "Fold 5: 1.0\n"
          ]
        }
      ]
    },
    {
      "cell_type": "markdown",
      "source": [
        "##Q39 : Write a Python program to train a Naïve Bayes classifier using different prior probabilities and compare performance."
      ],
      "metadata": {
        "id": "2LGP-uWKMg9o"
      }
    },
    {
      "cell_type": "code",
      "source": [
        "#ans :\n",
        "\n",
        "\n",
        "# Import necessary libraries\n",
        "from sklearn.datasets import load_iris\n",
        "from sklearn.model_selection import train_test_split\n",
        "from sklearn.naive_bayes import GaussianNB\n",
        "from sklearn import metrics\n",
        "import numpy as np\n",
        "\n",
        "# Load the Iris dataset\n",
        "iris = load_iris()\n",
        "X = iris.data\n",
        "y = iris.target\n",
        "\n",
        "# Split the dataset into a training set and a test set\n",
        "X_train, X_test, y_train, y_test = train_test_split(X, y, test_size=0.2, random_state=42)\n",
        "\n",
        "# Define different prior probabilities\n",
        "prior_probabilities = [\n",
        "    None,  # Default prior probabilities (uniform distribution)\n",
        "    [0.2, 0.3, 0.5],  # Custom prior probabilities\n",
        "    [0.5, 0.3, 0.2],  # Custom prior probabilities\n",
        "]\n",
        "\n",
        "# Train Naïve Bayes classifiers with different prior probabilities\n",
        "for prior_probability in prior_probabilities:\n",
        "    if prior_probability is None:\n",
        "        nb_classifier = GaussianNB()\n",
        "    else:\n",
        "        nb_classifier = GaussianNB(priors=prior_probability)\n",
        "\n",
        "    nb_classifier.fit(X_train, y_train)\n",
        "    y_pred = nb_classifier.predict(X_test)\n",
        "\n",
        "    # Evaluate the performance of the Naïve Bayes classifier\n",
        "    accuracy = metrics.accuracy_score(y_test, y_pred)\n",
        "    print(f\"Accuracy with prior probabilities {prior_probability}: {accuracy}\")\n",
        "\n",
        "    # Print the classification report\n",
        "    print(\"Classification Report:\")\n",
        "    print(metrics.classification_report(y_test, y_pred))\n",
        "\n",
        "    # Print the confusion matrix\n",
        "    print(\"Confusion Matrix:\")\n",
        "    print(metrics.confusion_matrix(y_test, y_pred))\n"
      ],
      "metadata": {
        "colab": {
          "base_uri": "https://localhost:8080/"
        },
        "id": "CTAWtybEMn7S",
        "outputId": "37c7306d-e77e-4113-888b-6036b2ee3e1a"
      },
      "execution_count": 14,
      "outputs": [
        {
          "output_type": "stream",
          "name": "stdout",
          "text": [
            "Accuracy with prior probabilities None: 1.0\n",
            "Classification Report:\n",
            "              precision    recall  f1-score   support\n",
            "\n",
            "           0       1.00      1.00      1.00        10\n",
            "           1       1.00      1.00      1.00         9\n",
            "           2       1.00      1.00      1.00        11\n",
            "\n",
            "    accuracy                           1.00        30\n",
            "   macro avg       1.00      1.00      1.00        30\n",
            "weighted avg       1.00      1.00      1.00        30\n",
            "\n",
            "Confusion Matrix:\n",
            "[[10  0  0]\n",
            " [ 0  9  0]\n",
            " [ 0  0 11]]\n",
            "Accuracy with prior probabilities [0.2, 0.3, 0.5]: 0.9666666666666667\n",
            "Classification Report:\n",
            "              precision    recall  f1-score   support\n",
            "\n",
            "           0       1.00      1.00      1.00        10\n",
            "           1       1.00      0.89      0.94         9\n",
            "           2       0.92      1.00      0.96        11\n",
            "\n",
            "    accuracy                           0.97        30\n",
            "   macro avg       0.97      0.96      0.97        30\n",
            "weighted avg       0.97      0.97      0.97        30\n",
            "\n",
            "Confusion Matrix:\n",
            "[[10  0  0]\n",
            " [ 0  8  1]\n",
            " [ 0  0 11]]\n",
            "Accuracy with prior probabilities [0.5, 0.3, 0.2]: 1.0\n",
            "Classification Report:\n",
            "              precision    recall  f1-score   support\n",
            "\n",
            "           0       1.00      1.00      1.00        10\n",
            "           1       1.00      1.00      1.00         9\n",
            "           2       1.00      1.00      1.00        11\n",
            "\n",
            "    accuracy                           1.00        30\n",
            "   macro avg       1.00      1.00      1.00        30\n",
            "weighted avg       1.00      1.00      1.00        30\n",
            "\n",
            "Confusion Matrix:\n",
            "[[10  0  0]\n",
            " [ 0  9  0]\n",
            " [ 0  0 11]]\n"
          ]
        }
      ]
    },
    {
      "cell_type": "markdown",
      "source": [
        "##Q40 : Write a Python program to perform Recursive Feature Elimination (RFE) before training an SVM Classifier and compare accuracy."
      ],
      "metadata": {
        "id": "i0j84KGpM6oq"
      }
    },
    {
      "cell_type": "code",
      "source": [
        "#ans :\n",
        "\n",
        "# Import necessary libraries\n",
        "from sklearn import datasets\n",
        "from sklearn.model_selection import train_test_split\n",
        "from sklearn import svm\n",
        "from sklearn.feature_selection import RFE\n",
        "from sklearn import metrics\n",
        "import numpy as np\n",
        "\n",
        "# Load the Iris dataset\n",
        "iris = datasets.load_iris()\n",
        "X = iris.data\n",
        "y = iris.target\n",
        "\n",
        "# Split the dataset into a training set and a test set\n",
        "X_train, X_test, y_train, y_test = train_test_split(X, y, test_size=0.2, random_state=42)\n",
        "\n",
        "# Train an SVM Classifier without RFE\n",
        "svm_classifier_without_rfe = svm.SVC(kernel='linear', C=1)\n",
        "svm_classifier_without_rfe.fit(X_train, y_train)\n",
        "y_pred_without_rfe = svm_classifier_without_rfe.predict(X_test)\n",
        "accuracy_without_rfe = metrics.accuracy_score(y_test, y_pred_without_rfe)\n",
        "print(\"Accuracy without RFE:\", accuracy_without_rfe)\n",
        "\n",
        "# Perform Recursive Feature Elimination (RFE)\n",
        "rfe = RFE(estimator=svm.SVC(kernel='linear', C=1), n_features_to_select=2)\n",
        "rfe.fit(X_train, y_train)\n",
        "X_train_rfe = rfe.transform(X_train)\n",
        "X_test_rfe = rfe.transform(X_test)\n",
        "\n",
        "# Train an SVM Classifier with RFE\n",
        "svm_classifier_with_rfe = svm.SVC(kernel='linear', C=1)\n",
        "svm_classifier_with_rfe.fit(X_train_rfe, y_train)\n",
        "y_pred_with_rfe = svm_classifier_with_rfe.predict(X_test_rfe)\n",
        "accuracy_with_rfe = metrics.accuracy_score(y_test, y_pred_with_rfe)\n",
        "print(\"Accuracy with RFE:\", accuracy_with_rfe)\n",
        "\n",
        "# Compare the accuracy with and without RFE\n",
        "if accuracy_with_rfe > accuracy_without_rfe:\n",
        "    print(\"RFE improves the accuracy of the SVM Classifier.\")\n",
        "elif accuracy_with_rfe < accuracy_without_rfe:\n",
        "    print(\"RFE does not improve the accuracy of the SVM Classifier.\")\n",
        "else:\n",
        "    print(\"RFE has no effect on the accuracy of the SVM Classifier.\")\n",
        "\n",
        "# Print the classification report for both Classifiers\n",
        "print(\"Classification Report without RFE:\")\n",
        "print(metrics.classification_report(y_test, y_pred_without_rfe))\n",
        "print(\"Classification Report with RFE:\")\n",
        "print(metrics.classification_report(y_test, y_pred_with_rfe))\n",
        "\n",
        "# Print the confusion matrix for both Classifiers\n",
        "print(\"Confusion Matrix without RFE:\")\n",
        "print(metrics.confusion_matrix(y_test, y_pred_without_rfe))\n",
        "print(\"Confusion Matrix with RFE:\")\n",
        "print(metrics.confusion_matrix(y_test, y_pred_with_rfe))\n"
      ],
      "metadata": {
        "colab": {
          "base_uri": "https://localhost:8080/"
        },
        "id": "k6vd8zguNARZ",
        "outputId": "3c935139-8692-49f8-b98f-ce2ade80c31a"
      },
      "execution_count": 15,
      "outputs": [
        {
          "output_type": "stream",
          "name": "stdout",
          "text": [
            "Accuracy without RFE: 1.0\n",
            "Accuracy with RFE: 1.0\n",
            "RFE has no effect on the accuracy of the SVM Classifier.\n",
            "Classification Report without RFE:\n",
            "              precision    recall  f1-score   support\n",
            "\n",
            "           0       1.00      1.00      1.00        10\n",
            "           1       1.00      1.00      1.00         9\n",
            "           2       1.00      1.00      1.00        11\n",
            "\n",
            "    accuracy                           1.00        30\n",
            "   macro avg       1.00      1.00      1.00        30\n",
            "weighted avg       1.00      1.00      1.00        30\n",
            "\n",
            "Classification Report with RFE:\n",
            "              precision    recall  f1-score   support\n",
            "\n",
            "           0       1.00      1.00      1.00        10\n",
            "           1       1.00      1.00      1.00         9\n",
            "           2       1.00      1.00      1.00        11\n",
            "\n",
            "    accuracy                           1.00        30\n",
            "   macro avg       1.00      1.00      1.00        30\n",
            "weighted avg       1.00      1.00      1.00        30\n",
            "\n",
            "Confusion Matrix without RFE:\n",
            "[[10  0  0]\n",
            " [ 0  9  0]\n",
            " [ 0  0 11]]\n",
            "Confusion Matrix with RFE:\n",
            "[[10  0  0]\n",
            " [ 0  9  0]\n",
            " [ 0  0 11]]\n"
          ]
        }
      ]
    },
    {
      "cell_type": "markdown",
      "source": [
        "##Q41 : Write a Python program to train an SVM Classifier and evaluate its performance using Precision, Recall, and F1-Score instead of accuracy."
      ],
      "metadata": {
        "id": "iOojFKtYNXt9"
      }
    },
    {
      "cell_type": "code",
      "source": [
        "#ans :\n",
        "\n",
        "\n",
        "# Import necessary libraries\n",
        "from sklearn import datasets\n",
        "from sklearn.model_selection import train_test_split\n",
        "from sklearn import svm\n",
        "from sklearn import metrics\n",
        "import numpy as np\n",
        "\n",
        "# Load the Breast Cancer dataset\n",
        "breast_cancer = datasets.load_breast_cancer()\n",
        "X = breast_cancer.data\n",
        "y = breast_cancer.target\n",
        "\n",
        "# Split the dataset into a training set and a test set\n",
        "X_train, X_test, y_train, y_test = train_test_split(X, y, test_size=0.2, random_state=42)\n",
        "\n",
        "# Train an SVM Classifier\n",
        "svm_classifier = svm.SVC(kernel='linear', C=1)\n",
        "svm_classifier.fit(X_train, y_train)\n",
        "\n",
        "# Predict the labels of the test set\n",
        "y_pred = svm_classifier.predict(X_test)\n",
        "\n",
        "# Evaluate the performance of the SVM Classifier using Precision, Recall, and F1-Score\n",
        "precision = metrics.precision_score(y_test, y_pred)\n",
        "recall = metrics.recall_score(y_test, y_pred)\n",
        "f1_score = metrics.f1_score(y_test, y_pred)\n",
        "print(\"Precision:\", precision)\n",
        "print(\"Recall:\", recall)\n",
        "print(\"F1-Score:\", f1_score)\n",
        "\n",
        "# Print the classification report\n",
        "print(\"Classification Report:\")\n",
        "print(metrics.classification_report(y_test, y_pred))\n",
        "\n",
        "# Print the confusion matrix\n",
        "print(\"Confusion Matrix:\")\n",
        "print(metrics.confusion_matrix(y_test, y_pred))\n"
      ],
      "metadata": {
        "colab": {
          "base_uri": "https://localhost:8080/"
        },
        "id": "4UgODR2cNeRE",
        "outputId": "157bb096-530d-4e55-dcd7-602bda747664"
      },
      "execution_count": 16,
      "outputs": [
        {
          "output_type": "stream",
          "name": "stdout",
          "text": [
            "Precision: 0.9459459459459459\n",
            "Recall: 0.9859154929577465\n",
            "F1-Score: 0.9655172413793104\n",
            "Classification Report:\n",
            "              precision    recall  f1-score   support\n",
            "\n",
            "           0       0.97      0.91      0.94        43\n",
            "           1       0.95      0.99      0.97        71\n",
            "\n",
            "    accuracy                           0.96       114\n",
            "   macro avg       0.96      0.95      0.95       114\n",
            "weighted avg       0.96      0.96      0.96       114\n",
            "\n",
            "Confusion Matrix:\n",
            "[[39  4]\n",
            " [ 1 70]]\n"
          ]
        }
      ]
    },
    {
      "cell_type": "markdown",
      "source": [
        "##Q42 : Write a Python program to train a Naïve Bayes Classifier and evaluate its performance using Log Loss (Cross-Entropy Loss)."
      ],
      "metadata": {
        "id": "nSC7nW8RNxN4"
      }
    },
    {
      "cell_type": "code",
      "source": [
        "#ans :\n",
        "\n",
        "\n",
        "# Import necessary libraries\n",
        "from sklearn.datasets import load_iris\n",
        "from sklearn.model_selection import train_test_split\n",
        "from sklearn.naive_bayes import GaussianNB\n",
        "from sklearn.metrics import log_loss\n",
        "import numpy as np\n",
        "\n",
        "# Load the Iris dataset\n",
        "iris = load_iris()\n",
        "X = iris.data\n",
        "y = iris.target\n",
        "\n",
        "# Split the dataset into a training set and a test set\n",
        "X_train, X_test, y_train, y_test = train_test_split(X, y, test_size=0.2, random_state=42)\n",
        "\n",
        "# Train a Naïve Bayes Classifier\n",
        "nb_classifier = GaussianNB()\n",
        "nb_classifier.fit(X_train, y_train)\n",
        "\n",
        "# Predict the probabilities of the test set\n",
        "y_pred_proba = nb_classifier.predict_proba(X_test)\n",
        "\n",
        "# Evaluate the performance of the Naïve Bayes Classifier using Log Loss (Cross-Entropy Loss)\n",
        "log_loss_value = log_loss(y_test, y_pred_proba)\n",
        "print(\"Log Loss (Cross-Entropy Loss):\", log_loss_value)\n",
        "\n",
        "# Print the classification report\n",
        "print(\"Classification Report:\")\n",
        "print(metrics.classification_report(y_test, nb_classifier.predict(X_test)))\n",
        "\n",
        "# Print the confusion matrix\n",
        "print(\"Confusion Matrix:\")\n",
        "print(metrics.confusion_matrix(y_test, nb_classifier.predict(X_test)))\n"
      ],
      "metadata": {
        "colab": {
          "base_uri": "https://localhost:8080/"
        },
        "id": "FnXJJZBMN32V",
        "outputId": "4e4e2b0a-aa7a-4ee3-f619-c0a1f3a29fea"
      },
      "execution_count": 17,
      "outputs": [
        {
          "output_type": "stream",
          "name": "stdout",
          "text": [
            "Log Loss (Cross-Entropy Loss): 0.02625269787231065\n",
            "Classification Report:\n",
            "              precision    recall  f1-score   support\n",
            "\n",
            "           0       1.00      1.00      1.00        10\n",
            "           1       1.00      1.00      1.00         9\n",
            "           2       1.00      1.00      1.00        11\n",
            "\n",
            "    accuracy                           1.00        30\n",
            "   macro avg       1.00      1.00      1.00        30\n",
            "weighted avg       1.00      1.00      1.00        30\n",
            "\n",
            "Confusion Matrix:\n",
            "[[10  0  0]\n",
            " [ 0  9  0]\n",
            " [ 0  0 11]]\n"
          ]
        }
      ]
    },
    {
      "cell_type": "markdown",
      "source": [
        "##Q43 : Write a Python program to train an SVM Classifier and visualize the Confusion Matrix using seaborn."
      ],
      "metadata": {
        "id": "_oOuAwdbONwn"
      }
    },
    {
      "cell_type": "code",
      "source": [
        "#ans :\n",
        "\n",
        "# Import necessary libraries\n",
        "from sklearn import datasets\n",
        "from sklearn.model_selection import train_test_split\n",
        "from sklearn import svm\n",
        "from sklearn import metrics\n",
        "import seaborn as sns\n",
        "import matplotlib.pyplot as plt\n",
        "import numpy as np\n",
        "\n",
        "# Load the Iris dataset\n",
        "iris = datasets.load_iris()\n",
        "X = iris.data\n",
        "y = iris.target\n",
        "\n",
        "# Split the dataset into a training set and a test set\n",
        "X_train, X_test, y_train, y_test = train_test_split(X, y, test_size=0.2, random_state=42)\n",
        "\n",
        "# Train an SVM Classifier\n",
        "svm_classifier = svm.SVC(kernel='linear', C=1)\n",
        "svm_classifier.fit(X_train, y_train)\n",
        "\n",
        "# Predict the labels of the test set\n",
        "y_pred = svm_classifier.predict(X_test)\n",
        "\n",
        "# Create a Confusion Matrix\n",
        "confusion_matrix = metrics.confusion_matrix(y_test, y_pred)\n",
        "\n",
        "# Visualize the Confusion Matrix using seaborn\n",
        "plt.figure(figsize=(8, 6))\n",
        "sns.heatmap(confusion_matrix, annot=True, cmap='Blues')\n",
        "plt.xlabel(\"Predicted Labels\")\n",
        "plt.ylabel(\"True Labels\")\n",
        "plt.title(\"Confusion Matrix\")\n",
        "plt.show()\n",
        "\n",
        "# Evaluate the performance of the SVM Classifier\n",
        "accuracy = metrics.accuracy_score(y_test, y_pred)\n",
        "precision = metrics.precision_score(y_test, y_pred, average='weighted')\n",
        "recall = metrics.recall_score(y_test, y_pred, average='weighted')\n",
        "f1_score = metrics.f1_score(y_test, y_pred, average='weighted')\n",
        "\n",
        "print(\"Accuracy:\", accuracy)\n",
        "print(\"Precision:\", precision)\n",
        "print(\"Recall:\", recall)\n",
        "print(\"F1-Score:\", f1_score)\n",
        "\n"
      ],
      "metadata": {
        "colab": {
          "base_uri": "https://localhost:8080/",
          "height": 637
        },
        "id": "TDeK-3mBOXP3",
        "outputId": "3165e264-6ca4-404b-d4cf-01d06c9838b2"
      },
      "execution_count": 18,
      "outputs": [
        {
          "output_type": "display_data",
          "data": {
            "text/plain": [
              "<Figure size 800x600 with 2 Axes>"
            ],
            "image/png": "[encoded data removed]"
          },
          "metadata": {}
        },
        {
          "output_type": "stream",
          "name": "stdout",
          "text": [
            "Accuracy: 1.0\n",
            "Precision: 1.0\n",
            "Recall: 1.0\n",
            "F1-Score: 1.0\n"
          ]
        }
      ]
    },
    {
      "cell_type": "markdown",
      "source": [
        "##Q44 : Write a Python program to train an SVM Regressor (SVR) and evaluate its performance using Mean Absolute Error (MAE) instead of MSE."
      ],
      "metadata": {
        "id": "vsUkThAEOnQ9"
      }
    },
    {
      "cell_type": "code",
      "source": [
        "#ans :\n",
        "\n",
        "\n",
        "# Import necessary libraries\n",
        "from sklearn import datasets\n",
        "from sklearn.model_selection import train_test_split\n",
        "from sklearn import svm\n",
        "from sklearn import metrics\n",
        "import numpy as np\n",
        "\n",
        "# Load the Diabetes dataset\n",
        "diabetes = datasets.load_diabetes()\n",
        "X = diabetes.data\n",
        "y = diabetes.target\n",
        "\n",
        "# Split the dataset into a training set and a test set\n",
        "X_train, X_test, y_train, y_test = train_test_split(X, y, test_size=0.2, random_state=42)\n",
        "\n",
        "# Train an SVM Regressor (SVR)\n",
        "svr = svm.SVR(kernel='linear', C=1, epsilon=0.1)\n",
        "svr.fit(X_train, y_train)\n",
        "\n",
        "# Predict the target values of the test set\n",
        "y_pred = svr.predict(X_test)\n",
        "\n",
        "# Evaluate the performance of the SVR using Mean Absolute Error (MAE)\n",
        "mae = metrics.mean_absolute_error(y_test, y_pred)\n",
        "print(\"Mean Absolute Error (MAE):\", mae)\n",
        "\n",
        "# Evaluate the performance of the SVR using Mean Squared Error (MSE)\n",
        "mse = metrics.mean_squared_error(y_test, y_pred)\n",
        "print(\"Mean Squared Error (MSE):\", mse)\n",
        "\n",
        "# Evaluate the performance of the SVR using R-Squared (R2)\n",
        "r2 = metrics.r2_score(y_test, y_pred)\n",
        "print(\"R-Squared (R2):\", r2)\n"
      ],
      "metadata": {
        "colab": {
          "base_uri": "https://localhost:8080/"
        },
        "id": "P637hI1qOu7g",
        "outputId": "baa1db38-6067-4e47-be12-820e83611e78"
      },
      "execution_count": 19,
      "outputs": [
        {
          "output_type": "stream",
          "name": "stdout",
          "text": [
            "Mean Absolute Error (MAE): 61.90453309883161\n",
            "Mean Squared Error (MSE): 5190.387663027928\n",
            "R-Squared (R2): 0.020339939398460127\n"
          ]
        }
      ]
    },
    {
      "cell_type": "markdown",
      "source": [
        "##Q45 : Write a Python program to train a Naïve Bayes classifier and evaluate its performance using the ROC-AUC score."
      ],
      "metadata": {
        "id": "7jB9MJ4rPIJw"
      }
    },
    {
      "cell_type": "code",
      "source": [
        "#ans :\n",
        "\n",
        "# Import necessary libraries\n",
        "from sklearn.datasets import load_breast_cancer\n",
        "from sklearn.model_selection import train_test_split\n",
        "from sklearn.naive_bayes import GaussianNB\n",
        "from sklearn.metrics import roc_auc_score, roc_curve\n",
        "import matplotlib.pyplot as plt\n",
        "import numpy as np\n",
        "\n",
        "# Load the Breast Cancer dataset\n",
        "breast_cancer = load_breast_cancer()\n",
        "X = breast_cancer.data\n",
        "y = breast_cancer.target\n",
        "\n",
        "# Split the dataset into a training set and a test set\n",
        "X_train, X_test, y_train, y_test = train_test_split(X, y, test_size=0.2, random_state=42)\n",
        "\n",
        "# Train a Naïve Bayes classifier\n",
        "nb_classifier = GaussianNB()\n",
        "nb_classifier.fit(X_train, y_train)\n",
        "\n",
        "# Predict the probabilities of the test set\n",
        "y_pred_proba = nb_classifier.predict_proba(X_test)[:, 1]\n",
        "\n",
        "# Evaluate the performance of the Naïve Bayes classifier using the ROC-AUC score\n",
        "roc_auc = roc_auc_score(y_test, y_pred_proba)\n",
        "print(\"ROC-AUC Score:\", roc_auc)\n",
        "\n",
        "# Plot the ROC Curve\n",
        "fpr, tpr, thresholds = roc_curve(y_test, y_pred_proba)\n",
        "plt.figure(figsize=(8, 6))\n",
        "plt.plot(fpr, tpr, color='blue', label='ROC Curve (AUC = %0.2f)' % roc_auc)\n",
        "plt.plot([0, 1], [0, 1], color='red', linestyle='--')\n",
        "plt.xlabel('False Positive Rate')\n",
        "plt.ylabel('True Positive Rate')\n",
        "plt.title('ROC Curve')\n",
        "plt.legend()\n",
        "plt.show()\n",
        "\n"
      ],
      "metadata": {
        "colab": {
          "base_uri": "https://localhost:8080/",
          "height": 582
        },
        "id": "flD8WD8gPO0Q",
        "outputId": "1992ddd0-8878-4090-c97f-e66a330de010"
      },
      "execution_count": 20,
      "outputs": [
        {
          "output_type": "stream",
          "name": "stdout",
          "text": [
            "ROC-AUC Score: 0.9983622666229938\n"
          ]
        },
        {
          "output_type": "display_data",
          "data": {
            "text/plain": [
              "<Figure size 800x600 with 1 Axes>"
            ],
            "image/png": "[encoded data removed]"
          },
          "metadata": {}
        }
      ]
    },
    {
      "cell_type": "markdown",
      "source": [
        "##Q46 : Write a Python program to train an SVM Classifier and visualize the Precision-Recall Curve."
      ],
      "metadata": {
        "id": "sGwAulAiPlDP"
      }
    },
    {
      "cell_type": "code",
      "source": [
        "#ans :\n",
        "\n",
        "\n",
        "# Import necessary libraries\n",
        "from sklearn import datasets\n",
        "from sklearn.model_selection import train_test_split\n",
        "from sklearn import svm\n",
        "from sklearn.metrics import precision_recall_curve, auc, average_precision_score\n",
        "import matplotlib.pyplot as plt\n",
        "import numpy as np\n",
        "\n",
        "# Load the Breast Cancer dataset\n",
        "breast_cancer = datasets.load_breast_cancer()\n",
        "X = breast_cancer.data\n",
        "y = breast_cancer.target\n",
        "\n",
        "# Split the dataset into a training set and a test set\n",
        "X_train, X_test, y_train, y_test = train_test_split(X, y, test_size=0.2, random_state=42)\n",
        "\n",
        "# Train an SVM Classifier\n",
        "svm_classifier = svm.SVC(kernel='linear', C=1, probability=True)\n",
        "svm_classifier.fit(X_train, y_train)\n",
        "\n",
        "# Predict the probabilities of the test set\n",
        "y_pred_proba = svm_classifier.predict_proba(X_test)[:, 1]\n",
        "\n",
        "# Compute the precision-recall curve\n",
        "precision, recall, thresholds = precision_recall_curve(y_test, y_pred_proba)\n",
        "\n",
        "# Compute the area under the precision-recall curve (AUPRC)\n",
        "auprc = auc(recall, precision)\n",
        "print(\"Area Under the Precision-Recall Curve (AUPRC):\", auprc)\n",
        "\n",
        "# Compute the average precision score\n",
        "average_precision = average_precision_score(y_test, y_pred_proba)\n",
        "print(\"Average Precision Score:\", average_precision)\n",
        "\n",
        "# Plot the precision-recall curve\n",
        "plt.figure(figsize=(8, 6))\n",
        "plt.plot(recall, precision, color='blue', label='Precision-Recall Curve (AUPRC = %0.2f)' % auprc)\n",
        "plt.xlabel('Recall')\n",
        "plt.ylabel('Precision')\n",
        "plt.title('Precision-Recall Curve')\n",
        "plt.legend()\n",
        "plt.show()\n"
      ],
      "metadata": {
        "colab": {
          "base_uri": "https://localhost:8080/",
          "height": 600
        },
        "id": "WIMHCG9SPqrb",
        "outputId": "b0491aa4-cae8-42e7-c0e1-186b0257471b"
      },
      "execution_count": 21,
      "outputs": [
        {
          "output_type": "stream",
          "name": "stdout",
          "text": [
            "Area Under the Precision-Recall Curve (AUPRC): 0.9974217907185807\n",
            "Average Precision Score: 0.9974399657162287\n"
          ]
        },
        {
          "output_type": "display_data",
          "data": {
            "text/plain": [
              "<Figure size 800x600 with 1 Axes>"
            ],
            "image/png": "[encoded data removed]"
          },
          "metadata": {}
        }
      ]
    }
  ]
}