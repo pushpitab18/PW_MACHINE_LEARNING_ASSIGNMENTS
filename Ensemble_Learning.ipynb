{
  "nbformat": 4,
  "nbformat_minor": 0,
  "metadata": {
    "colab": {
      "provenance": [],
      "authorship_tag": "ABX9TyPKuVrdCAj2IWr0b/5jhu3f",
      "include_colab_link": true
    },
    "kernelspec": {
      "name": "python3",
      "display_name": "Python 3"
    },
    "language_info": {
      "name": "python"
    }
  },
  "cells": [
    {
      "cell_type": "markdown",
      "metadata": {
        "id": "view-in-github",
        "colab_type": "text"
      },
      "source": [
        "<a href=\"https://colab.research.google.com/github/pushpitab18/PW_MACHINE_LEARNING_ASSIGNMENTS/blob/main/Ensemble_Learning.ipynb\" target=\"_parent\"><img src=\"https://colab.research.google.com/assets/colab-badge.svg\" alt=\"Open In Colab\"/></a>"
      ]
    },
    {
      "cell_type": "markdown",
      "source": [
        "##\"Theoretical : \""
      ],
      "metadata": {
        "id": "w3kcX1G4yZue"
      }
    },
    {
      "cell_type": "markdown",
      "source": [
        "1. Can we use Bagging for regression problems?\n",
        "\n",
        "ans:\n",
        "\n",
        "Yes, Bagging can be used for regression problems. Bagging Regressor is a type of ensemble learning method that combines the predictions of multiple base regressors to improve the overall performance and reduce overfitting.\n",
        "\n",
        "2. What is the difference between multiple model training and single model training?\n",
        "\n",
        "ans :\n",
        "\n",
        "In single model training, a single model is trained on the entire dataset to make predictions. In multiple model training, multiple models are trained on different subsets of the dataset, and their predictions are combined to improve the overall performance. Multiple model training can help reduce overfitting and improve the robustness of the model.\n",
        "\n",
        "3. Explain the concept of feature randomness in Random Forest.\n",
        "\n",
        "ans :\n",
        "\n",
        "In Random Forest, feature randomness refers to the random selection of features at each node of the decision tree. This helps to reduce the correlation between the trees in the forest and improves the overall performance of the model.\n",
        "\n",
        "4. What is OOB (Out-of-Bag) Score?\n",
        "\n",
        "ans :\n",
        "\n",
        "OOB (Out-of-Bag) score is a measure of the performance of a Random Forest model on the samples that are not used in the training of each tree. These samples are called out-of-bag samples. The OOB score is calculated by predicting the out-of-bag samples using each tree and then combining the predictions.\n",
        "\n",
        "5. How can you measure the importance of features in a Random Forest model?\n",
        "\n",
        "ans :\n",
        "\n",
        "Feature importance in a Random Forest model can be measured using the permutation feature importance or the Gini importance. Permutation feature importance is calculated by randomly permuting the values of a feature and measuring the decrease in the model's performance. Gini importance is calculated based on the decrease in impurity (Gini index) caused by a feature.\n",
        "\n",
        "6. Explain the working principle of a Bagging Classifier.\n",
        "\n",
        "\n",
        "ans:\n",
        "\n",
        "A Bagging Classifier works by training multiple instances of a base classifier on different subsets of the training data. The subsets are created using bootstrap sampling, where each sample is selected randomly with replacement. The predictions of each classifier are then combined using voting to produce the final prediction.\n",
        "\n",
        "7. How do you evaluate a Bagging Classifier's performance?\n",
        "\n",
        "\n",
        "ans :\n",
        "\n",
        "A Bagging Classifier's performance can be evaluated using metrics such as accuracy, precision, recall, F1 score, and ROC-AUC score. Cross-validation can be used to estimate the performance of the model on unseen data.\n",
        "\n",
        "8. How does a Bagging Regressor work?\n",
        "\n",
        "\n",
        "ans :\n",
        "\n",
        "A Bagging Regressor works similarly to a Bagging Classifier, but it combines the predictions of multiple base regressors to produce a continuous output. The predictions are typically combined using averaging or weighted averaging.\n",
        "\n",
        "9. What is the main advantage of ensemble techniques?\n",
        "\n",
        "\n",
        "ans :\n",
        "\n",
        "The main advantage of ensemble techniques is that they can improve the performance and robustness of machine learning models by combining the predictions of multiple models. Ensemble techniques can reduce overfitting and improve the accuracy of the model.\n",
        "\n",
        "10. What is the main challenge of ensemble methods?\n",
        "\n",
        "ans :\n",
        "\n",
        "The main challenge of ensemble methods is that they can be computationally expensive and require careful tuning of hyperparameters. Ensemble methods can also be difficult to interpret and explain.\n",
        "\n",
        "11. Explain the key idea behind ensemble techniques.\n",
        "\n",
        "ans :\n",
        "\n",
        "The key idea behind ensemble techniques is to combine the predictions of multiple models to improve the overall performance. Ensemble techniques can be used to reduce overfitting, improve accuracy, and increase robustness.\n",
        "\n",
        "12. What is a Random Forest Classifier?\n",
        "\n",
        "ans :\n",
        "\n",
        "A Random Forest Classifier is a type of ensemble learning method that combines the predictions of multiple decision trees to produce a classification output. Random Forest Classifiers are known for their high accuracy and robustness.\n",
        "\n",
        "13. What are the main types of ensemble techniques?\n",
        "\n",
        "ans :\n",
        "\n",
        "The main types of ensemble techniques are:\n",
        "\n",
        "- Bagging: combines the predictions of multiple models trained on different subsets of the data.\n",
        "- Boosting: combines the predictions of multiple models trained on the residuals of the previous models.\n",
        "- Stacking: combines the predictions of multiple models using a meta-model.\n",
        "\n",
        "14. What is ensemble learning in machine learning?\n",
        "\n",
        "ans :\n",
        "\n",
        "Ensemble learning is a machine learning technique that combines the predictions of multiple models to improve the overall performance. Ensemble learning can be used for classification, regression, and other types of machine learning tasks.\n",
        "\n",
        "15. When should we avoid using ensemble methods?\n",
        "\n",
        "ans :\n",
        "\n",
        "Ensemble methods should be avoided when:\n",
        "\n",
        "- The dataset is small, and the models are prone to overfitting.\n",
        "- The models are highly correlated, and the ensemble does not provide any benefits.\n",
        "- The computational resources are limited, and the ensemble method is too expensive.\n",
        "\n",
        "16. How does Bagging help in reducing overfitting?\n",
        "\n",
        "ans :\n",
        "\n",
        "Bagging helps in reducing overfitting by training multiple models on different subsets of the data. This reduces the impact of noise and outliers in the data and improves the robustness of the model.\n",
        "\n",
        "17. Why is Random Forest better than a single Decision Tree?\n",
        "\n",
        "ans :\n",
        "\n",
        "Random Forest is better than a single Decision Tree for several reasons:\n",
        "\n",
        "1. Reduced Overfitting: Random Forest reduces overfitting by averaging the predictions of multiple trees, which helps to cancel out the noise and variability in individual trees.\n",
        "2. Improved Accuracy: Random Forest often improves the accuracy of predictions by combining the strengths of multiple trees.\n",
        "3. Robustness to Outliers: Random Forest is more robust to outliers and noisy data than a single Decision Tree, as the ensemble effect helps to mitigate the impact of outliers.\n",
        "4. Handling High-Dimensional Data: Random Forest can handle high-dimensional data more effectively than a single Decision Tree, as the random feature selection helps to reduce the impact of irrelevant features.\n",
        "5. Improved Handling of Missing Values: Random Forest can handle missing values more effectively than a single Decision Tree, as the ensemble effect helps to impute missing values.\n",
        "\n",
        "18. What is the role of bootstrap sampling in Bagging?\n",
        "\n",
        "ans :\n",
        "\n",
        "Bootstrap sampling is a key component of Bagging, where each model is trained on a random subset of the training data with replacement. This helps to reduce overfitting and improve the robustness of the model.\n",
        "\n",
        "19. What are some real-world applications of ensemble techniques?\n",
        "\n",
        "ans :\n",
        "\n",
        "Ensemble techniques have many real-world applications, including:\n",
        "\n",
        "- Image classification: Ensemble methods can be used to combine the predictions of multiple models trained on different features or datasets.\n",
        "- Natural language processing: Ensemble methods can be used to combine the predictions of multiple models trained on different linguistic features or datasets.\n",
        "- Financial forecasting: Ensemble methods can be used to combine the predictions of multiple models trained on different economic indicators or datasets.\n",
        "- Medical diagnosis: Ensemble methods can be used to combine the predictions of multiple models trained on different medical features or datasets.\n",
        "\n",
        "20. What is the difference between Bagging and Boosting?\n",
        "\n",
        "ans :\n",
        "\n",
        "Bagging and Boosting are both ensemble techniques, but they differ in how they combine the predictions of multiple models:\n",
        "\n",
        "- Bagging: combines the predictions of multiple models trained on different subsets of the data, where each model is trained independently.\n",
        "- Boosting: combines the predictions of multiple models trained on the residuals of the previous models, where each model is trained to correct the errors of the previous model.\n",
        "\n",
        "In Bagging, each model is trained independently, and the predictions are combined using voting or averaging. In Boosting, each model is trained to correct the errors of the previous model, and the predictions are combined using weighted voting or averaging.\n",
        "\n",
        "Boosting is typically more sensitive to outliers and noisy data than Bagging, but it can also be more effective in certain situations. Bagging is often used to reduce overfitting and improve the robustness of a model, while Boosting is often used to improve the accuracy of a model.\n",
        "\n",
        "Here's a summary of the key differences between Bagging and Boosting:\n",
        "\n",
        "|  | Bagging | Boosting |\n",
        "| --- | --- | --- |\n",
        "| Training | Each model is trained independently on a random subset of the data | Each model is trained to correct the errors of the previous model |\n",
        "| Prediction | Predictions are combined using voting or averaging | Predictions are combined using weighted voting or averaging |\n",
        "| Effectiveness | Can reduce overfitting and improve robustness | Can improve accuracy, but may be sensitive to outliers and noisy data |\n",
        "| Use case | Suitable for reducing overfitting and improving robustness | Suitable for improving accuracy, especially in situations where the data is complex or has many features |\n",
        "\n",
        "In summary, Bagging and Boosting are both powerful ensemble techniques that can be used to improve the performance of machine learning models. The choice between Bagging and Boosting depends on the specific problem and dataset, as well as the goals of the project."
      ],
      "metadata": {
        "id": "IUjEzZ8Ww7L3"
      }
    },
    {
      "cell_type": "markdown",
      "source": [
        "##\" Practical : \""
      ],
      "metadata": {
        "id": "iF7kLgX3ya8N"
      }
    },
    {
      "cell_type": "markdown",
      "source": [
        "21. Train a Bagging Classifier using Decision Trees on a sample dataset and print model accuracy."
      ],
      "metadata": {
        "id": "qprLUMexy12s"
      }
    },
    {
      "cell_type": "code",
      "source": [
        "#ans:\n",
        "\n",
        "from sklearn.ensemble import BaggingClassifier\n",
        "from sklearn.tree import DecisionTreeClassifier\n",
        "from sklearn.datasets import load_iris\n",
        "from sklearn.model_selection import train_test_split\n",
        "from sklearn.metrics import accuracy_score\n",
        "\n",
        "# Load the iris dataset\n",
        "iris = load_iris()\n",
        "X = iris.data\n",
        "y = iris.target\n",
        "\n",
        "# Split the dataset into training and testing sets\n",
        "X_train, X_test, y_train, y_test = train_test_split(X, y, test_size=0.2, random_state=42)\n",
        "\n",
        "# Train a Bagging Classifier using Decision Trees\n",
        "bagging_clf = BaggingClassifier(estimator=DecisionTreeClassifier(), n_estimators=10, random_state=42)\n",
        "bagging_clf.fit(X_train, y_train)\n",
        "\n",
        "# Predict on the test set and print accuracy\n",
        "y_pred = bagging_clf.predict(X_test)\n",
        "print(\"Bagging Classifier Accuracy:\", accuracy_score(y_test, y_pred))"
      ],
      "metadata": {
        "colab": {
          "base_uri": "https://localhost:8080/"
        },
        "id": "3QSH3Mkp2667",
        "outputId": "caf51c47-7de1-4912-bed3-9b8cb1a643b7"
      },
      "execution_count": 3,
      "outputs": [
        {
          "output_type": "stream",
          "name": "stdout",
          "text": [
            "Bagging Classifier Accuracy: 1.0\n"
          ]
        }
      ]
    },
    {
      "cell_type": "markdown",
      "source": [
        "22. Train a Bagging Regressor using Decision Trees and evaluate using Mean Squared Error (MSE)."
      ],
      "metadata": {
        "id": "YaTy5XYU2_S-"
      }
    },
    {
      "cell_type": "code",
      "source": [
        "#ans :\n",
        "from sklearn.datasets import make_regression\n",
        "from sklearn.metrics import mean_squared_error\n",
        "from sklearn.ensemble import BaggingRegressor\n",
        "from sklearn.tree import DecisionTreeRegressor\n",
        "from sklearn.model_selection import train_test_split\n",
        "\n",
        "# Generate a regression dataset\n",
        "X, y = make_regression(n_samples=100, n_features=5, random_state=42)\n",
        "\n",
        "# Split the dataset into training and testing sets\n",
        "X_train, X_test, y_train, y_test = train_test_split(X, y, test_size=0.2, random_state=42)\n",
        "\n",
        "# Train a Bagging Regressor using Decision Trees\n",
        "bagging_reg = BaggingRegressor(estimator=DecisionTreeRegressor(), n_estimators=10, random_state=42)\n",
        "bagging_reg.fit(X_train, y_train)\n",
        "\n",
        "# Predict on the test set and print MSE\n",
        "y_pred = bagging_reg.predict(X_test)\n",
        "print(\"Bagging Regressor MSE:\", mean_squared_error(y_test, y_pred))\n",
        "\n"
      ],
      "metadata": {
        "colab": {
          "base_uri": "https://localhost:8080/"
        },
        "id": "_Y8YP3FQ3EAu",
        "outputId": "4ff67b70-7dc7-4cdf-ce95-c4d1f3532f6d"
      },
      "execution_count": 8,
      "outputs": [
        {
          "output_type": "stream",
          "name": "stdout",
          "text": [
            "Bagging Regressor MSE: 6126.9021847713475\n"
          ]
        }
      ]
    },
    {
      "cell_type": "markdown",
      "source": [
        "23. Train a Random Forest Classifier on the Breast Cancer dataset and print feature importance scores."
      ],
      "metadata": {
        "id": "-1tH2WsP3VEb"
      }
    },
    {
      "cell_type": "code",
      "source": [
        "#ans :\n",
        "from sklearn.ensemble import RandomForestClassifier\n",
        "from sklearn.datasets import load_breast_cancer\n",
        "from sklearn.model_selection import train_test_split\n",
        "# Load the breast cancer dataset\n",
        "cancer = load_breast_cancer()\n",
        "X = cancer.data\n",
        "y = cancer.target\n",
        "\n",
        "# Split the dataset into training and testing sets\n",
        "X_train, X_test, y_train, y_test = train_test_split(X, y, test_size=0.2, random_state=42)\n",
        "\n",
        "# Train a Random Forest Classifier\n",
        "rf_clf = RandomForestClassifier(n_estimators=100, random_state=42)\n",
        "rf_clf.fit(X_train, y_train)\n",
        "\n",
        "# Print feature importance scores\n",
        "print(\"Feature Importance Scores:\")\n",
        "for feature, importance in zip(cancer.feature_names, rf_clf.feature_importances_):\n",
        "    print(f\"{feature}: {importance:.2f}\")"
      ],
      "metadata": {
        "colab": {
          "base_uri": "https://localhost:8080/"
        },
        "id": "uDR4jRhB3WVq",
        "outputId": "23812f42-658c-4e18-cf35-4b4298cb379f"
      },
      "execution_count": 5,
      "outputs": [
        {
          "output_type": "stream",
          "name": "stdout",
          "text": [
            "Feature Importance Scores:\n",
            "mean radius: 0.05\n",
            "mean texture: 0.01\n",
            "mean perimeter: 0.05\n",
            "mean area: 0.05\n",
            "mean smoothness: 0.01\n",
            "mean compactness: 0.01\n",
            "mean concavity: 0.07\n",
            "mean concave points: 0.11\n",
            "mean symmetry: 0.00\n",
            "mean fractal dimension: 0.00\n",
            "radius error: 0.02\n",
            "texture error: 0.00\n",
            "perimeter error: 0.01\n",
            "area error: 0.02\n",
            "smoothness error: 0.00\n",
            "compactness error: 0.01\n",
            "concavity error: 0.01\n",
            "concave points error: 0.00\n",
            "symmetry error: 0.00\n",
            "fractal dimension error: 0.01\n",
            "worst radius: 0.08\n",
            "worst texture: 0.02\n",
            "worst perimeter: 0.07\n",
            "worst area: 0.15\n",
            "worst smoothness: 0.01\n",
            "worst compactness: 0.02\n",
            "worst concavity: 0.03\n",
            "worst concave points: 0.14\n",
            "worst symmetry: 0.01\n",
            "worst fractal dimension: 0.01\n"
          ]
        }
      ]
    },
    {
      "cell_type": "markdown",
      "source": [
        "24. Train a Random Forest Regressor and compare its performance with a single Decision Tree."
      ],
      "metadata": {
        "id": "yp1haUkv4ehK"
      }
    },
    {
      "cell_type": "code",
      "source": [
        "#ans :\n",
        "\n",
        "from sklearn.ensemble import RandomForestRegressor\n",
        "from sklearn.tree import DecisionTreeRegressor\n",
        "from sklearn.datasets import make_regression\n",
        "from sklearn.model_selection import train_test_split\n",
        "from sklearn.metrics import mean_squared_error\n",
        "\n",
        "# Generate a regression dataset\n",
        "X, y = make_regression(n_samples=100, n_features=5, random_state=42)\n",
        "\n",
        "# Split the dataset into training and testing sets\n",
        "X_train, X_test, y_train, y_test = train_test_split(X, y, test_size=0.2, random_state=42)\n",
        "\n",
        "# Train a Random Forest Regressor\n",
        "rf_reg = RandomForestRegressor(n_estimators=100, random_state=42)\n",
        "rf_reg.fit(X_train, y_train)\n",
        "\n",
        "# Train a single Decision Tree Regressor\n",
        "dt_reg = DecisionTreeRegressor(random_state=42)\n",
        "dt_reg.fit(X_train, y_train)\n",
        "\n",
        "# Predict on the test set and compare MSE\n",
        "y_pred_rf = rf_reg.predict(X_test)\n",
        "y_pred_dt = dt_reg.predict(X_test)\n",
        "print(\"Random Forest Regressor MSE:\", mean_squared_error(y_test, y_pred_rf))\n",
        "print(\"Decision Tree Regressor MSE:\", mean_squared_error(y_test, y_pred_dt))\n"
      ],
      "metadata": {
        "colab": {
          "base_uri": "https://localhost:8080/"
        },
        "id": "6-LqFSDg6Jr1",
        "outputId": "0d8378c9-0879-4dbf-aa1c-704dd57684c2"
      },
      "execution_count": 9,
      "outputs": [
        {
          "output_type": "stream",
          "name": "stdout",
          "text": [
            "Random Forest Regressor MSE: 5972.68134439264\n",
            "Decision Tree Regressor MSE: 19364.814027200642\n"
          ]
        }
      ]
    },
    {
      "cell_type": "markdown",
      "source": [
        "25. Compute the Out-of-Bag (OOB) Score for a Random Forest Classifier.\n"
      ],
      "metadata": {
        "id": "vzMlZdaU6P8l"
      }
    },
    {
      "cell_type": "code",
      "source": [
        "#ans :\n",
        "\n",
        "# Load the iris dataset\n",
        "iris = load_iris()\n",
        "X = iris.data\n",
        "y = iris.target\n",
        "#ans :\n",
        "\n",
        "# Load the iris dataset\n",
        "iris = load_iris()\n",
        "X = iris.data\n",
        "y = iris.target\n",
        "\n",
        "# Split the dataset into training and testing sets\n",
        "X_train, X_test, y_train, y_test = train_test_split(X, y, test_size=0.2, random_state=42)\n",
        "\n",
        "# Train a Random Forest Classifier with OOB score\n",
        "rf_clf = RandomForestClassifier(n_estimators=100, oob_score=True, random_state=42)\n",
        "rf_clf.fit(X_train, y_train)\n",
        "\n",
        "# Print the OOB score\n",
        "print(\"Out-of-Bag Score:\", rf_clf.oob_score_)\n",
        "rf_clf = RandomForestClassifier(n_estimators=100, oob_score=True, random_state=42)\n",
        "rf_clf.fit(X_train, y_train)\n",
        "\n",
        "# Print the OOB score\n",
        "print(\"Out-of-Bag Score:\", rf_clf.oob_score_)\n"
      ],
      "metadata": {
        "colab": {
          "base_uri": "https://localhost:8080/"
        },
        "id": "y2p0g-qP6ZkQ",
        "outputId": "15d9b27f-5420-4a02-9ddd-8b83902769fe"
      },
      "execution_count": 11,
      "outputs": [
        {
          "output_type": "stream",
          "name": "stdout",
          "text": [
            "Out-of-Bag Score: 0.9166666666666666\n",
            "Out-of-Bag Score: 0.9166666666666666\n"
          ]
        }
      ]
    },
    {
      "cell_type": "markdown",
      "source": [
        "26. Train a Bagging Classifier using SVM as a base estimator and print accuracy."
      ],
      "metadata": {
        "id": "FPrgwmoy736C"
      }
    },
    {
      "cell_type": "code",
      "source": [
        "#ans :\n",
        "\n",
        "from sklearn.ensemble import BaggingClassifier\n",
        "from sklearn.svm import SVC\n",
        "from sklearn.datasets import load_iris\n",
        "from sklearn.model_selection import train_test_split\n",
        "from sklearn.metrics import accuracy_score\n",
        "\n",
        "# Load the iris dataset\n",
        "iris = load_iris()\n",
        "X = iris.data\n",
        "y = iris.target\n",
        "\n",
        "# Split the dataset into training and testing sets\n",
        "X_train, X_test, y_train, y_test = train_test_split(X, y, test_size=0.2, random_state=42)\n",
        "\n",
        "# Train a Bagging Classifier using SVM\n",
        "bagging_svm = BaggingClassifier(estimator=SVC(), n_estimators=10, random_state=42)\n",
        "bagging_svm.fit(X_train, y_train)\n",
        "\n",
        "# Predict on the test set and print accuracy\n",
        "y_pred = bagging_svm.predict(X_test)\n",
        "print(\"Bagging SVM Accuracy:\", accuracy_score(y_test, y_pred))"
      ],
      "metadata": {
        "colab": {
          "base_uri": "https://localhost:8080/"
        },
        "id": "sYjZCtYb8Lfc",
        "outputId": "c3fae419-edbd-4231-d06d-47ad5d637aa5"
      },
      "execution_count": 13,
      "outputs": [
        {
          "output_type": "stream",
          "name": "stdout",
          "text": [
            "Bagging SVM Accuracy: 1.0\n"
          ]
        }
      ]
    },
    {
      "cell_type": "markdown",
      "source": [
        "27. Train a Random Forest Classifier with different numbers of trees and compare accuracy."
      ],
      "metadata": {
        "id": "1Mlxq81Y8QYo"
      }
    },
    {
      "cell_type": "code",
      "source": [
        "#ans :\n",
        "\n",
        "from sklearn.ensemble import RandomForestClassifier\n",
        "from sklearn.datasets import load_iris\n",
        "from sklearn.model_selection import train_test_split\n",
        "from sklearn.metrics import accuracy_score\n",
        "\n",
        "# Load the iris dataset\n",
        "iris = load_iris()\n",
        "X = iris.data\n",
        "y = iris.target\n",
        "\n",
        "# Split the dataset into training and testing sets\n",
        "X_train, X_test, y_train, y_test = train_test_split(X, y, test_size=0.2, random_state=42)\n",
        "\n",
        "# Train Random Forest Classifiers with different numbers of trees\n",
        "for n_estimators in [10, 50, 100, 200]:\n",
        "    rf_clf = RandomForestClassifier(n_estimators=n_estimators, random_state=42)\n",
        "    rf_clf.fit(X_train, y_train)\n",
        "    y_pred = rf_clf.predict(X_test)\n",
        "    print(f\"Random Forest Accuracy with {n_estimators} trees:\", accuracy_score(y_test, y_pred))\n"
      ],
      "metadata": {
        "colab": {
          "base_uri": "https://localhost:8080/"
        },
        "id": "jRX8Zk6h8Vp_",
        "outputId": "9281fe22-0d8a-4092-8f08-d6b51c778e68"
      },
      "execution_count": 14,
      "outputs": [
        {
          "output_type": "stream",
          "name": "stdout",
          "text": [
            "Random Forest Accuracy with 10 trees: 1.0\n",
            "Random Forest Accuracy with 50 trees: 1.0\n",
            "Random Forest Accuracy with 100 trees: 1.0\n",
            "Random Forest Accuracy with 200 trees: 1.0\n"
          ]
        }
      ]
    },
    {
      "cell_type": "markdown",
      "source": [
        "28. Train a Bagging Classifier using Logistic Regression as a base estimator and print AUC score."
      ],
      "metadata": {
        "id": "nrG_nw-U8jVi"
      }
    },
    {
      "cell_type": "code",
      "source": [
        "#ans :\n",
        "\n",
        "from sklearn.ensemble import BaggingClassifier\n",
        "from sklearn.linear_model import LogisticRegression\n",
        "from sklearn.datasets import load_breast_cancer\n",
        "from sklearn.model_selection import train_test_split\n",
        "from sklearn.metrics import roc_auc_score\n",
        "\n",
        "# Load the breast cancer dataset\n",
        "cancer = load_breast_cancer()\n",
        "X = cancer.data\n",
        "y = cancer.target\n",
        "\n",
        "# Split the dataset into training and testing sets\n",
        "X_train, X_test, y_train, y_test = train_test_split(X, y, test_size=0.2, random_state=42)\n",
        "\n",
        "# Train a Bagging Classifier using Logistic Regression\n",
        "bagging_lr = BaggingClassifier(estimator=LogisticRegression(), n_estimators=10, random_state=42)\n",
        "bagging_lr.fit(X_train, y_train)\n",
        "\n",
        "# Predict on the test set and print AUC score\n",
        "y_pred_proba = bagging_lr.predict_proba(X_test)[:, 1]\n",
        "print(\"Bagging Logistic Regression AUC Score:\", roc_auc_score(y_test, y_pred_proba))"
      ],
      "metadata": {
        "colab": {
          "base_uri": "https://localhost:8080/"
        },
        "id": "1YD-5ZAS9riK",
        "outputId": "d3f9dacb-dfdd-45c3-e2c8-d32f2edc9cfb"
      },
      "execution_count": 16,
      "outputs": [
        {
          "output_type": "stream",
          "name": "stderr",
          "text": [
            "/usr/local/lib/python3.11/dist-packages/sklearn/linear_model/_logistic.py:465: ConvergenceWarning: lbfgs failed to converge (status=1):\n",
            "STOP: TOTAL NO. OF ITERATIONS REACHED LIMIT.\n",
            "\n",
            "Increase the number of iterations (max_iter) or scale the data as shown in:\n",
            "    https://scikit-learn.org/stable/modules/preprocessing.html\n",
            "Please also refer to the documentation for alternative solver options:\n",
            "    https://scikit-learn.org/stable/modules/linear_model.html#logistic-regression\n",
            "  n_iter_i = _check_optimize_result(\n",
            "/usr/local/lib/python3.11/dist-packages/sklearn/linear_model/_logistic.py:465: ConvergenceWarning: lbfgs failed to converge (status=1):\n",
            "STOP: TOTAL NO. OF ITERATIONS REACHED LIMIT.\n",
            "\n",
            "Increase the number of iterations (max_iter) or scale the data as shown in:\n",
            "    https://scikit-learn.org/stable/modules/preprocessing.html\n",
            "Please also refer to the documentation for alternative solver options:\n",
            "    https://scikit-learn.org/stable/modules/linear_model.html#logistic-regression\n",
            "  n_iter_i = _check_optimize_result(\n",
            "/usr/local/lib/python3.11/dist-packages/sklearn/linear_model/_logistic.py:465: ConvergenceWarning: lbfgs failed to converge (status=1):\n",
            "STOP: TOTAL NO. OF ITERATIONS REACHED LIMIT.\n",
            "\n",
            "Increase the number of iterations (max_iter) or scale the data as shown in:\n",
            "    https://scikit-learn.org/stable/modules/preprocessing.html\n",
            "Please also refer to the documentation for alternative solver options:\n",
            "    https://scikit-learn.org/stable/modules/linear_model.html#logistic-regression\n",
            "  n_iter_i = _check_optimize_result(\n",
            "/usr/local/lib/python3.11/dist-packages/sklearn/linear_model/_logistic.py:465: ConvergenceWarning: lbfgs failed to converge (status=1):\n",
            "STOP: TOTAL NO. OF ITERATIONS REACHED LIMIT.\n",
            "\n",
            "Increase the number of iterations (max_iter) or scale the data as shown in:\n",
            "    https://scikit-learn.org/stable/modules/preprocessing.html\n",
            "Please also refer to the documentation for alternative solver options:\n",
            "    https://scikit-learn.org/stable/modules/linear_model.html#logistic-regression\n",
            "  n_iter_i = _check_optimize_result(\n",
            "/usr/local/lib/python3.11/dist-packages/sklearn/linear_model/_logistic.py:465: ConvergenceWarning: lbfgs failed to converge (status=1):\n",
            "STOP: TOTAL NO. OF ITERATIONS REACHED LIMIT.\n",
            "\n",
            "Increase the number of iterations (max_iter) or scale the data as shown in:\n",
            "    https://scikit-learn.org/stable/modules/preprocessing.html\n",
            "Please also refer to the documentation for alternative solver options:\n",
            "    https://scikit-learn.org/stable/modules/linear_model.html#logistic-regression\n",
            "  n_iter_i = _check_optimize_result(\n",
            "/usr/local/lib/python3.11/dist-packages/sklearn/linear_model/_logistic.py:465: ConvergenceWarning: lbfgs failed to converge (status=1):\n",
            "STOP: TOTAL NO. OF ITERATIONS REACHED LIMIT.\n",
            "\n",
            "Increase the number of iterations (max_iter) or scale the data as shown in:\n",
            "    https://scikit-learn.org/stable/modules/preprocessing.html\n",
            "Please also refer to the documentation for alternative solver options:\n",
            "    https://scikit-learn.org/stable/modules/linear_model.html#logistic-regression\n",
            "  n_iter_i = _check_optimize_result(\n",
            "/usr/local/lib/python3.11/dist-packages/sklearn/linear_model/_logistic.py:465: ConvergenceWarning: lbfgs failed to converge (status=1):\n",
            "STOP: TOTAL NO. OF ITERATIONS REACHED LIMIT.\n",
            "\n",
            "Increase the number of iterations (max_iter) or scale the data as shown in:\n",
            "    https://scikit-learn.org/stable/modules/preprocessing.html\n",
            "Please also refer to the documentation for alternative solver options:\n",
            "    https://scikit-learn.org/stable/modules/linear_model.html#logistic-regression\n",
            "  n_iter_i = _check_optimize_result(\n",
            "/usr/local/lib/python3.11/dist-packages/sklearn/linear_model/_logistic.py:465: ConvergenceWarning: lbfgs failed to converge (status=1):\n",
            "STOP: TOTAL NO. OF ITERATIONS REACHED LIMIT.\n",
            "\n",
            "Increase the number of iterations (max_iter) or scale the data as shown in:\n",
            "    https://scikit-learn.org/stable/modules/preprocessing.html\n",
            "Please also refer to the documentation for alternative solver options:\n",
            "    https://scikit-learn.org/stable/modules/linear_model.html#logistic-regression\n",
            "  n_iter_i = _check_optimize_result(\n",
            "/usr/local/lib/python3.11/dist-packages/sklearn/linear_model/_logistic.py:465: ConvergenceWarning: lbfgs failed to converge (status=1):\n",
            "STOP: TOTAL NO. OF ITERATIONS REACHED LIMIT.\n",
            "\n",
            "Increase the number of iterations (max_iter) or scale the data as shown in:\n",
            "    https://scikit-learn.org/stable/modules/preprocessing.html\n",
            "Please also refer to the documentation for alternative solver options:\n",
            "    https://scikit-learn.org/stable/modules/linear_model.html#logistic-regression\n",
            "  n_iter_i = _check_optimize_result(\n"
          ]
        },
        {
          "output_type": "stream",
          "name": "stdout",
          "text": [
            "Bagging Logistic Regression AUC Score: 0.99737962659679\n"
          ]
        },
        {
          "output_type": "stream",
          "name": "stderr",
          "text": [
            "/usr/local/lib/python3.11/dist-packages/sklearn/linear_model/_logistic.py:465: ConvergenceWarning: lbfgs failed to converge (status=1):\n",
            "STOP: TOTAL NO. OF ITERATIONS REACHED LIMIT.\n",
            "\n",
            "Increase the number of iterations (max_iter) or scale the data as shown in:\n",
            "    https://scikit-learn.org/stable/modules/preprocessing.html\n",
            "Please also refer to the documentation for alternative solver options:\n",
            "    https://scikit-learn.org/stable/modules/linear_model.html#logistic-regression\n",
            "  n_iter_i = _check_optimize_result(\n"
          ]
        }
      ]
    },
    {
      "cell_type": "markdown",
      "source": [
        "29. Train a Random Forest Regressor and analyze feature importance scores."
      ],
      "metadata": {
        "id": "ZUZoQI_t96Ur"
      }
    },
    {
      "cell_type": "code",
      "source": [
        "#ans :\n",
        "\n",
        "from sklearn.ensemble import RandomForestRegressor\n",
        "from sklearn.datasets import make_regression\n",
        "from sklearn.model_selection import train_test_split\n",
        "\n",
        "# Generate a regression dataset\n",
        "X, y = make_regression(n_samples=100, n_features=5, random_state=42)\n",
        "\n",
        "# Split the dataset into training and testing sets\n",
        "X_train, X_test, y_train, y_test = train_test_split(X, y, test_size=0.2, random_state=42)\n",
        "\n",
        "# Train a Random Forest Regressor\n",
        "rf_reg = RandomForestRegressor(n_estimators=100, random_state=42)\n",
        "rf_reg.fit(X_train, y_train)\n",
        "\n",
        "# Print feature importance scores\n",
        "print(\"Feature Importance Scores:\")\n",
        "for i, importance in enumerate(rf_reg.feature_importances_):\n",
        "    print(f\"Feature {i+1}: {importance:.2f}\")\n"
      ],
      "metadata": {
        "colab": {
          "base_uri": "https://localhost:8080/"
        },
        "id": "_Jaz0dd_9_gX",
        "outputId": "6c221ab5-6188-41e8-99ef-e08f5fcb79c6"
      },
      "execution_count": 17,
      "outputs": [
        {
          "output_type": "stream",
          "name": "stdout",
          "text": [
            "Feature Importance Scores:\n",
            "Feature 1: 0.09\n",
            "Feature 2: 0.53\n",
            "Feature 3: 0.18\n",
            "Feature 4: 0.12\n",
            "Feature 5: 0.07\n"
          ]
        }
      ]
    },
    {
      "cell_type": "markdown",
      "source": [
        "30. Train an ensemble model using both Bagging and Random Forest and compare accuracy.\n"
      ],
      "metadata": {
        "id": "-Zydo9SS-D-5"
      }
    },
    {
      "cell_type": "code",
      "source": [
        "#ans :\n",
        "\n",
        "from sklearn.ensemble import BaggingClassifier, RandomForestClassifier\n",
        "from sklearn.datasets import load_iris\n",
        "from sklearn.model_selection import train_test_split\n",
        "from sklearn.metrics import accuracy_score\n",
        "\n",
        "# Load the iris dataset\n",
        "iris = load_iris()\n",
        "X = iris.data\n",
        "y = iris.target\n",
        "\n",
        "# Split the dataset into training and testing sets\n",
        "X_train, X_test, y_train, y_test = train_test_split(X, y, test_size=0.2, random_state=42)\n",
        "\n",
        "# Train a Bagging Classifier\n",
        "bagging_clf = BaggingClassifier(n_estimators=10, random_state=42)\n",
        "bagging_clf.fit(X_train, y_train)\n",
        "y_pred_bagging = bagging_clf.predict(X_test)\n",
        "print(\"Bagging Accuracy:\", accuracy_score(y_test, y_pred_bagging))\n",
        "\n",
        "# Train a Random Forest Classifier\n",
        "rf_clf = RandomForestClassifier(n_estimators=100, random_state=42)\n",
        "rf_clf.fit(X_train, y_train)\n",
        "y_pred_rf = rf_clf.predict(X_test)\n",
        "print(\"Random Forest Accuracy:\", accuracy_score(y_test, y_pred_rf))\n"
      ],
      "metadata": {
        "colab": {
          "base_uri": "https://localhost:8080/"
        },
        "id": "FbKnygI1-PqC",
        "outputId": "938bfa30-98f7-44a3-d7f5-981e328e8510"
      },
      "execution_count": 18,
      "outputs": [
        {
          "output_type": "stream",
          "name": "stdout",
          "text": [
            "Bagging Accuracy: 1.0\n",
            "Random Forest Accuracy: 1.0\n"
          ]
        }
      ]
    },
    {
      "cell_type": "markdown",
      "source": [
        "31. Train a Random Forest Classifier and tune hyperparameters using GridSearchCV\n"
      ],
      "metadata": {
        "id": "NLmq9iTd-XwQ"
      }
    },
    {
      "cell_type": "code",
      "source": [
        "#ans :\n",
        "\n",
        "from sklearn.ensemble import RandomForestClassifier\n",
        "from sklearn.model_selection import GridSearchCV\n",
        "from sklearn.datasets import load_iris\n",
        "from sklearn.model_selection import train_test_split\n",
        "\n",
        "# Load the iris dataset\n",
        "iris = load_iris()\n",
        "X = iris.data\n",
        "y = iris.target\n",
        "\n",
        "# Split the dataset into training and testing sets\n",
        "X_train, X_test, y_train, y_test = train_test_split(X, y, test_size=0.2, random_state=42)\n",
        "\n",
        "# Define the hyperparameter grid\n",
        "param_grid = {\n",
        "    'n_estimators': [10, 50, 100, 200],\n",
        "    'max_depth': [None, 5, 10],\n",
        "    'min_samples_split': [2, 5, 10]\n",
        "}\n",
        "\n",
        "# Perform grid search\n",
        "rf_clf = RandomForestClassifier(random_state=42)\n",
        "grid_search = GridSearchCV(rf_clf, param_grid, cv=5)\n",
        "grid_search.fit(X_train, y_train)\n",
        "\n",
        "# Print the best parameters and score\n",
        "print(\"Best Parameters:\", grid_search.best_params_)\n",
        "print(\"Best Score:\", grid_search.best_score_)\n"
      ],
      "metadata": {
        "colab": {
          "base_uri": "https://localhost:8080/"
        },
        "id": "K2_51fM9AFXj",
        "outputId": "518e65be-b4b1-4226-9eaf-7cd73ba7a147"
      },
      "execution_count": 19,
      "outputs": [
        {
          "output_type": "stream",
          "name": "stdout",
          "text": [
            "Best Parameters: {'max_depth': None, 'min_samples_split': 2, 'n_estimators': 10}\n",
            "Best Score: 0.95\n"
          ]
        }
      ]
    },
    {
      "cell_type": "markdown",
      "source": [
        "32. Train a Bagging Regressor with different numbers of base estimators and compare performance\n"
      ],
      "metadata": {
        "id": "z2-D5CBVAmkV"
      }
    },
    {
      "cell_type": "code",
      "source": [
        "#ans :\n",
        "\n",
        "from sklearn.ensemble import BaggingRegressor\n",
        "from sklearn.tree import DecisionTreeRegressor\n",
        "from sklearn.datasets import make_regression\n",
        "from sklearn.model_selection import train_test_split\n",
        "from sklearn.metrics import mean_squared_error\n",
        "\n",
        "# Generate a regression dataset\n",
        "X, y = make_regression(n_samples=100, n_features=5, random_state=42)\n",
        "\n",
        "# Split the dataset into training and testing sets\n",
        "X_train, X_test, y_train, y_test = train_test_split(X, y, test_size=0.2, random_state=42)\n",
        "\n",
        "# Train Bagging Regressors with different numbers of base estimators\n",
        "for n_estimators in [10, 50, 100, 200]:\n",
        "\n",
        "    bagging_reg = BaggingRegressor(estimator=DecisionTreeRegressor(), n_estimators=n_estimators, random_state=42)\n",
        "    bagging_reg.fit(X_train, y_train)\n",
        "    y_pred = bagging_reg.predict(X_test)\n",
        "    print(f\"Bagging Regressor MSE with {n_estimators} estimators:\", mean_squared_error(y_test, y_pred))\n",
        "\n"
      ],
      "metadata": {
        "colab": {
          "base_uri": "https://localhost:8080/"
        },
        "id": "hrlf8hz2Arca",
        "outputId": "62221a8a-9f21-49fc-ae50-f31a5e395aa9"
      },
      "execution_count": 21,
      "outputs": [
        {
          "output_type": "stream",
          "name": "stdout",
          "text": [
            "Bagging Regressor MSE with 10 estimators: 6126.9021847713475\n",
            "Bagging Regressor MSE with 50 estimators: 6256.303614093673\n",
            "Bagging Regressor MSE with 100 estimators: 5959.709942142359\n",
            "Bagging Regressor MSE with 200 estimators: 5961.95737726446\n"
          ]
        }
      ]
    },
    {
      "cell_type": "markdown",
      "source": [
        "33. Train a Random Forest Classifier and analyze misclassified samples\n"
      ],
      "metadata": {
        "id": "KSythgv9A_Bb"
      }
    },
    {
      "cell_type": "code",
      "source": [
        "#ans :\n",
        "\n",
        "from sklearn.ensemble import RandomForestClassifier\n",
        "from sklearn.datasets import load_iris\n",
        "from sklearn.model_selection import train_test_split\n",
        "\n",
        "# Load the iris dataset\n",
        "iris = load_iris()\n",
        "X = iris.data\n",
        "y = iris.target\n",
        "\n",
        "# Split the dataset into training and testing sets\n",
        "X_train, X_test, y_train, y_test = train_test_split(X, y, test_size=0.2, random_state=42)\n",
        "\n",
        "# Train a Random Forest Classifier\n",
        "rf_clf = RandomForestClassifier(n_estimators=100, random_state=42)\n",
        "rf_clf.fit(X_train, y_train)\n",
        "y_pred = rf_clf.predict(X_test)\n",
        "\n",
        "# Analyze misclassified samples\n",
        "misclassified_samples = X_test[y_test != y_pred]\n",
        "print(\"Misclassified Samples:\")\n",
        "print(misclassified_samples)\n"
      ],
      "metadata": {
        "colab": {
          "base_uri": "https://localhost:8080/"
        },
        "id": "b7ptJDFmBDHO",
        "outputId": "8ec92d74-f71e-4806-ee28-f32a16d68460"
      },
      "execution_count": 22,
      "outputs": [
        {
          "output_type": "stream",
          "name": "stdout",
          "text": [
            "Misclassified Samples:\n",
            "[]\n"
          ]
        }
      ]
    },
    {
      "cell_type": "markdown",
      "source": [
        "34. Train a Bagging Classifier and compare its performance with a single Decision Tree Classifier\n"
      ],
      "metadata": {
        "id": "BgpOHY-kBHsO"
      }
    },
    {
      "cell_type": "code",
      "source": [
        "#ans :\n",
        "\n",
        "from sklearn.ensemble import BaggingClassifier\n",
        "from sklearn.tree import DecisionTreeClassifier\n",
        "from sklearn.datasets import load_iris\n",
        "from sklearn.model_selection import train_test_split\n",
        "from sklearn.metrics import accuracy_score\n",
        "\n",
        "# Load the iris dataset\n",
        "iris = load_iris()\n",
        "X = iris.data\n",
        "y = iris.target\n",
        "\n",
        "# Split the dataset into training and testing sets\n",
        "X_train, X_test, y_train, y_test = train_test_split(X, y, test_size=0.2, random_state=42)\n",
        "\n",
        "# Train a Bagging Classifier\n",
        "bagging_clf = BaggingClassifier(estimator=DecisionTreeClassifier(), n_estimators=10, random_state=42)\n",
        "bagging_clf.fit(X_train, y_train)\n",
        "y_pred_bagging = bagging_clf.predict(X_test)\n",
        "\n",
        "# Train a single Decision Tree Classifier\n",
        "dt_clf = DecisionTreeClassifier(random_state=42)\n",
        "dt_clf.fit(X_train, y_train)\n",
        "y_pred_dt = dt_clf.predict(X_test)\n",
        "\n",
        "# Compare performance\n",
        "print(\"Bagging Accuracy:\", accuracy_score(y_test, y_pred_bagging))\n",
        "print(\"Decision Tree Accuracy:\", accuracy_score(y_test, y_pred_dt))"
      ],
      "metadata": {
        "colab": {
          "base_uri": "https://localhost:8080/"
        },
        "id": "kV5N74PABYnc",
        "outputId": "c521cbaf-e950-413b-cddb-72e717e70ddb"
      },
      "execution_count": 25,
      "outputs": [
        {
          "output_type": "stream",
          "name": "stdout",
          "text": [
            "Bagging Accuracy: 1.0\n",
            "Decision Tree Accuracy: 1.0\n"
          ]
        }
      ]
    },
    {
      "cell_type": "markdown",
      "source": [
        "35. Train a Random Forest Classifier and visualize the confusion matrix\n"
      ],
      "metadata": {
        "id": "AkapI7eCBq3l"
      }
    },
    {
      "cell_type": "code",
      "source": [
        "\n",
        "#ans :\n",
        "\n",
        "from sklearn.ensemble import RandomForestClassifier\n",
        "from sklearn.datasets import load_iris\n",
        "from sklearn.model_selection import train_test_split\n",
        "import seaborn as sns\n",
        "import matplotlib.pyplot as plt\n",
        "from sklearn.metrics import confusion_matrix\n",
        "\n",
        "# Load the iris dataset\n",
        "iris = load_iris()\n",
        "X = iris.data\n",
        "y = iris.target\n",
        "\n",
        "# Split the dataset into training and testing sets\n",
        "X_train, X_test, y_train, y_test = train_test_split(X, y, test_size=0.2, random_state=42)\n",
        "\n",
        "# Train a Random Forest Classifier\n",
        "rf_clf = RandomForestClassifier(n_estimators=100, random_state=42)\n",
        "rf_clf.fit(X_train, y_train)\n",
        "y_pred = rf_clf.predict(X_test)\n",
        "\n",
        "# Create a confusion matrix\n",
        "conf_mat = confusion_matrix(y_test, y_pred)\n",
        "\n",
        "# Visualize the confusion matrix\n",
        "plt.figure(figsize=(8, 6))\n",
        "sns.heatmap(conf_mat, annot=True, cmap='Blues')\n",
        "plt.xlabel('Predicted Labels')\n",
        "plt.ylabel('True Labels')\n",
        "plt.show()\n",
        "\n",
        "X_train, X_test, y_train, y_test = train_test_split(X, y, test_size=0.2, random_state=42)\n",
        "\n",
        "# Train a Random Forest Classifier\n",
        "rf_clf = RandomForestClassifier(n_estimators=100, random_state=42)\n",
        "rf_clf.fit(X_train, y_train)\n",
        "y_pred = rf_clf.predict(X_test)\n",
        "\n",
        "# Create a confusion matrix\n",
        "conf_mat = confusion_matrix(y_test, y_pred)\n",
        "\n",
        "# Visualize the confusion matrix\n",
        "plt.figure(figsize=(8, 6))\n",
        "sns.heatmap(conf_mat, annot=True, cmap='Blues')\n",
        "plt.xlabel('Predicted Labels')\n",
        "plt.ylabel('True Labels')\n",
        "plt.show()\n",
        "\n"
      ],
      "metadata": {
        "colab": {
          "base_uri": "https://localhost:8080/",
          "height": 1000
        },
        "id": "fE0va_mOBvM-",
        "outputId": "295379ff-87ab-4df4-9dd6-08ee4ca1ce0c"
      },
      "execution_count": 29,
      "outputs": [
        {
          "output_type": "display_data",
          "data": {
            "text/plain": [
              "<Figure size 800x600 with 2 Axes>"
            ],
            "image/png": "[encoded data removed]"
          },
          "metadata": {}
        },
        {
          "output_type": "display_data",
          "data": {
            "text/plain": [
              "<Figure size 800x600 with 2 Axes>"
            ],
            "image/png": "[encoded data removed]"
          },
          "metadata": {}
        }
      ]
    },
    {
      "cell_type": "markdown",
      "source": [
        "36. Train a Stacking Classifier using Decision Trees, SVM, and Logistic Regression, and compare accuracy\n"
      ],
      "metadata": {
        "id": "dr4wQsk0CGAq"
      }
    },
    {
      "cell_type": "code",
      "source": [
        "#ans :\n",
        "\n",
        "from sklearn.ensemble import StackingClassifier\n",
        "from sklearn.tree import DecisionTreeClassifier\n",
        "from sklearn.svm import SVC\n",
        "from sklearn.linear_model import LogisticRegression\n",
        "from sklearn.datasets import load_iris\n",
        "from sklearn.model_selection import train_test_split\n",
        "from sklearn.metrics import accuracy_score\n",
        "\n",
        "# Load the iris dataset\n",
        "iris = load_iris()\n",
        "X = iris.data\n",
        "y = iris.target\n",
        "\n",
        "# Split the dataset into training and testing sets\n",
        "X_train, X_test, y_train, y_test = train_test_split(X, y, test_size=0.2, random_state=42)\n",
        "\n",
        "# Define the base estimators\n",
        "base_estimators = [\n",
        "    ('dt', DecisionTreeClassifier(random_state=42)),\n",
        "    ('svm', SVC(probability=True, random_state=42)),\n",
        "    ('lr', LogisticRegression(random_state=42))\n",
        "]\n",
        "\n",
        "# Train a Stacking Classifier\n",
        "stacking_clf = StackingClassifier(estimators=base_estimators, final_estimator=LogisticRegression(random_state=42))\n",
        "stacking_clf.fit(X_train, y_train)\n",
        "y_pred = stacking_clf.predict(X_test)\n",
        "\n",
        "# Print accuracy\n",
        "print(\"Stacking Accuracy:\", accuracy_score(y_test, y_pred))\n"
      ],
      "metadata": {
        "colab": {
          "base_uri": "https://localhost:8080/"
        },
        "id": "dLhqDd_CCNO6",
        "outputId": "c692d575-3c47-4120-ede1-af539b1b8de2"
      },
      "execution_count": 30,
      "outputs": [
        {
          "output_type": "stream",
          "name": "stdout",
          "text": [
            "Stacking Accuracy: 1.0\n"
          ]
        }
      ]
    },
    {
      "cell_type": "markdown",
      "source": [
        "37. Train a Random Forest Classifier and print the top 5 most important features\n"
      ],
      "metadata": {
        "id": "ny5YaLNdCUKd"
      }
    },
    {
      "cell_type": "code",
      "source": [
        "#ans :\n",
        "\n",
        "from sklearn.ensemble import RandomForestClassifier\n",
        "from sklearn.datasets import load_iris\n",
        "from sklearn.model_selection import train_test_split\n",
        "\n",
        "# Load the iris dataset\n",
        "iris = load_iris()\n",
        "X = iris.data\n",
        "y = iris.target\n",
        "\n",
        "# Split the dataset into training and testing sets\n",
        "X_train, X_test, y_train, y_test = train_test_split(X, y, test_size=0.2, random_state=42)\n",
        "\n",
        "# Train a Random Forest Classifier\n",
        "rf_clf = RandomForestClassifier(n_estimators=100, random_state=42)\n",
        "rf_clf.fit(X_train, y_train)\n",
        "\n",
        "# Print the top 5 most important features\n",
        "feature_importances = rf_clf.feature_importances_\n",
        "top_5_features = sorted(zip(feature_importances, iris.feature_names), reverse=True)[:5]\n",
        "print(\"Top 5 Most Important Features:\")\n",
        "for importance, feature in top_5_features:\n",
        "    print(f\"{feature}: {importance:.2f}\")\n"
      ],
      "metadata": {
        "colab": {
          "base_uri": "https://localhost:8080/"
        },
        "id": "Ie8yMiKICYxZ",
        "outputId": "c91f4ac8-d277-44d6-dd89-1b27bf11096f"
      },
      "execution_count": 31,
      "outputs": [
        {
          "output_type": "stream",
          "name": "stdout",
          "text": [
            "Top 5 Most Important Features:\n",
            "petal length (cm): 0.44\n",
            "petal width (cm): 0.42\n",
            "sepal length (cm): 0.11\n",
            "sepal width (cm): 0.03\n"
          ]
        }
      ]
    },
    {
      "cell_type": "markdown",
      "source": [
        "38. Train a Bagging Classifier and evaluate performance using Precision, Recall, and F1-score\n"
      ],
      "metadata": {
        "id": "_CfqRMySCfEZ"
      }
    },
    {
      "cell_type": "code",
      "source": [
        "#ans :\n",
        "\n",
        "from sklearn.ensemble import BaggingClassifier\n",
        "from sklearn.tree import DecisionTreeClassifier\n",
        "from sklearn.datasets import load_iris\n",
        "from sklearn.model_selection import train_test_split\n",
        "from sklearn.metrics import precision_score, recall_score, f1_score\n",
        "\n",
        "# Load the iris dataset\n",
        "iris = load_iris()\n",
        "X = iris.data\n",
        "y = iris.target\n",
        "\n",
        "# Split the dataset into training and testing sets\n",
        "X_train, X_test, y_train, y_test = train_test_split(X, y, test_size=0.2, random_state=42)\n",
        "\n",
        "# Train a Bagging Classifier\n",
        "# Changed 'base_estimator' to 'estimator'\n",
        "bagging_clf = BaggingClassifier(estimator=DecisionTreeClassifier(), n_estimators=10, random_state=42)\n",
        "bagging_clf.fit(X_train, y_train)\n",
        "y_pred = bagging_clf.predict(X_test)\n",
        "\n",
        "# Evaluate performance\n",
        "precision = precision_score(y_test, y_pred, average='weighted')\n",
        "recall = recall_score(y_test, y_pred, average='weighted')\n",
        "f1 = f1_score(y_test, y_pred, average='weighted')\n",
        "print(\"Precision:\", precision)\n",
        "print(\"Recall:\", recall)\n",
        "print(\"F1-score:\", f1)"
      ],
      "metadata": {
        "colab": {
          "base_uri": "https://localhost:8080/"
        },
        "id": "EJMXEspnCtPu",
        "outputId": "f3b11674-27e8-4225-b32a-e3f5592030d8"
      },
      "execution_count": 33,
      "outputs": [
        {
          "output_type": "stream",
          "name": "stdout",
          "text": [
            "Precision: 1.0\n",
            "Recall: 1.0\n",
            "F1-score: 1.0\n"
          ]
        }
      ]
    },
    {
      "cell_type": "markdown",
      "source": [
        "39. Train a Random Forest Classifier and analyze the effect of max_depth on accuracy\n"
      ],
      "metadata": {
        "id": "5JnSLqZJCv1j"
      }
    },
    {
      "cell_type": "code",
      "source": [
        "#ans :\n",
        "\n",
        "from sklearn.ensemble import RandomForestClassifier\n",
        "from sklearn.datasets import load_iris\n",
        "from sklearn.model_selection import train_test_split\n",
        "from sklearn.metrics import accuracy_score\n",
        "\n",
        "# Load the iris dataset\n",
        "iris = load_iris()\n",
        "X = iris.data\n",
        "y = iris.target\n",
        "\n",
        "# Split the dataset into training and testing sets\n",
        "X_train, X_test, y_train, y_test = train_test_split(X, y, test_size=0.2, random_state=42)\n",
        "\n",
        "# Train Random Forest Classifiers with different max_depth values\n",
        "for max_depth in [None, 5, 10, 15]:\n",
        "    rf_clf = RandomForestClassifier(n_estimators=100, max_depth=max_depth, random_state=42)\n",
        "    rf_clf.fit(X_train, y_train)\n",
        "    y_pred = rf_clf.predict(X_test)\n",
        "    accuracy = accuracy_score(y_test, y_pred)\n",
        "    print(f\"Max Depth: {max_depth}, Accuracy: {accuracy:.2f}\")\n"
      ],
      "metadata": {
        "colab": {
          "base_uri": "https://localhost:8080/"
        },
        "id": "u1dPec7sC1Ri",
        "outputId": "266f0da7-0f14-45be-f9df-77d2fb08aef8"
      },
      "execution_count": 34,
      "outputs": [
        {
          "output_type": "stream",
          "name": "stdout",
          "text": [
            "Max Depth: None, Accuracy: 1.00\n",
            "Max Depth: 5, Accuracy: 1.00\n",
            "Max Depth: 10, Accuracy: 1.00\n",
            "Max Depth: 15, Accuracy: 1.00\n"
          ]
        }
      ]
    },
    {
      "cell_type": "markdown",
      "source": [
        "40. Train a Bagging Regressor using different base estimators (DecisionTree and KNeighbors) and compare performance\n"
      ],
      "metadata": {
        "id": "9rBhIpodC55B"
      }
    },
    {
      "cell_type": "code",
      "source": [
        "#ans :\n",
        "\n",
        "from sklearn.ensemble import BaggingRegressor\n",
        "from sklearn.tree import DecisionTreeRegressor\n",
        "from sklearn.neighbors import KNeighborsRegressor\n",
        "from sklearn.datasets import make_regression\n",
        "from sklearn.model_selection import train_test_split\n",
        "from sklearn.metrics import mean_squared_error\n",
        "\n",
        "# Generate a regression dataset\n",
        "X, y = make_regression(n_samples=100, n_features=5, random_state=42)\n",
        "\n",
        "# Split the dataset into training and testing sets\n",
        "X_train, X_test, y_train, y_test = train_test_split(X, y, test_size=0.2, random_state=42)\n",
        "\n",
        "# Train Bagging Regressors with different base estimators\n",
        "for base_estimator in [DecisionTreeRegressor(), KNeighborsRegressor()]:\n",
        "    bagging_reg = BaggingRegressor(estimator=base_estimator, n_estimators=10, random_state=42)\n",
        "    bagging_reg.fit(X_train, y_train)\n",
        "    y_pred = bagging_reg.predict(X_test)\n",
        "    mse = mean_squared_error(y_test, y_pred)\n",
        "    print(f\"Base Estimator: {type(base_estimator).__name__}, MSE: {mse:.2f}\")"
      ],
      "metadata": {
        "colab": {
          "base_uri": "https://localhost:8080/"
        },
        "id": "p70X9dkSDN_N",
        "outputId": "984d4730-5306-43ed-efaa-08ab7b857278"
      },
      "execution_count": 36,
      "outputs": [
        {
          "output_type": "stream",
          "name": "stdout",
          "text": [
            "Base Estimator: DecisionTreeRegressor, MSE: 6126.90\n",
            "Base Estimator: KNeighborsRegressor, MSE: 3898.48\n"
          ]
        }
      ]
    },
    {
      "cell_type": "markdown",
      "source": [
        "41. Train a Random Forest Classifier and evaluate its performance using ROC-AUC Score\n"
      ],
      "metadata": {
        "id": "sq90K4lrDS7q"
      }
    },
    {
      "cell_type": "code",
      "source": [
        "#ans :\n",
        "\n",
        "from sklearn.ensemble import RandomForestClassifier\n",
        "from sklearn.datasets import load_breast_cancer\n",
        "from sklearn.model_selection import train_test_split\n",
        "from sklearn.metrics import roc_auc_score\n",
        "\n",
        "# Load the breast cancer dataset\n",
        "cancer = load_breast_cancer()\n",
        "X = cancer.data\n",
        "y = cancer.target\n",
        "\n",
        "# Split the dataset into training and testing sets\n",
        "X_train, X_test, y_train, y_test = train_test_split(X, y, test_size=0.2, random_state=42)\n",
        "\n",
        "# Train a Random Forest Classifier\n",
        "rf_clf = RandomForestClassifier(n_estimators=100, random_state=42)\n",
        "rf_clf.fit(X_train, y_train)\n",
        "y_pred_proba = rf_clf.predict_proba(X_test)[:, 1]\n",
        "\n",
        "# Evaluate performance using ROC-AUC Score\n",
        "roc_auc = roc_auc_score(y_test, y_pred_proba)\n",
        "print(\"ROC-AUC Score:\", roc_auc)\n",
        "\n"
      ],
      "metadata": {
        "colab": {
          "base_uri": "https://localhost:8080/"
        },
        "id": "ke0Aqrv_DXRj",
        "outputId": "2f0d7032-0216-4be4-950d-f20820389fec"
      },
      "execution_count": 37,
      "outputs": [
        {
          "output_type": "stream",
          "name": "stdout",
          "text": [
            "ROC-AUC Score: 0.9952505732066819\n"
          ]
        }
      ]
    },
    {
      "cell_type": "markdown",
      "source": [
        "42. Train a Bagging Classifier and evaluate its performance using cross-validation\n"
      ],
      "metadata": {
        "id": "VU9PL1p4Dbo7"
      }
    },
    {
      "cell_type": "code",
      "source": [
        "#ans :\n",
        "from sklearn.ensemble import BaggingClassifier\n",
        "from sklearn.tree import DecisionTreeClassifier\n",
        "from sklearn.datasets import load_iris\n",
        "from sklearn.model_selection import cross_val_score\n",
        "\n",
        "# Load the iris dataset\n",
        "iris = load_iris()\n",
        "X = iris.data\n",
        "y = iris.target\n",
        "\n",
        "# Train a Bagging Classifier\n",
        "bagging_clf = BaggingClassifier(estimator=DecisionTreeClassifier(), n_estimators=10, random_state=42)\n",
        "\n",
        "# Evaluate performance using cross-validation\n",
        "scores = cross_val_score(bagging_clf, X, y, cv=5)\n",
        "print(\"Cross-Validation Scores:\", scores)\n",
        "print(\"Average Cross-Validation Score:\", scores.mean())\n"
      ],
      "metadata": {
        "colab": {
          "base_uri": "https://localhost:8080/"
        },
        "id": "4HpLbeIGDfsT",
        "outputId": "05e10da1-dc82-4a60-cec3-e59892137cc5"
      },
      "execution_count": 39,
      "outputs": [
        {
          "output_type": "stream",
          "name": "stdout",
          "text": [
            "Cross-Validation Scores: [0.96666667 0.96666667 0.9        0.93333333 1.        ]\n",
            "Average Cross-Validation Score: 0.9533333333333334\n"
          ]
        }
      ]
    },
    {
      "cell_type": "markdown",
      "source": [
        "43. Train a Random Forest Classifier and plot the Precision-Recall curve\n"
      ],
      "metadata": {
        "id": "xhKC9dv_DsnD"
      }
    },
    {
      "cell_type": "code",
      "source": [
        "#ans :\n",
        "\n",
        "from sklearn.ensemble import RandomForestClassifier\n",
        "from sklearn.datasets import load_breast_cancer\n",
        "from sklearn.model_selection import train_test_split\n",
        "from sklearn.metrics import precision_recall_curve\n",
        "import matplotlib.pyplot as plt\n",
        "\n",
        "# Load the breast cancer dataset\n",
        "cancer = load_breast_cancer()\n",
        "X = cancer.data\n",
        "y = cancer.target\n",
        "\n",
        "# Split the dataset into training and testing sets\n",
        "X_train, X_test, y_train, y_test = train_test_split(X, y, test_size=0.2, random_state=42)\n",
        "\n",
        "# Train a Random Forest Classifier\n",
        "rf_clf = RandomForestClassifier(n_estimators=100, random_state=42)\n",
        "rf_clf.fit(X_train, y_train)\n",
        "y_pred_proba = rf_clf.predict_proba(X_test)[:, 1]\n",
        "\n",
        "# Plot the Precision-Recall curve\n",
        "precision, recall, thresholds = precision_recall_curve(y_test, y_pred_proba)\n",
        "plt.plot(recall, precision)\n",
        "plt.xlabel('Recall')\n",
        "plt.ylabel('Precision')\n",
        "plt.show()\n"
      ],
      "metadata": {
        "colab": {
          "base_uri": "https://localhost:8080/",
          "height": 449
        },
        "id": "SjfzZ_-xDxaq",
        "outputId": "696dbaf9-9a1c-46ca-d356-c150ab611ce7"
      },
      "execution_count": 40,
      "outputs": [
        {
          "output_type": "display_data",
          "data": {
            "text/plain": [
              "<Figure size 640x480 with 1 Axes>"
            ],
            "image/png": "[encoded data removed]"
          },
          "metadata": {}
        }
      ]
    },
    {
      "cell_type": "markdown",
      "source": [
        "44. Train a Stacking Classifier with Random Forest and Logistic Regression and compare accuracy\n"
      ],
      "metadata": {
        "id": "uE7sybO1D2F7"
      }
    },
    {
      "cell_type": "code",
      "source": [
        "#ans :\n",
        "\n",
        "from sklearn.ensemble import RandomForestClassifier, StackingClassifier\n",
        "from sklearn.linear_model import LogisticRegression\n",
        "from sklearn.datasets import load_iris\n",
        "from sklearn.model_selection import train_test_split\n",
        "from sklearn.metrics import accuracy_score\n",
        "\n",
        "# Load the iris dataset\n",
        "iris = load_iris()\n",
        "X = iris.data\n",
        "y = iris.target\n",
        "\n",
        "# Split the dataset into training and testing sets\n",
        "X_train, X_test, y_train, y_test = train_test_split(X, y, test_size=0.2, random_state=42)\n",
        "\n",
        "# Define the base estimators\n",
        "base_estimators = [\n",
        "    ('rf', RandomForestClassifier(n_estimators=100, random_state=42)),\n",
        "    ('lr', LogisticRegression(random_state=42))\n",
        "]\n",
        "\n",
        "# Train a Stacking Classifier\n",
        "stacking_clf = StackingClassifier(estimators=base_estimators, final_estimator=LogisticRegression(random_state=42))\n",
        "stacking_clf.fit(X_train, y_train)\n",
        "y_pred = stacking_clf.predict(X_test)\n",
        "\n",
        "# Compare accuracy\n",
        "accuracy = accuracy_score(y_test, y_pred)\n",
        "print(\"Stacking Accuracy:\", accuracy)\n"
      ],
      "metadata": {
        "colab": {
          "base_uri": "https://localhost:8080/"
        },
        "id": "MAPVkUv9D7L5",
        "outputId": "ad19d3c9-2998-477f-fd5d-56dafca8803b"
      },
      "execution_count": 41,
      "outputs": [
        {
          "output_type": "stream",
          "name": "stdout",
          "text": [
            "Stacking Accuracy: 1.0\n"
          ]
        }
      ]
    },
    {
      "cell_type": "markdown",
      "source": [
        "45. Train a Bagging Regressor with different levels of bootstrap samples and compare performance\n"
      ],
      "metadata": {
        "id": "VaWbwuRiECVA"
      }
    },
    {
      "cell_type": "code",
      "source": [
        "#ans :\n",
        "\n",
        "from sklearn.ensemble import BaggingRegressor\n",
        "from sklearn.tree import DecisionTreeRegressor\n",
        "from sklearn.datasets import make_regression\n",
        "from sklearn.model_selection import train_test_split\n",
        "from sklearn.metrics import mean_squared_error\n",
        "\n",
        "# Generate a regression dataset\n",
        "X, y = make_regression(n_samples=100, n_features=5, random_state=42)\n",
        "\n",
        "# Split the dataset into training and testing sets\n",
        "X_train, X_test, y_train, y_test = train_test_split(X, y, test_size=0.2, random_state=42)\n",
        "\n",
        "# Train Bagging Regressors with different levels of bootstrap samples\n",
        "for max_samples in [0.5, 0.8, 1.0]:\n",
        "    bagging_reg = BaggingRegressor(estimator=DecisionTreeRegressor(), n_estimators=10, max_samples=max_samples, random_state=42)\n",
        "    bagging_reg.fit(X_train, y_train)\n",
        "    y_pred = bagging_reg.predict(X_test)\n",
        "    mse = mean_squared_error(y_test, y_pred)\n",
        "    print(f\"Max Samples: {max_samples}, MSE: {mse:.2f}\")\n"
      ],
      "metadata": {
        "colab": {
          "base_uri": "https://localhost:8080/"
        },
        "id": "X36k0K9EEHS7",
        "outputId": "6c4521b9-f7b7-4c3b-dc74-91885a406e91"
      },
      "execution_count": 43,
      "outputs": [
        {
          "output_type": "stream",
          "name": "stdout",
          "text": [
            "Max Samples: 0.5, MSE: 7023.84\n",
            "Max Samples: 0.8, MSE: 9035.75\n",
            "Max Samples: 1.0, MSE: 6126.90\n"
          ]
        }
      ]
    }
  ]
}