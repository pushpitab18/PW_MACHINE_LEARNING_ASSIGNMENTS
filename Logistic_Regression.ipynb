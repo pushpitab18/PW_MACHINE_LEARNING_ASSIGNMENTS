{
  "nbformat": 4,
  "nbformat_minor": 0,
  "metadata": {
    "colab": {
      "provenance": [],
      "authorship_tag": "ABX9TyMVnOrpHggo0YyfbM6lNVaU",
      "include_colab_link": true
    },
    "kernelspec": {
      "name": "python3",
      "display_name": "Python 3"
    },
    "language_info": {
      "name": "python"
    }
  },
  "cells": [
    {
      "cell_type": "markdown",
      "metadata": {
        "id": "view-in-github",
        "colab_type": "text"
      },
      "source": [
        "<a href=\"https://colab.research.google.com/github/pushpitab18/PW_MACHINE_LEARNING_ASSIGNMENTS/blob/main/Logistic_Regression.ipynb\" target=\"_parent\"><img src=\"https://colab.research.google.com/assets/colab-badge.svg\" alt=\"Open In Colab\"/></a>"
      ]
    },
    {
      "cell_type": "markdown",
      "source": [
        "#\"Logistic Regression : \"\n",
        "\n",
        "##\"Theoretical Questions and Answers : \""
      ],
      "metadata": {
        "id": "XRN29qcfmYqD"
      }
    },
    {
      "cell_type": "markdown",
      "source": [
        "##Q1 : What is Logistic Regression, and how does it differ from Linear Regression?\n",
        "\n",
        "\n",
        "### ans :  \n",
        "\n",
        "####- Logistic Regression :\n",
        "\n",
        "Logistic Regression, also known as Logit Regression, is a classification algorithm that predicts a binary outcome (0/1, yes/no, etc.) based on one or more input features.\n",
        "\n",
        "####- Linear Regression :\n",
        "\n",
        "Linear Regression is a regression algorithm that predicts a continuous output variable based on one or more input features. The goal is to establish a linear relationship between the inputs and the output.\n",
        "\n",
        "\n",
        "####- Key Differences:\n",
        "\n",
        "1. Outcome Variable: Linear Regression predicts continuous outcomes, while Logistic Regression predicts binary outcomes.\n",
        "2. Relationship Assumption: Linear Regression assumes a linear relationship, whereas Logistic Regression assumes a non-linear, sigmoidal relationship.\n",
        "3. Optimization Technique: Linear Regression uses OLS, while Logistic Regression uses MLE.\n",
        "4. Prediction Output: Linear Regression outputs a continuous value, whereas Logistic Regression outputs a probability between 0 and 1.\n",
        "\n",
        "\n"
      ],
      "metadata": {
        "id": "FqmaAsw9nbYo"
      }
    },
    {
      "cell_type": "markdown",
      "source": [
        "##Q2 : What is the mathematical equation of Logistic Regression?\n",
        "\n",
        "\n",
        "###ans :   \n",
        "\n",
        "\n",
        "####The mathematical equation for Logistic Regression is:\n",
        "\n",
        "- p = 1 / (1 + e^(-z))\n",
        "\n",
        "####- where:\n",
        "\n",
        "p = probability of the positive class (e.g., 1, yes, etc.)\n",
        "\n",
        "e = base of the natural logarithm (approximately 2.718)\n",
        "\n",
        "z = linear combination of input features and weights\n",
        "\n",
        "- z = w0 + w1x1 + w2x2 + … + wnxn\n",
        "\n",
        "####- where:\n",
        "\n",
        "w0 = bias term\n",
        "\n",
        "wi = weights for each input feature xi\n",
        "\n",
        "xi = input features\n",
        "\n",
        "This equation is also known as the sigmoid function or logistic function."
      ],
      "metadata": {
        "id": "Qq7UGl2-ozlp"
      }
    },
    {
      "cell_type": "markdown",
      "source": [
        "##Q3 : Why do we use the Sigmoid function in Logistic Regression?\n",
        "\n",
        "###ans :  \n",
        "\n",
        "####We use the Sigmoid function in Logistic Regression for several reasons:\n",
        "\n",
        "####- Mathematical Properties :\n",
        "\n",
        "1. Maps to a probability: The Sigmoid function maps any real-valued number to a value between 0 and 1, which is ideal for representing probabilities.\n",
        "2. Continuous and differentiable: The Sigmoid function is continuous and differentiable, making it easy to optimize using gradient-based methods.\n",
        "\n",
        "####- Interpretability :\n",
        "\n",
        "1. Easy to interpret: The output of the Sigmoid function can be interpreted as a probability, which is intuitive and easy to understand.\n",
        "2. Odds ratio: The Sigmoid function can be used to model the odds ratio, which is a measure of the strength of association between a predictor and the outcome.\n",
        "\n",
        "####- Computational Efficiency :\n",
        "\n",
        "1. Fast computation: The Sigmoid function is computationally efficient to evaluate, making it suitable for large-scale logistic regression problems.\n",
        "\n",
        "####- Statistical Properties :\n",
        "\n",
        "1. Maximum likelihood estimation: The Sigmoid function is used in logistic regression to model the probability of the positive class, which is essential for maximum likelihood estimation.\n",
        "\n",
        "Overall, the Sigmoid function provides a convenient and interpretable way to model probabilities in logistic regression, while also being computationally efficient and statistically sound."
      ],
      "metadata": {
        "id": "jinAXGNHrvL0"
      }
    },
    {
      "cell_type": "markdown",
      "source": [
        "##Q4 : What is the cost function of Logistic Regression?\n",
        "\n",
        "\n",
        "###ans :  \n",
        "\n",
        "####The cost function of Logistic Regression is called the Log Loss or Cross-Entropy Loss. It is defined as:\n",
        "\n",
        "- J(θ) = -[y * log(h(x)) + (1-y) * log(1-h(x))]\n",
        "\n",
        "####- where :\n",
        "\n",
        "θ: model parameters\n",
        "\n",
        "y: true label (0 or 1)\n",
        "\n",
        "h(x): predicted probability of the positive class\n",
        "\n",
        "x: input features\n",
        "\n",
        "The Log Loss function measures the difference between the predicted probabilities and the true labels. The goal of logistic regression is to minimize the Log Loss function.\n",
        "\n",
        "The Log Loss function is widely used in classification problems, including logistic regression.\n",
        "\n"
      ],
      "metadata": {
        "id": "eHmKYwSntxX0"
      }
    },
    {
      "cell_type": "markdown",
      "source": [
        "##Q5 :  What is Regularization in Logistic Regression? Why is it needed?\n",
        "\n",
        "\n",
        "###ans :\n",
        "\n",
        "#### Regularization in Logistic Regression is a technique used to prevent overfitting by adding a penalty term to the cost function. The penalty term is proportional to the magnitude of the model's coefficients.\n",
        "\n",
        "####Why is Regularization needed?\n",
        "\n",
        "1. Overfitting: Without regularization, logistic regression models can become too complex and fit the noise in the training data, resulting in poor performance on new, unseen data.\n",
        "2. Feature selection: Regularization can help select the most relevant features by shrinking the coefficients of irrelevant features.\n",
        "3. Model interpretability: Regularization can improve model interpretability by reducing the impact of correlated features.\n",
        "\n",
        "Regularization is a crucial technique in logistic regression, as it helps prevent overfitting, improves model interpretability, and selects the most relevant features.\n",
        "\n"
      ],
      "metadata": {
        "id": "Sb6o8x_Iu4xA"
      }
    },
    {
      "cell_type": "markdown",
      "source": [
        "##Q6 : Explain the difference between Lasso, Ridge, and Elastic Net regression.\n",
        "\n",
        "\n",
        "###ans :  \n",
        "\n",
        "Lasso, Ridge, and Elastic Net are regularization techniques used in linear regression to prevent overfitting. The main difference between them lies in the way they penalize the model's coefficients.\n",
        "\n",
        "####- Lasso Regression (L1 Regularization) :\n",
        "\n",
        "- Penalty term: Absolute value of the coefficients (|β|).\n",
        "- Effect: Shrinks some coefficients to zero, effectively performing feature selection.\n",
        "- Use case: When there are many irrelevant features, and you want to select the most important ones.\n",
        "\n",
        "####- Ridge Regression (L2 Regularization) :\n",
        "\n",
        "- Penalty term: Square of the coefficients (β²).\n",
        "- Effect: Shrinks all coefficients by a certain amount, but doesn't set any to zero.\n",
        "- Use case: When all features are relevant, and you want to reduce the impact of correlated features.\n",
        "\n",
        "####- Elastic Net Regression :\n",
        "\n",
        "- Penalty term: Combination of L1 and L2 penalties (α|β| + (1-α)β²).\n",
        "- Effect: Balances between Lasso's feature selection and Ridge's coefficient shrinkage.\n",
        "- Use case: When you want to select important features and reduce the impact of correlated features.\n"
      ],
      "metadata": {
        "id": "9GncHB1EwJKF"
      }
    },
    {
      "cell_type": "markdown",
      "source": [
        "##Q7 : When should we use Elastic Net instead of Lasso or Ridge?\n",
        "\n",
        "###ans :  \n",
        "\n",
        "####Use Elastic Net instead of Lasso or Ridge in the following situations:\n",
        "\n",
        "####- When to prefer Elastic Net over Lasso :\n",
        "\n",
        "1. Correlated features: When features are highly correlated, Lasso may arbitrarily select one feature over the other. Elastic Net's L2 penalty helps to reduce the impact of correlated features.\n",
        "2. Many relevant features: When there are many relevant features, Lasso may not be able to select all of them due to its L1 penalty. Elastic Net's combination of L1 and L2 penalties can help select multiple relevant features.\n",
        "\n",
        "####- When to prefer Elastic Net over Ridge :\n",
        "\n",
        "1. Feature selection: When feature selection is important, Elastic Net's L1 penalty can help identify the most relevant features, whereas Ridge regression may not perform feature selection.\n",
        "2. High-dimensional data: In high-dimensional data, Ridge regression may overfit due to the large number of features. Elastic Net's L1 penalty can help reduce the dimensionality and prevent overfitting.\n"
      ],
      "metadata": {
        "id": "EfVY04bMxhil"
      }
    },
    {
      "cell_type": "markdown",
      "source": [
        "##Q8 : What is the impact of the regularization parameter (λ) in Logistic Regression?\n",
        "\n",
        "###ans :   \n",
        "\n",
        "####The regularization parameter\n",
        "\n",
        "𝜆(lambda) in Logistic Regression plays a crucial role in preventing overfitting and improving the model's generalization to new data. Here's how it impacts the model:\n",
        "\n",
        "####Regularization Type: In Logistic Regression, you can apply two types of regularization:\n",
        "\n",
        "####- L1 Regularization (Lasso):\n",
        "\n",
        "Encourages sparsity in the model by penalizing the absolute values of the coefficients. This can lead to some coefficients being exactly zero, effectively performing feature selection.\n",
        "\n",
        "####- L2 Regularization (Ridge):\n",
        "\n",
        "Penalizes the sum of the squared coefficients. This helps shrink the coefficients toward zero but doesn't eliminate them, leading to more stable and less sensitive predictions.\n",
        "\n",
        "####- Effects of λ :\n",
        "- Small λ (λ → 0) :\n",
        "1. Under-regularization: The model is not regularized enough, leading to overfitting.\n",
        "2. Large coefficients: The model's coefficients can become very large, making the model prone to overfitting.\n",
        "\n",
        "- Large λ (λ → ∞) :\n",
        "1. Over-regularization: The model is regularized too much, leading to underfitting.\n",
        "2. Small coefficients: The model's coefficients are shrunk towards zero, making the model too simple.\n"
      ],
      "metadata": {
        "id": "pIn9Qf8Qz8Ur"
      }
    },
    {
      "cell_type": "markdown",
      "source": [
        "##Q9 : What are the key assumptions of Logistic Regression?\n",
        "\n",
        "\n",
        "###ans :  \n",
        "\n",
        "####Logistic Regression relies on the following key assumptions:\n",
        "\n",
        "1. Binary Dependent Variable :\n",
        "\n",
        "The dependent variable should be binary (0/1, yes/no, etc.).\n",
        "\n",
        "2. Independence of Observations :\n",
        "\n",
        "Each observation should be independent of the others.\n",
        "\n",
        "3. Linearity in the Log-Odds :\n",
        "\n",
        "The relationship between the independent variables and the log-odds of the dependent variable should be linear.\n",
        "\n",
        "4. No Multicollinearity :\n",
        "\n",
        "Independent variables should not be highly correlated with each other.\n",
        "\n",
        "5. Homoscedasticity:\n",
        "\n",
        "The variance of the residuals should be constant across all levels of the independent variables.\n",
        "\n",
        "6. No Outliers :\n",
        "\n",
        "There should be no outliers in the data.\n",
        "\n",
        "7. Correct Functional Form :\n",
        "\n",
        "The correct functional form of the relationship between the independent variables and the dependent variable should be specified.\n",
        "\n",
        "Violating these assumptions can lead to inaccurate predictions, biased coefficients, or incorrect inference."
      ],
      "metadata": {
        "id": "VYzFCrbx7om8"
      }
    },
    {
      "cell_type": "markdown",
      "source": [
        "##Q10 : What are some alternatives to Logistic Regression for classification tasks?\n",
        "\n",
        "###ans :\n",
        "\n",
        "####Here are some popular alternatives to Logistic Regression for classification tasks:\n",
        "\n",
        "1. Decision Trees :\n",
        "\n",
        "Decision Trees are a simple, yet effective method for classification. They work by recursively partitioning the data into smaller subsets based on the features.\n",
        "\n",
        "2. Random Forests :\n",
        "\n",
        "Random Forests are an ensemble learning method that combines multiple Decision Trees to improve the accuracy and robustness of the model.\n",
        "\n",
        "3. Support Vector Machines (SVMs) :\n",
        "\n",
        "SVMs are a powerful classification method that can handle high-dimensional data. They work by finding the hyperplane that maximally separates the classes.\n",
        "\n",
        "4. K-Nearest Neighbors (KNN) :\n",
        "\n",
        "KNN is a simple, non-parametric method that classifies new instances based on the majority vote of their k-nearest neighbors.\n",
        "\n",
        "5. Naive Bayes :\n",
        "\n",
        "Naive Bayes is a probabilistic method that assumes independence between features. It's simple, efficient, and often surprisingly effective.\n",
        "\n",
        "6. Neural Networks :\n",
        "\n",
        "Neural Networks are a powerful class of models that can learn complex relationships between features. They're particularly useful for image and speech classification tasks.\n",
        "\n",
        "7. Gradient Boosting Machines (GBMs) :\n",
        "\n",
        "GBMs are an ensemble learning method that combines multiple weak models to create a strong predictive model.\n",
        "\n",
        "8. Extreme Gradient Boosting (XGBoost) :\n",
        "\n",
        "XGBoost is an optimized implementation of GBMs that's particularly effective for large-scale classification tasks.\n"
      ],
      "metadata": {
        "id": "xp28YowG8QLl"
      }
    },
    {
      "cell_type": "markdown",
      "source": [
        "##Q11 :  What are Classification Evaluation Metrics?\n",
        "\n",
        "###ans :\n",
        "\n",
        "Classification Evaluation Metrics are used to assess the performance of a classification model. Here are some common metrics:\n",
        "\n",
        "####- Accuracy Metrics :\n",
        "1. Accuracy: Proportion of correctly classified instances.\n",
        "Formula: Accuracy = (TP + TN) / (TP + TN + FP + FN)\n",
        "2. Error Rate: Proportion of misclassified instances.\n",
        "Formula: Error Rate = (FP + FN) / (TP + TN + FP + FN)\n",
        "\n",
        "####- Class-Specific Metrics :\n",
        "1. Precision: Proportion of true positives among all predicted positive instances.\n",
        "Formula: Precision = TP / (TP + FP)\n",
        "2. Recall: Proportion of true positives among all actual positive instances.\n",
        "Formula: Recall = TP / (TP + FN)\n",
        "3. F1-score: Harmonic mean of precision and recall.\n",
        "Formula: F1-score = 2 * (Precision * Recall) / (Precision + Recall)\n",
        "4. True Positive Rate (TPR): Same as recall.\n",
        "5. False Positive Rate (FPR): Proportion of false positives among all actual negative instances.\n",
        "Formula: FPR = FP / (TN + FP)\n",
        "\n",
        "####- Other Metrics :\n",
        "1. Area Under the Receiver Operating Characteristic Curve (AUC-ROC): Measures the model's ability to distinguish between positive and negative classes.\n",
        "2. Area Under the Precision-Recall Curve (AUC-PR): Measures the model's ability to detect positive instances.\n",
        "3. Confusion Matrix: A table that summarizes the predictions against the actual outcomes.\n"
      ],
      "metadata": {
        "id": "F5S9G-4-81j4"
      }
    },
    {
      "cell_type": "markdown",
      "source": [
        "##Q12 : How does class imbalance affect Logistic Regression?\n",
        "\n",
        "###ans :\n",
        "\n",
        "Class imbalance occurs when the number of instances in one class significantly outweighs the number of instances in the other class(es). This can affect Logistic Regression in several ways:\n",
        "\n",
        "####- Effects on Logistic Regression :\n",
        "1. Biased coefficients: The model may assign more weight to the majority class, leading to biased coefficients.\n",
        "2. Poor predictive performance: The model may not generalize well to the minority class, resulting in poor predictive performance.\n",
        "3. Inaccurate probability estimates: The model may produce inaccurate probability estimates for the minority class.\n",
        "4. Overfitting: The model may overfit to the majority class, resulting in poor performance on new, unseen data.\n",
        "\n",
        "###- Addressing Class Imbalance :\n",
        "1. Oversampling the minority class: Create additional instances of the minority class to balance the dataset.\n",
        "2. Undersampling the majority class: Reduce the number of instances in the majority class to balance the dataset.\n",
        "3. SMOTE (Synthetic Minority Over-sampling Technique): Generate synthetic instances of the minority class using interpolation.\n",
        "4. Class weighting: Assign different weights to the classes during training, with higher weights for the minority class.\n",
        "5. Anomaly detection algorithms: Use algorithms specifically designed for anomaly detection, such as One-Class SVM or Local Outlier Factor (LOF).\n",
        "6. Ensemble methods: Use ensemble methods, such as Random Forest or Gradient Boosting, which can handle class imbalance.\n"
      ],
      "metadata": {
        "id": "WOXRTA4bBW8u"
      }
    },
    {
      "cell_type": "markdown",
      "source": [
        "##Q13 : What is Hyperparameter Tuning in Logistic Regression?\n",
        "\n",
        "\n",
        "###ans :  \n",
        "\n",
        "Hyperparameter Tuning in Logistic Regression is the process of selecting the optimal hyperparameters for a Logistic Regression model to achieve the best predictive performance.\n",
        "\n",
        "####- Hyperparameters in Logistic Regression :\n",
        "1. Regularization strength (C or λ): Controls the amount of regularization applied to the model.\n",
        "2. Penalty type (L1 or L2): Determines the type of regularization used (Lasso or Ridge).\n",
        "3. Max iterations: The maximum number of iterations allowed for the model to converge.\n",
        "4. Tolerance: The convergence threshold for the model.\n",
        "\n",
        "####- Hyperparameter Tuning Techniques :\n",
        "1. Grid Search: Exhaustively searches through a predefined grid of hyperparameters to find the best combination.\n",
        "2. Random Search: Randomly samples hyperparameters from a predefined distribution to find the best combination.\n",
        "3. Bayesian Optimization: Uses Bayesian inference to search for the optimal hyperparameters.\n",
        "4. Cross-Validation: Evaluates the model's performance on unseen data using different hyperparameter combinations.\n"
      ],
      "metadata": {
        "id": "8lq1YvCKDTqy"
      }
    },
    {
      "cell_type": "markdown",
      "source": [
        "##Q14 :  What are different solvers in Logistic Regression? Which one should be used?\n",
        "\n",
        "\n",
        "###ans :\n",
        "\n",
        "In Logistic Regression, solvers are algorithms used to optimize the model's parameters. Here are some common solvers:\n",
        "\n",
        "####- Solvers in Logistic Regression :\n",
        "1. Liblinear: A linear solver that uses the LIBLINEAR library. Suitable for small to medium-sized datasets.\n",
        "2. SAGA: A stochastic gradient descent solver that uses the SAGA algorithm. Suitable for large datasets.\n",
        "3. SAG: A stochastic gradient descent solver that uses the SAG algorithm. Similar to SAGA but less efficient.\n",
        "4. Newton-CG: A Newton conjugate gradient solver. Suitable for small to medium-sized datasets.\n",
        "5. LBFGS: A limited-memory BFGS solver. Suitable for small to medium-sized datasets.\n",
        "\n",
        "####- Choosing a Solver :\n",
        "1. Default solver: Liblinear is often the default solver. If you're unsure, start with this.\n",
        "2. Dataset size: For large datasets, use SAGA or SAG. For small datasets, use Liblinear, Newton-CG, or LBFGS.\n",
        "3. Computational resources: If computational resources are limited, use Liblinear or SAGA.\n",
        "4. Convergence speed: If fast convergence is necessary, use Newton-CG or LBFGS.\n",
        "5. Regularization: If regularization is used, Liblinear or SAGA may be a better choice.\n"
      ],
      "metadata": {
        "id": "ejTI2w5yECxa"
      }
    },
    {
      "cell_type": "markdown",
      "source": [
        "##Q15 : How is Logistic Regression extended for multiclass classification?\n",
        "\n",
        "\n",
        "###ans :\n",
        "\n",
        "Logistic Regression can be extended for multiclass classification using the following methods:\n",
        "\n",
        "####- One-vs-Rest (OvR) Method :\n",
        "1. Train multiple binary models: Train a separate Logistic Regression model for each class, where the positive class is the class of interest and the negative class is the combination of all other classes.\n",
        "2. Predict probabilities: Predict the probabilities for each class using the corresponding binary model.\n",
        "3. Choose the class with the highest probability: Select the class with the highest predicted probability as the final prediction.\n",
        "\n",
        "####- One-vs-One (OvO) Method :\n",
        "1. Train multiple binary models: Train a separate Logistic Regression model for each pair of classes.\n",
        "2. Predict probabilities: Predict the probabilities for each class using the corresponding binary model.\n",
        "3. Use voting: Use a voting scheme to determine the final prediction, where each binary model votes for one of the two classes it was trained on.\n",
        "\n",
        "####- Multinomial Logistic Regression :\n",
        "1. Use a softmax activation function: Replace the sigmoid activation function with a softmax activation function, which outputs a probability distribution over all classes.\n",
        "2. Use a cross-entropy loss function: Use a cross-entropy loss function to train the model, which measures the difference between the predicted probabilities and the true labels.\n",
        "\n",
        "Multinomial Logistic Regression is a more straightforward extension of Logistic Regression for multiclass classification, while OvR and OvO are more complex methods that require training multiple models."
      ],
      "metadata": {
        "id": "bD0QclRyE7I2"
      }
    },
    {
      "cell_type": "markdown",
      "source": [
        "##Q16 : What are the advantages and disadvantages of Logistic Regression?\n",
        "\n",
        "\n",
        "###ans :\n",
        "\n",
        "Here are the advantages and disadvantages of Logistic Regression:\n",
        "\n",
        "####- Advantages :\n",
        "1. Interpretability: Logistic Regression is a simple and interpretable model, making it easy to understand the relationships between the features and the target variable.\n",
        "2. Efficient computation: Logistic Regression is computationally efficient and can be trained on large datasets.\n",
        "3. Robustness to noise: Logistic Regression is robust to noisy data and can handle outliers.\n",
        "4. Easy to implement: Logistic Regression is a widely used algorithm, and its implementation is straightforward in most programming languages.\n",
        "5. Provides probabilities: Logistic Regression provides probabilities for each class, which can be useful in certain applications.\n",
        "\n",
        "####- Disadvantages :\n",
        "1. Assumes linear relationship: Logistic Regression assumes a linear relationship between the features and the log-odds of the target variable, which may not always be the case.\n",
        "2. Not suitable for complex relationships: Logistic Regression is not suitable for modeling complex relationships between features, such as interactions or non-linear effects.\n",
        "3. Sensitive to feature scaling: Logistic Regression is sensitive to feature scaling, and scaling the features can affect the model's performance.\n",
        "4. May not perform well with imbalanced data: Logistic Regression may not perform well with imbalanced data, where one class has a significantly larger number of instances than the other class.\n",
        "5. May not handle high-dimensional data: Logistic Regression may not handle high-dimensional data well, especially when the number of features is larger than the number of instances."
      ],
      "metadata": {
        "id": "n_WxJRgmFcFC"
      }
    },
    {
      "cell_type": "markdown",
      "source": [
        "##Q17 : What are some use cases of Logistic Regression?\n",
        "\n",
        "\n",
        "###ans :\n",
        "\n",
        "Logistic Regression is a versatile algorithm that can be applied to various domains and use cases, including:\n",
        "\n",
        "####- Medical Diagnosis :\n",
        "1. Disease diagnosis: Predict the likelihood of a disease based on symptoms, medical history, and test results.\n",
        "2. Patient risk assessment: Identify high-risk patients for complications or readmissions.\n",
        "\n",
        "####- Finance :\n",
        "1. Credit risk assessment: Predict the likelihood of loan defaults or credit card fraud.\n",
        "2. Insurance risk assessment: Determine premiums based on policyholder characteristics.\n",
        "\n",
        "####- Marketing :\n",
        "1. Customer churn prediction: Identify customers likely to switch to a competitor.\n",
        "2. Lead scoring: Predict the likelihood of converting leads into sales.\n",
        "\n",
        "####- Social Media :\n",
        "1. Sentiment analysis: Classify text as positive, negative, or neutral.\n",
        "2. Spam detection: Identify spam comments or messages.\n",
        "\n",
        "####- Education :\n",
        "1. Student performance prediction: Predict student grades or dropout likelihood.\n",
        "2. Admissions prediction: Determine the likelihood of admission to a university.\n",
        "\n",
        "####- Customer Service :\n",
        "1. Ticket classification: Classify support tickets into categories (e.g., technical, billing).\n",
        "2. Chatbot intent identification: Determine the user's intent behind a chatbot query.\n",
        "\n",
        "####- Sports :\n",
        "1. Game outcome prediction: Predict the likelihood of a team winning a game.\n",
        "2. Player performance prediction: Predict a player's future performance based on past data.\n",
        "\n",
        "These are just a few examples of the many use cases of Logistic Regression. The algorithm can be applied to any problem that involves predicting a binary outcome based on a set of input features."
      ],
      "metadata": {
        "id": "FmtIKVK_FyIc"
      }
    },
    {
      "cell_type": "markdown",
      "source": [
        "##Q18 : What is the difference between Softmax Regression and Logistic Regression?\n",
        "\n",
        "###ans :\n",
        "\n",
        "Softmax Regression and Logistic Regression are both supervised learning algorithms used for classification tasks. However, they differ in the number of classes they can handle and the output they produce:\n",
        "\n",
        "####- Logistic Regression :\n",
        "1. Binary classification: Logistic Regression is used for binary classification problems, where there are only two classes (e.g., 0 and 1, yes and no).\n",
        "2. Sigmoid output: Logistic Regression uses a sigmoid function to produce a probability output between 0 and 1, indicating the likelihood of belonging to the positive class.\n",
        "3. One-vs-Rest approach: For multi-class problems, Logistic Regression can be extended using the One-vs-Rest approach, where multiple binary models are trained.\n",
        "\n",
        "####- Softmax Regression :\n",
        "1. Multi-class classification: Softmax Regression is used for multi-class classification problems, where there are more than two classes (e.g., handwritten digit recognition).\n",
        "2. Softmax output: Softmax Regression uses a softmax function to produce a probability distribution over all classes, ensuring the probabilities sum to 1.\n",
        "3. Single model: Softmax Regression trains a single model that can handle multiple classes directly, eliminating the need for multiple binary models.\n",
        "\n"
      ],
      "metadata": {
        "id": "0In7FM81GpzU"
      }
    },
    {
      "cell_type": "markdown",
      "source": [
        "##Q19 : How do we choose between One-vs-Rest (OvR) and Softmax for multiclass classification?\n",
        "\n",
        "\n",
        "###ans :\n",
        "\n",
        "Choosing between One-vs-Rest (OvR) and Softmax for multiclass classification depends on several factors. Here are some considerations to help us decide:\n",
        "\n",
        "####- One-vs-Rest (OvR) :\n",
        "1. Interpretability: OvR provides separate models for each class, making it easier to interpret the results.\n",
        "2. Flexibility: OvR allows for different classification algorithms to be used for each class.\n",
        "3. Handling imbalanced data: OvR can handle imbalanced data by using class weights or sampling techniques.\n",
        "4. Computational complexity: OvR can be computationally expensive, especially for large datasets.\n",
        "\n",
        "####- Softmax :\n",
        "1. Efficiency: Softmax is generally more efficient than OvR, especially for large datasets.\n",
        "2. Multi-class handling: Softmax is designed for multi-class classification and can handle multiple classes naturally.\n",
        "3. Probabilistic output: Softmax provides a probabilistic output, which can be useful for certain applications.\n",
        "4. Assumes mutual exclusivity: Softmax assumes that the classes are mutually exclusive, which might not always be the case.\n",
        "\n",
        "####- Choosing between OvR and Softmax :\n",
        "1. Number of classes: If there are only a few classes, OvR might be a better choice. For a large number of classes, Softmax might be more efficient.\n",
        "2. Class balance: If the classes are imbalanced, OvR might be a better choice, as it allows for class weights or sampling techniques.\n",
        "3. Interpretability: If interpretability is important, OvR might be a better choice, as it provides separate models for each class.\n",
        "4. Computational resources: If computational resources are limited, Softmax might be a better choice, as it is generally more efficient.\n"
      ],
      "metadata": {
        "id": "bkVQzDA9HDbT"
      }
    },
    {
      "cell_type": "markdown",
      "source": [
        "##Q20 : How do we interpret coefficients in Logistic Regression?\n",
        "\n",
        "###ans :\n",
        "\n",
        "Interpreting coefficients in Logistic Regression can be a bit tricky, but here's a step-by-step guide:\n",
        "\n",
        "####- Coefficient Interpretation :\n",
        "1. Odds Ratio: The coefficient represents the change in the log-odds of the outcome variable for a one-unit change in the predictor variable, while holding all other predictors constant.\n",
        "2. Log-Odds: The log-odds are the natural logarithm of the odds of the outcome variable. The odds are the ratio of the probability of the outcome variable being true to the probability of it being false.\n",
        "3. Positive and Negative Coefficients: A positive coefficient indicates that an increase in the predictor variable is associated with an increase in the log-odds of the outcome variable. A negative coefficient indicates that an increase in the predictor variable is associated with a decrease in the log-odds of the outcome variable.\n",
        "\n",
        "####- Calculating Odds Ratios :\n",
        "1. Exponentiate the Coefficient: To calculate the odds ratio, exponentiate the coefficient (i.e., e^coefficient).\n",
        "2. Interpret the Odds Ratio: An odds ratio greater than 1 indicates that an increase in the predictor variable is associated with an increase in the odds of the outcome variable. An odds ratio less than 1 indicates that an increase in the predictor variable is associated with a decrease in the odds of the outcome variable.\n",
        "\n",
        "####- Example :\n",
        "Suppose we have a logistic regression model predicting the probability of a person having a heart attack based on their age. The coefficient for age is 0.05.\n",
        "\n",
        "1. Interpret the Coefficient: For every one-year increase in age, the log-odds of having a heart attack increase by 0.05.\n",
        "2. Calculate the Odds Ratio: Exponentiate the coefficient: e^0.05 ≈ 1.05.\n",
        "3. Interpret the Odds Ratio: For every one-year increase in age, the odds of having a heart attack increase by 5%.\n"
      ],
      "metadata": {
        "id": "Wup2wltTHp3R"
      }
    },
    {
      "cell_type": "markdown",
      "source": [
        "#\"Practical Questions and Answers : \""
      ],
      "metadata": {
        "id": "8DC8lE5fA01E"
      }
    },
    {
      "cell_type": "code",
      "source": [
        "#importing necessary libraries\n",
        "\n",
        "\n",
        "import pandas as pd\n",
        "import numpy as np\n",
        "import matplotlib.pyplot as plt\n",
        "import seaborn as sns\n",
        "\n",
        "import warnings\n",
        "warnings.filterwarnings('ignore')\n",
        "\n",
        "\n",
        "from sklearn.datasets import load_iris\n",
        "from sklearn.model_selection import train_test_split,GridSearchCV\n",
        "from sklearn.linear_model import LogisticRegression\n",
        "from sklearn.model_selection import StratifiedKFold\n",
        "from sklearn.metrics import accuracy_score, classification_report, confusion_matrix\n",
        "\n",
        "\n",
        "# Loading the Iris dataset\n",
        "data = load_iris()\n",
        "\n",
        "# Spliting the dataset into features (X) and target (y)\n",
        "X = data.data # Changed from iris.data to data.data\n",
        "y = data.target # Changed from iris.target to data.target\n",
        "\n",
        "# Spliting the dataset into training and testing sets\n",
        "X_train, X_test, y_train, y_test = train_test_split(X, y, test_size=0.2, random_state=42)"
      ],
      "metadata": {
        "id": "KPRnl7w-Bd--"
      },
      "execution_count": null,
      "outputs": []
    },
    {
      "cell_type": "code",
      "source": [
        "data = load_iris()"
      ],
      "metadata": {
        "id": "llHijxv0BFZX"
      },
      "execution_count": null,
      "outputs": []
    },
    {
      "cell_type": "markdown",
      "source": [
        "##Q1 : Write a Python program that loads a dataset, splits it into training and testing sets, applies Logistic Regression, and prints the model accuracy.\n",
        "\n"
      ],
      "metadata": {
        "id": "OFpn3yhlBCIT"
      }
    },
    {
      "cell_type": "code",
      "source": [
        "#ans:\n",
        "\n",
        "# Creating a Logistic Regression model\n",
        "model = LogisticRegression(max_iter=1000)\n",
        "\n",
        "# Training the model using the training data\n",
        "model.fit(X_train, y_train)\n",
        "\n",
        "# Making predictions using the testing data\n",
        "y_pred = model.predict(X_test)\n",
        "\n",
        "#calculating the model accuracy\n",
        "accuracy = accuracy_score(y_test, y_pred)\n",
        "\n",
        "print(\"Model Accuracy:\", accuracy)"
      ],
      "metadata": {
        "colab": {
          "base_uri": "https://localhost:8080/"
        },
        "id": "i8-h5lznByfk",
        "outputId": "65c2f6f7-1ce2-4ee6-9916-ada0a153e79b"
      },
      "execution_count": null,
      "outputs": [
        {
          "output_type": "stream",
          "name": "stdout",
          "text": [
            "Model Accuracy: 1.0\n"
          ]
        }
      ]
    },
    {
      "cell_type": "markdown",
      "source": [
        "##Q2 : Write a Python program to apply L1 regularization (Lasso) on a dataset using LogisticRegression(penalty='l1') and print the model accuracy."
      ],
      "metadata": {
        "id": "qK3s2DReWs_e"
      }
    },
    {
      "cell_type": "code",
      "source": [
        "#ans :\n",
        "\n",
        "# Creating a Logistic Regression model with L1 regularization (Lasso)\n",
        "model = LogisticRegression(penalty='l1', solver='liblinear', max_iter=1000)\n",
        "\n",
        "# Training the model using the training data\n",
        "model.fit(X_train, y_train)\n",
        "\n",
        "# Making predictions using the testing data\n",
        "y_pred = model.predict(X_test)\n",
        "\n",
        "# Calculating the model accuracy\n",
        "accuracy = accuracy_score(y_test, y_pred)\n",
        "\n",
        "#the model accuracy\n",
        "print(\"Model Accuracy:\", accuracy)\n",
        "\n",
        "# the coefficients of the model\n",
        "print(\"Model Coefficients:\", model.coef_)\n"
      ],
      "metadata": {
        "colab": {
          "base_uri": "https://localhost:8080/"
        },
        "id": "KkOD_EnTXK8K",
        "outputId": "2f634be7-da06-4dc1-891b-ab1ef596d61a"
      },
      "execution_count": null,
      "outputs": [
        {
          "output_type": "stream",
          "name": "stdout",
          "text": [
            "Model Accuracy: 1.0\n",
            "Model Coefficients: [[ 0.          2.36286687 -2.6717545   0.        ]\n",
            " [ 0.69336361 -1.78834497  0.24509862 -0.89010743]\n",
            " [-2.20234119 -2.83339142  3.20375711  3.72134126]]\n"
          ]
        }
      ]
    },
    {
      "cell_type": "markdown",
      "source": [
        "##Q3 : Write a Python program to train Logistic Regression with L2 regularization (Ridge) using LogisticRegression(penalty='l2'). Print model accuracy and coefficients."
      ],
      "metadata": {
        "id": "BgibLHqPaa8q"
      }
    },
    {
      "cell_type": "code",
      "source": [
        "#ans :\n",
        "\n",
        "# Creating a Logistic Regression model with L2 regularization (Ridge)\n",
        "model = LogisticRegression(penalty='l2', max_iter=1000)\n",
        "\n",
        "# Training the model using the training data\n",
        "model.fit(X_train, y_train)\n",
        "\n",
        "# Making predictions using the testing data\n",
        "y_pred = model.predict(X_test)\n",
        "\n",
        "# Calculating the model accuracy\n",
        "accuracy = accuracy_score(y_test, y_pred)\n",
        "\n",
        "# the model accuracy\n",
        "print(\"Model Accuracy:\", accuracy)\n",
        "\n",
        "# the coefficients of the model\n",
        "print(\"Model Coefficients:\\n\", model.coef_)\n"
      ],
      "metadata": {
        "colab": {
          "base_uri": "https://localhost:8080/"
        },
        "id": "44JRlxncahq8",
        "outputId": "705ca6aa-4e83-4fcc-939e-06d6841319ff"
      },
      "execution_count": null,
      "outputs": [
        {
          "output_type": "stream",
          "name": "stdout",
          "text": [
            "Model Accuracy: 1.0\n",
            "Model Coefficients:\n",
            " [[-0.39340204  0.96258576 -2.37510761 -0.99874603]\n",
            " [ 0.50840364 -0.25486503 -0.21301366 -0.77575487]\n",
            " [-0.1150016  -0.70772072  2.58812127  1.77450091]]\n"
          ]
        }
      ]
    },
    {
      "cell_type": "markdown",
      "source": [
        "##Q4 : Write a Python program to train Logistic Regression with Elastic Net Regularization (penalty='elasticnet')."
      ],
      "metadata": {
        "id": "3GKeZE_fbx4Q"
      }
    },
    {
      "cell_type": "code",
      "source": [
        "#ans :\n",
        "\n",
        "#Creating a Logistic Regression model with Elastic Net Regularization\n",
        "model = LogisticRegression(penalty='elasticnet', solver='saga', max_iter=1000, l1_ratio=0.5)\n",
        "\n",
        "# Training the model using the training data\n",
        "model.fit(X_train, y_train)\n",
        "\n",
        "# Making predictions using the testing data\n",
        "y_pred = model.predict(X_test)\n",
        "\n",
        "# Calculating the model accuracy\n",
        "accuracy = accuracy_score(y_test, y_pred)\n",
        "\n",
        "# model accuracy\n",
        "print(\"Model Accuracy:\", accuracy)\n",
        "\n",
        "# coefficients of the model\n",
        "print(\"Model Coefficients:\\n\", model.coef_)\n",
        "\n"
      ],
      "metadata": {
        "colab": {
          "base_uri": "https://localhost:8080/"
        },
        "id": "o1t_Q2P-b4NK",
        "outputId": "56ca2e18-2a30-4fce-a6fb-c2ca00d1ecc2"
      },
      "execution_count": null,
      "outputs": [
        {
          "output_type": "stream",
          "name": "stdout",
          "text": [
            "Model Accuracy: 1.0\n",
            "Model Coefficients:\n",
            " [[ 0.02831438  1.59695199 -2.42639831 -0.59307427]\n",
            " [ 0.          0.          0.         -0.50457075]\n",
            " [-0.78010806 -0.95700738  2.74511882  2.09727486]]\n"
          ]
        }
      ]
    },
    {
      "cell_type": "markdown",
      "source": [
        "##Q5 : Write a Python program to train a Logistic Regression model for multiclass classification using multi_class='ovr'."
      ],
      "metadata": {
        "id": "YF_uZe6zcXGh"
      }
    },
    {
      "cell_type": "code",
      "source": [
        "#ans :\n",
        "\n",
        "# Creating a Logistic Regression model for multiclass classification using one-vs-rest\n",
        "model = LogisticRegression(max_iter=1000, multi_class='ovr')\n",
        "\n",
        "# Training the model using the training data\n",
        "model.fit(X_train, y_train)\n",
        "\n",
        "# Making predictions using the testing data\n",
        "y_pred = model.predict(X_test)\n",
        "\n",
        "# Calculating the model accuracy\n",
        "accuracy = accuracy_score(y_test, y_pred)\n",
        "\n",
        "# model accuracy\n",
        "print(\"Model Accuracy:\", accuracy)\n",
        "\n",
        "# classification report\n",
        "print(\"Classification Report:\\n\", classification_report(y_test, y_pred))\n",
        "\n",
        "# confusion matrix\n",
        "print(\"Confusion Matrix:\\n\", confusion_matrix(y_test, y_pred))\n"
      ],
      "metadata": {
        "colab": {
          "base_uri": "https://localhost:8080/"
        },
        "id": "Ns-TWoc8cdaJ",
        "outputId": "585f90e1-d29b-4499-d55a-a24fe18268e9"
      },
      "execution_count": null,
      "outputs": [
        {
          "output_type": "stream",
          "name": "stdout",
          "text": [
            "Model Accuracy: 0.9666666666666667\n",
            "Classification Report:\n",
            "               precision    recall  f1-score   support\n",
            "\n",
            "           0       1.00      1.00      1.00        10\n",
            "           1       1.00      0.89      0.94         9\n",
            "           2       0.92      1.00      0.96        11\n",
            "\n",
            "    accuracy                           0.97        30\n",
            "   macro avg       0.97      0.96      0.97        30\n",
            "weighted avg       0.97      0.97      0.97        30\n",
            "\n",
            "Confusion Matrix:\n",
            " [[10  0  0]\n",
            " [ 0  8  1]\n",
            " [ 0  0 11]]\n"
          ]
        }
      ]
    },
    {
      "cell_type": "markdown",
      "source": [
        "##Q6 : Write a Python program to apply GridSearchCV to tune the hyperparameters (C and penalty) of Logistic Regression. Print the best parameters and accuracy."
      ],
      "metadata": {
        "id": "oPa9eSi-dpSi"
      }
    },
    {
      "cell_type": "code",
      "source": [
        "#ans :\n",
        "\n",
        "# the hyperparameter grid\n",
        "param_grid = {\n",
        "    'C': [0.1, 1, 10],\n",
        "    'penalty': ['l1', 'l2']\n",
        "}\n",
        "\n",
        "# Creating a Logistic Regression model\n",
        "model = LogisticRegression(max_iter=1000, solver='liblinear')\n",
        "\n",
        "# Applying GridSearchCV to tune the hyperparameters\n",
        "grid_search = GridSearchCV(model, param_grid, cv=5)\n",
        "grid_search.fit(X_train, y_train)\n",
        "\n",
        "# the best parameters\n",
        "print(\"Best Parameters:\", grid_search.best_params_)\n",
        "\n",
        "# the best accuracy\n",
        "print(\"Best Accuracy:\", grid_search.best_score_)\n",
        "\n",
        "# Evaluating the best model on the testing set\n",
        "best_model = grid_search.best_estimator_\n",
        "y_pred = best_model.predict(X_test)\n",
        "accuracy = accuracy_score(y_test, y_pred)\n",
        "print(\"Accuracy on Testing Set:\", accuracy)\n"
      ],
      "metadata": {
        "colab": {
          "base_uri": "https://localhost:8080/"
        },
        "id": "xiONF6XXdwZT",
        "outputId": "c15644d3-c4a3-47bf-fd02-9e4672a7c67c"
      },
      "execution_count": null,
      "outputs": [
        {
          "output_type": "stream",
          "name": "stdout",
          "text": [
            "Best Parameters: {'C': 10, 'penalty': 'l1'}\n",
            "Best Accuracy: 0.9583333333333334\n",
            "Accuracy on Testing Set: 1.0\n"
          ]
        }
      ]
    },
    {
      "cell_type": "markdown",
      "source": [
        "##Q7 : Write a Python program to evaluate Logistic Regression using Stratified K-Fold Cross-Validation. Print the average accuracy."
      ],
      "metadata": {
        "id": "ioM64x6tj65f"
      }
    },
    {
      "cell_type": "code",
      "source": [
        "#ans :\n",
        "\n",
        "#Here's a Python program to evaluate Logistic Regression using Stratified K-Fold Cross-Validation:\n",
        "# Creating a Logistic Regression model\n",
        "model = LogisticRegression(max_iter=1000)\n",
        "\n",
        "# Initializing a list to store the accuracy scores\n",
        "accuracies = []\n",
        "\n",
        "# Initializing StratifiedKFold\n",
        "kfold = StratifiedKFold(n_splits=5)\n",
        "\n",
        "# Iterating over the folds\n",
        "for train_index, test_index in kfold.split(X, y):\n",
        "    # Spliting the data into training and testing sets\n",
        "    X_train, X_test = X[train_index], X[test_index]\n",
        "    y_train, y_test = y[train_index], y[test_index]\n",
        "\n",
        "    # Training the model on the training set\n",
        "    model.fit(X_train, y_train)\n",
        "\n",
        "    # predicting the testing set\n",
        "    y_pred = model.predict(X_test)\n",
        "\n",
        "    # Calculating the accuracy score\n",
        "    accuracy = accuracy_score(y_test, y_pred)\n",
        "\n",
        "    # Appending the accuracy score to the list\n",
        "    accuracies.append(accuracy)\n",
        "\n",
        "# average accuracy\n",
        "average_accuracy = sum(accuracies) / len(accuracies)\n",
        "\n",
        "# average accuracy\n",
        "print(\"Average Accuracy:\", average_accuracy)"
      ],
      "metadata": {
        "colab": {
          "base_uri": "https://localhost:8080/"
        },
        "id": "g3nq5hltGKOu",
        "outputId": "d97ccc77-e8ae-4914-afcc-7c1b6a4f972a"
      },
      "execution_count": null,
      "outputs": [
        {
          "output_type": "stream",
          "name": "stdout",
          "text": [
            "Average Accuracy: 0.9733333333333334\n"
          ]
        }
      ]
    },
    {
      "cell_type": "markdown",
      "source": [
        "##Q8 : Write a Python program to load a dataset from a CSV file, apply Logistic Regression, and evaluate its accuracy."
      ],
      "metadata": {
        "id": "qZ6Xe-By-0mr"
      }
    },
    {
      "cell_type": "code",
      "source": [
        "#ans :\n",
        "import zipfile\n",
        "\n",
        "# Specifying the path to the zip file\n",
        "zip_file_path = '/content/bank-additional-full.csv.zip'\n",
        "\n",
        "# Specifying the path to the CSV file within the zip file\n",
        "csv_file_path = 'bank-additional-full.csv'\n",
        "\n",
        "# Extracting the CSV file from the zip file\n",
        "with zipfile.ZipFile(zip_file_path, 'r') as z:\n",
        "  with z.open(csv_file_path) as f:\n",
        "    # the dataset\n",
        "    df = pd.read_csv(f, sep=';')\n",
        "\n",
        "# Converting categorical variables to numerical, using one-hot encoding\n",
        "df = pd.get_dummies(df, drop_first=True)\n",
        "\n",
        "# Separating features and target variable\n",
        "X = df.drop('y_yes', axis=1)\n",
        "y = df['y_yes']\n",
        "\n",
        "# Spliting the data into training and testing sets\n",
        "X_train, X_test, y_train, y_test = train_test_split(X, y, test_size=0.2, random_state=42)\n",
        "\n",
        "# Creating a Logistic Regression model\n",
        "model = LogisticRegression(max_iter=1000)\n",
        "\n",
        "# Training the model\n",
        "model.fit(X_train, y_train)\n",
        "\n",
        "# predicting\n",
        "y_pred = model.predict(X_test)\n",
        "\n",
        "# Evaluate accuracy\n",
        "accuracy = accuracy_score(y_test, y_pred)\n",
        "print(\"Model Accuracy:\", accuracy)"
      ],
      "metadata": {
        "id": "6zBzQ1Ktay1f",
        "colab": {
          "base_uri": "https://localhost:8080/"
        },
        "outputId": "4a95feda-a8e6-4615-b285-6ee6bc4e42e2"
      },
      "execution_count": null,
      "outputs": [
        {
          "output_type": "stream",
          "name": "stdout",
          "text": [
            "Model Accuracy: 0.9098082058752124\n"
          ]
        }
      ]
    },
    {
      "cell_type": "markdown",
      "source": [
        "##Q9 : Write a Python program to apply RandomizedSearchCV for tuning hyperparameters (C, penalty, solver) in Logistic Regression. Print the best parameters and accuracy."
      ],
      "metadata": {
        "id": "RjGaQtXvbzcx"
      }
    },
    {
      "cell_type": "code",
      "source": [
        "#ans :\n",
        "\n",
        "from sklearn.model_selection import RandomizedSearchCV\n",
        "# Defining the hyperparameter grid\n",
        "param_grid = {\n",
        "    'C': [0.1, 1, 10],\n",
        "    'penalty': ['l1', 'l2'],\n",
        "    'solver': ['liblinear', 'saga']\n",
        "}\n",
        "\n",
        "# Creating a Logistic Regression model\n",
        "model = LogisticRegression(max_iter=1000)\n",
        "\n",
        "# Applying RandomizedSearchCV for hyperparameter tuning\n",
        "random_search = RandomizedSearchCV(model, param_grid, cv=5, n_iter=10, random_state=42)\n",
        "random_search.fit(X_train, y_train)\n",
        "\n",
        "# the best parameters\n",
        "print(\"Best Parameters:\", random_search.best_params_)\n",
        "\n",
        "# the best accuracy\n",
        "print(\"Best Accuracy:\", random_search.best_score_)\n",
        "\n",
        "# Evaluating the best model on the testing set\n",
        "best_model = random_search.best_estimator_\n",
        "y_pred = best_model.predict(X_test)\n",
        "accuracy = accuracy_score(y_test, y_pred)\n",
        "print(\"Accuracy on Testing Set:\", accuracy)"
      ],
      "metadata": {
        "id": "Yjx4LJ0HeU-w",
        "colab": {
          "base_uri": "https://localhost:8080/"
        },
        "outputId": "d4deae65-a65f-4c41-acbb-c5c57053bf78"
      },
      "execution_count": null,
      "outputs": [
        {
          "output_type": "stream",
          "name": "stdout",
          "text": [
            "Best Parameters: {'solver': 'saga', 'penalty': 'l2', 'C': 10}\n",
            "Best Accuracy: 0.9666666666666668\n",
            "Accuracy on Testing Set: 1.0\n"
          ]
        }
      ]
    },
    {
      "cell_type": "markdown",
      "source": [
        "##Q10 : Write a Python program to implement One-vs-One(OvO) Multiclass Logistic Regression and print accuracy."
      ],
      "metadata": {
        "id": "XwyaoGmcdZva"
      }
    },
    {
      "cell_type": "code",
      "source": [
        "#ans :\n",
        "\n",
        "# Creating a LabelEncoder object\n",
        "le = LabelEncoder()\n",
        "\n",
        "y_train = le.fit_transform(y_train)\n",
        "y_test = le.transform(y_test)\n",
        "\n",
        "# Defining the number of classes\n",
        "n_classes = len(np.unique(y_train))\n",
        "\n",
        "# Initializing a list to store the OvO models\n",
        "ovo_models = []\n",
        "\n",
        "# Training OvO models\n",
        "for i in range(n_classes):\n",
        "    for j in range(i+1, n_classes):\n",
        "        # Creating a binary target variable\n",
        "        y_train_binary = np.where(y_train == i, 0, np.where(y_train == j, 1, 2))\n",
        "        y_test_binary = np.where(y_test == i, 0, np.where(y_test == j, 1, 2))\n",
        "\n",
        "        # Creating a Logistic Regression model\n",
        "        model = LogisticRegression(max_iter=1000)\n",
        "\n",
        "        # Training the model on the binary target variable\n",
        "        model.fit(X_train, y_train_binary)\n",
        "\n",
        "        # Appending the model to the list\n",
        "        ovo_models.append((i, j, model))\n",
        "\n",
        "# predicting the use the OvO models\n",
        "y_pred = np.zeros(len(y_test))\n",
        "for i in range(len(y_test)):\n",
        "    votes = np.zeros(n_classes)\n",
        "    for model in ovo_models:\n",
        "        pred = model[2].predict(X_test[i].reshape(1, -1))\n",
        "        if pred[0] == 0:\n",
        "            votes[model[0]] += 1\n",
        "        else:\n",
        "            votes[model[1]] += 1\n",
        "    y_pred[i] = np.argmax(votes)\n",
        "\n",
        "# Evaluate the accuracy\n",
        "accuracy = accuracy_score(y_test, y_pred)\n",
        "print(\"Accuracy:\", accuracy)\n"
      ],
      "metadata": {
        "colab": {
          "base_uri": "https://localhost:8080/"
        },
        "id": "b6j1xlKMdfV3",
        "outputId": "03fe3c58-6199-4c77-a44c-a05558ab987d"
      },
      "execution_count": null,
      "outputs": [
        {
          "output_type": "stream",
          "name": "stdout",
          "text": [
            "Accuracy: 1.0\n"
          ]
        }
      ]
    },
    {
      "cell_type": "markdown",
      "source": [
        "##Q11 : Write a Python program to train a Logistic Regression model and visualize the confusion matrix for binary classification."
      ],
      "metadata": {
        "id": "tRvon7S0f8zv"
      }
    },
    {
      "cell_type": "code",
      "source": [
        "#ans :\n",
        "\n",
        "# the dataset\n",
        "zip_file_path = '/content/bank-additional-full.csv.zip'\n",
        "csv_file_path = 'bank-additional-full.csv'\n",
        "\n",
        "with zipfile.ZipFile(zip_file_path, 'r') as z:\n",
        "    with z.open(csv_file_path) as f:\n",
        "        df = pd.read_csv(f, sep=';')\n",
        "\n",
        "# Converting categorical variables to numerical\n",
        "df = pd.get_dummies(df, drop_first=True)\n",
        "\n",
        "# Separating features and target variable\n",
        "X = df.drop('y_yes', axis=1)\n",
        "y = df['y_yes']\n",
        "\n",
        "# Spliting the data into training and testing sets\n",
        "X_train, X_test, y_train, y_test = train_test_split(X, y, test_size=0.2, random_state=42)\n",
        "\n",
        "# Training the Logistic Regression model\n",
        "model = LogisticRegression(max_iter=1000)\n",
        "model.fit(X_train, y_train)\n",
        "\n",
        "# predicting the test set\n",
        "y_pred = model.predict(X_test)\n",
        "\n",
        "# Computing the confusion matrix\n",
        "cm = confusion_matrix(y_test, y_pred)\n",
        "\n",
        "# Visualizing the confusion matrix\n",
        "plt.figure(figsize=(8, 6))\n",
        "sns.heatmap(cm, annot=True, fmt='d', cmap='Reds',\n",
        "            xticklabels=['Predicted 0', 'Predicted 1'],\n",
        "            yticklabels=['Actual 0', 'Actual 1'])\n",
        "plt.title('Confusion Matrix')\n",
        "plt.xlabel('Predicted Label')\n",
        "plt.ylabel('True Label')\n",
        "plt.show()"
      ],
      "metadata": {
        "colab": {
          "base_uri": "https://localhost:8080/",
          "height": 564
        },
        "id": "On4EREXvgFkt",
        "outputId": "703bf907-8438-4056-8b61-b439c3d9d36a"
      },
      "execution_count": null,
      "outputs": [
        {
          "output_type": "display_data",
          "data": {
            "text/plain": [
              "<Figure size 800x600 with 2 Axes>"
            ],
            "image/png": "[encoded data removed]"
          },
          "metadata": {}
        }
      ]
    },
    {
      "cell_type": "markdown",
      "source": [
        "##Q12 : Write a Python program to train a Logistic Regression model and evaluate its performance using Precision, Recall, and F1-Score."
      ],
      "metadata": {
        "id": "VaeMINjhhQ7p"
      }
    },
    {
      "cell_type": "code",
      "source": [
        "#ans :\n",
        "import zipfile\n",
        "from sklearn.metrics import precision_score, recall_score, f1_score\n",
        "\n",
        "# the dataset\n",
        "zip_file_path = '/content/bank-additional-full.csv.zip'\n",
        "csv_file_path = 'bank-additional-full.csv'\n",
        "\n",
        "with zipfile.ZipFile(zip_file_path, 'r') as z:\n",
        "    with z.open(csv_file_path) as f:\n",
        "        df = pd.read_csv(f, sep=';')\n",
        "\n",
        "# Converting categorical variables to numerical using one-hot encoding\n",
        "df = pd.get_dummies(df, drop_first=True)\n",
        "\n",
        "# Separating features (X) and target variable (y)\n",
        "X = df.drop('y_yes', axis=1)\n",
        "y = df['y_yes']\n",
        "\n",
        "# Spliting the data into training and testing sets\n",
        "X_train, X_test, y_train, y_test = train_test_split(X, y, test_size=0.2, random_state=42)\n",
        "\n",
        "# Initializing and train the Logistic Regression model\n",
        "model = LogisticRegression(max_iter=1000)\n",
        "model.fit(X_train, y_train)\n",
        "\n",
        "# predicting on the test set\n",
        "y_pred = model.predict(X_test)\n",
        "\n",
        "# Calculating precision, recall, and F1-score\n",
        "precision = precision_score(y_test, y_pred)\n",
        "recall = recall_score(y_test, y_pred)\n",
        "f1 = f1_score(y_test, y_pred)\n",
        "\n",
        "# the results\n",
        "print(f\"Precision: {precision:.4f}\")\n",
        "print(f\"Recall: {recall:.4f}\")\n",
        "print(f\"F1-Score: {f1:.4f}\")"
      ],
      "metadata": {
        "colab": {
          "base_uri": "https://localhost:8080/"
        },
        "id": "A0uJglhlhZHj",
        "outputId": "1ce781a8-1af3-4f79-9abc-f129eb7f23b2"
      },
      "execution_count": null,
      "outputs": [
        {
          "output_type": "stream",
          "name": "stdout",
          "text": [
            "Precision: 0.6589\n",
            "Recall: 0.4257\n",
            "F1-Score: 0.5172\n"
          ]
        }
      ]
    },
    {
      "cell_type": "markdown",
      "source": [
        "##Q13 : Write a Python program to train a Logistic Regression model on imbalanced data and apply class weights to improve model performance."
      ],
      "metadata": {
        "id": "5v-JNT30iU_G"
      }
    },
    {
      "cell_type": "code",
      "source": [
        "#ans :\n",
        "\n",
        "import zipfile\n",
        "from sklearn.metrics import accuracy_score, classification_report\n",
        "from sklearn.utils import class_weight\n",
        "import numpy as np\n",
        "\n",
        "# the dataset\n",
        "zip_file_path = '/content/bank-additional-full.csv.zip'\n",
        "csv_file_path = 'bank-additional-full.csv'\n",
        "\n",
        "with zipfile.ZipFile(zip_file_path, 'r') as z:\n",
        "    with z.open(csv_file_path) as f:\n",
        "        df = pd.read_csv(f, sep=';')\n",
        "\n",
        "# Converting categorical variables to numerical using one-hot encoding\n",
        "df = pd.get_dummies(df, drop_first=True)\n",
        "\n",
        "# Separating features (X) and target variable (y)\n",
        "X = df.drop('y_yes', axis=1)\n",
        "y = df['y_yes']\n",
        "\n",
        "# Spliting the data into training and testing sets\n",
        "X_train, X_test, y_train, y_test = train_test_split(X, y, test_size=0.2, random_state=42)\n",
        "\n",
        "\n",
        "class_weights = class_weight.compute_class_weight('balanced', classes= np.array([0,1]), y=y_train)\n",
        "class_weights_dict = {0: class_weights[0], 1: class_weights[1]}\n",
        "\n",
        "# Training the Logistic Regression model with class weights\n",
        "model_weighted = LogisticRegression(max_iter=1000, class_weight = class_weights_dict)\n",
        "model_weighted.fit(X_train, y_train)\n",
        "\n",
        "\n",
        "y_pred_weighted = model_weighted.predict(X_test)\n",
        "\n",
        "# Evaluating performance with class weights\n",
        "accuracy_weighted = accuracy_score(y_test, y_pred_weighted)\n",
        "report_weighted = classification_report(y_test, y_pred_weighted)\n",
        "\n",
        "print(\"Model with Class Weights:\")\n",
        "print(f\"Accuracy: {accuracy_weighted:.4f}\")\n",
        "print(\"Classification Report:\\n\", report_weighted)\n",
        "\n",
        "# Training Logistic Regression model without class weights\n",
        "model = LogisticRegression(max_iter=1000)\n",
        "model.fit(X_train, y_train)\n",
        "\n",
        "\n",
        "y_pred = model.predict(X_test)\n",
        "\n",
        "# Evaluating performance without class weights\n",
        "accuracy = accuracy_score(y_test, y_pred)\n",
        "report = classification_report(y_test, y_pred)\n",
        "\n",
        "print(\"\\nModel without Class Weights:\")\n",
        "print(f\"Accuracy: {accuracy:.4f}\")\n",
        "print(\"Classification Report:\\n\", report)"
      ],
      "metadata": {
        "colab": {
          "base_uri": "https://localhost:8080/"
        },
        "id": "pM7nGKMAjJAs",
        "outputId": "00e69746-396a-42e0-ee87-329b36edad0e"
      },
      "execution_count": null,
      "outputs": [
        {
          "output_type": "stream",
          "name": "stdout",
          "text": [
            "Model with Class Weights:\n",
            "Accuracy: 0.8557\n",
            "Classification Report:\n",
            "               precision    recall  f1-score   support\n",
            "\n",
            "       False       0.98      0.85      0.91      7303\n",
            "        True       0.43      0.89      0.58       935\n",
            "\n",
            "    accuracy                           0.86      8238\n",
            "   macro avg       0.71      0.87      0.75      8238\n",
            "weighted avg       0.92      0.86      0.88      8238\n",
            "\n",
            "\n",
            "Model without Class Weights:\n",
            "Accuracy: 0.9098\n",
            "Classification Report:\n",
            "               precision    recall  f1-score   support\n",
            "\n",
            "       False       0.93      0.97      0.95      7303\n",
            "        True       0.66      0.43      0.52       935\n",
            "\n",
            "    accuracy                           0.91      8238\n",
            "   macro avg       0.79      0.70      0.73      8238\n",
            "weighted avg       0.90      0.91      0.90      8238\n",
            "\n"
          ]
        }
      ]
    },
    {
      "cell_type": "markdown",
      "source": [
        "##Q14 : Write a Python program to train Logistic Regression on the Titanic dataset, handle missing values, and evaluate performance."
      ],
      "metadata": {
        "id": "sttJR413jPz6"
      }
    },
    {
      "cell_type": "code",
      "source": [
        "#ans :\n",
        "\n",
        "!pip install pandas scikit-learn\n",
        "\n",
        "from sklearn.impute import SimpleImputer\n",
        "from sklearn.preprocessing import LabelEncoder\n",
        "from sklearn.metrics import accuracy_score, classification_report\n",
        "\n",
        "\n",
        "# the Titanic dataset\n",
        "url = \"https://raw.githubusercontent.com/datasciencedojo/datasets/master/titanic.csv\"\n",
        "titanic_df = pd.read_csv(url)\n",
        "\n",
        "\n",
        "# missing values\n",
        "# For numerical columns, impute with the mean\n",
        "numerical_cols = ['Age', 'Fare']\n",
        "for col in numerical_cols:\n",
        "    imputer = SimpleImputer(strategy='mean')\n",
        "    titanic_df[col] = imputer.fit_transform(titanic_df[[col]])\n",
        "\n",
        "\n",
        "# For categorical columns, impute with the most frequent value\n",
        "categorical_cols = ['Embarked']\n",
        "for col in categorical_cols:\n",
        "    imputer = SimpleImputer(strategy='most_frequent')\n",
        "    #access the first column of the transformed numpy array\n",
        "    titanic_df[col] = imputer.fit_transform(titanic_df[[col]])[:,0]\n",
        "\n",
        "\n",
        "# Convert categorical features into numerical\n",
        "label_encoders = {}\n",
        "categorical_features = ['Sex', 'Embarked']\n",
        "\n",
        "for feature in categorical_features:\n",
        "    label_encoders[feature] = LabelEncoder()\n",
        "    titanic_df[feature] = label_encoders[feature].fit_transform(titanic_df[feature])\n",
        "\n",
        "\n",
        "# Select features and target variable\n",
        "features = ['Pclass', 'Sex', 'Age', 'SibSp', 'Parch', 'Fare', 'Embarked']\n",
        "target = 'Survived'\n",
        "\n",
        "\n",
        "X = titanic_df[features]\n",
        "y = titanic_df[target]\n",
        "\n",
        "# Split the data into training and testing sets\n",
        "X_train, X_test, y_train, y_test = train_test_split(X, y, test_size=0.2, random_state=42)\n",
        "\n",
        "# Initialize and train the Logistic Regression model\n",
        "model = LogisticRegression(max_iter=1000)\n",
        "model.fit(X_train, y_train)\n",
        "\n",
        "# Make predictions\n",
        "y_pred = model.predict(X_test)\n",
        "\n",
        "\n",
        "# Evaluate the model\n",
        "accuracy = accuracy_score(y_test, y_pred)\n",
        "report = classification_report(y_test, y_pred)\n",
        "\n",
        "# the results\n",
        "print(f\"Model Accuracy: {accuracy:.4f}\")\n",
        "print(\"\\nClassification Report:\\n\", report)"
      ],
      "metadata": {
        "colab": {
          "base_uri": "https://localhost:8080/"
        },
        "id": "xBl1FxexkVZW",
        "outputId": "522d0a66-18a0-48b8-a1a0-982369d672e6"
      },
      "execution_count": null,
      "outputs": [
        {
          "output_type": "stream",
          "name": "stdout",
          "text": [
            "Requirement already satisfied: pandas in /usr/local/lib/python3.11/dist-packages (2.2.2)\n",
            "Requirement already satisfied: scikit-learn in /usr/local/lib/python3.11/dist-packages (1.6.1)\n",
            "Requirement already satisfied: numpy>=1.23.2 in /usr/local/lib/python3.11/dist-packages (from pandas) (1.26.4)\n",
            "Requirement already satisfied: python-dateutil>=2.8.2 in /usr/local/lib/python3.11/dist-packages (from pandas) (2.8.2)\n",
            "Requirement already satisfied: pytz>=2020.1 in /usr/local/lib/python3.11/dist-packages (from pandas) (2025.1)\n",
            "Requirement already satisfied: tzdata>=2022.7 in /usr/local/lib/python3.11/dist-packages (from pandas) (2025.1)\n",
            "Requirement already satisfied: scipy>=1.6.0 in /usr/local/lib/python3.11/dist-packages (from scikit-learn) (1.13.1)\n",
            "Requirement already satisfied: joblib>=1.2.0 in /usr/local/lib/python3.11/dist-packages (from scikit-learn) (1.4.2)\n",
            "Requirement already satisfied: threadpoolctl>=3.1.0 in /usr/local/lib/python3.11/dist-packages (from scikit-learn) (3.5.0)\n",
            "Requirement already satisfied: six>=1.5 in /usr/local/lib/python3.11/dist-packages (from python-dateutil>=2.8.2->pandas) (1.17.0)\n",
            "Model Accuracy: 0.8101\n",
            "\n",
            "Classification Report:\n",
            "               precision    recall  f1-score   support\n",
            "\n",
            "           0       0.83      0.86      0.84       105\n",
            "           1       0.79      0.74      0.76        74\n",
            "\n",
            "    accuracy                           0.81       179\n",
            "   macro avg       0.81      0.80      0.80       179\n",
            "weighted avg       0.81      0.81      0.81       179\n",
            "\n"
          ]
        }
      ]
    },
    {
      "cell_type": "markdown",
      "source": [
        "##Q15 : Write a Python program to apply feature scaling (Standardization) before training a Logistic Regression model. Evaluate its accuracy and compare results with and without scaling."
      ],
      "metadata": {
        "id": "6Y5kFxCNlMKz"
      }
    },
    {
      "cell_type": "code",
      "source": [
        "#ans :\n",
        "\n",
        "from sklearn.preprocessing import StandardScaler\n",
        "\n",
        "# the Iris dataset\n",
        "iris = load_iris()\n",
        "X = iris.data\n",
        "y = iris.target\n",
        "\n",
        "# Split the data into training and testing sets\n",
        "X_train, X_test, y_train, y_test = train_test_split(X, y, test_size=0.2, random_state=42)\n",
        "\n",
        "# --- Without Feature Scaling ---\n",
        "# Initialize and train the Logistic Regression model\n",
        "model_no_scaling = LogisticRegression(max_iter=1000)\n",
        "model_no_scaling.fit(X_train, y_train)\n",
        "\n",
        "# predictions\n",
        "y_pred_no_scaling = model_no_scaling.predict(X_test)\n",
        "\n",
        "# Evaluate the model\n",
        "accuracy_no_scaling = accuracy_score(y_test, y_pred_no_scaling)\n",
        "print(f\"Accuracy without Feature Scaling: {accuracy_no_scaling:.4f}\")\n",
        "\n",
        "# --- With Feature Scaling (Standardization) ---\n",
        "# Initialize the StandardScaler\n",
        "scaler = StandardScaler()\n",
        "\n",
        "# Fit and transform the training data\n",
        "X_train_scaled = scaler.fit_transform(X_train)\n",
        "\n",
        "# Transform the test data using the fitted scaler\n",
        "X_test_scaled = scaler.transform(X_test)\n",
        "\n",
        "# Initialize and train the Logistic Regression model\n",
        "model_scaled = LogisticRegression(max_iter=1000)\n",
        "model_scaled.fit(X_train_scaled, y_train)\n",
        "\n",
        "# predictions\n",
        "y_pred_scaled = model_scaled.predict(X_test_scaled)\n",
        "\n",
        "# Evaluate the model\n",
        "accuracy_scaled = accuracy_score(y_test, y_pred_scaled)\n",
        "print(f\"Accuracy with Feature Scaling:    {accuracy_scaled:.4f}\")\n",
        "\n",
        "# --- Comparison ---\n",
        "print(\"\\nComparison:\")\n",
        "print(f\"Accuracy Difference: {accuracy_scaled - accuracy_no_scaling:.4f}\")\n",
        "\n",
        "if accuracy_scaled > accuracy_no_scaling:\n",
        "    print(\"Feature scaling improved the model accuracy.\")\n",
        "elif accuracy_scaled < accuracy_no_scaling:\n",
        "    print(\"Feature scaling reduced the model accuracy.\")\n",
        "else:\n",
        "    print(\"Feature scaling did not change the model accuracy.\")"
      ],
      "metadata": {
        "colab": {
          "base_uri": "https://localhost:8080/"
        },
        "id": "xaYe11_plTNo",
        "outputId": "dc854b35-bbfd-4a28-e110-5b613634e487"
      },
      "execution_count": null,
      "outputs": [
        {
          "output_type": "stream",
          "name": "stdout",
          "text": [
            "Accuracy without Feature Scaling: 1.0000\n",
            "Accuracy with Feature Scaling:    1.0000\n",
            "\n",
            "Comparison:\n",
            "Accuracy Difference: 0.0000\n",
            "Feature scaling did not change the model accuracy.\n"
          ]
        }
      ]
    },
    {
      "cell_type": "markdown",
      "source": [
        "##Q16 :  Write a Python program to train Logistic Regression and evaluate its performance using ROC-AUC score."
      ],
      "metadata": {
        "id": "n8SbeYjeXNCO"
      }
    },
    {
      "cell_type": "code",
      "source": [
        "#ans :\n",
        "\n",
        "from sklearn.linear_model import LogisticRegression\n",
        "from sklearn.metrics import roc_auc_score\n",
        "from sklearn.preprocessing import LabelEncoder\n",
        "import zipfile\n",
        "\n",
        "\n",
        "# the dataset\n",
        "zip_file_path = '/content/bank-additional-full.csv.zip'\n",
        "csv_file_path = 'bank-additional-full.csv'\n",
        "\n",
        "with zipfile.ZipFile(zip_file_path, 'r') as z:\n",
        "    with z.open(csv_file_path) as f:\n",
        "        df = pd.read_csv(f, sep=';')\n",
        "\n",
        "# Converting the categorical variables to numerical\n",
        "df = pd.get_dummies(df, drop_first=True)\n",
        "\n",
        "# Separating features and targeting variable\n",
        "X = df.drop('y_yes', axis=1)\n",
        "y = df['y_yes']\n",
        "\n",
        "# Spliting the data into training and testing sets\n",
        "X_train, X_test, y_train, y_test = train_test_split(X, y, test_size=0.2, random_state=42)\n",
        "\n",
        "# Initializing and training the Logistic Regression model\n",
        "model = LogisticRegression(max_iter=1000)\n",
        "model.fit(X_train, y_train)\n",
        "\n",
        "# predicting probabilities for the test set\n",
        "y_prob = model.predict_proba(X_test)[:, 1]\n",
        "\n",
        "#  ROC-AUC score\n",
        "roc_auc = roc_auc_score(y_test, y_prob)\n",
        "\n",
        "print(\"ROC-AUC Score:\", roc_auc)"
      ],
      "metadata": {
        "id": "JfaryraxXUwk",
        "colab": {
          "base_uri": "https://localhost:8080/"
        },
        "outputId": "844f34a7-a6c5-4c54-c9f4-76536f7d7483"
      },
      "execution_count": null,
      "outputs": [
        {
          "output_type": "stream",
          "name": "stdout",
          "text": [
            "ROC-AUC Score: 0.9307844333256934\n"
          ]
        }
      ]
    },
    {
      "cell_type": "markdown",
      "source": [
        "##Q17 : Write a Python program to train Logistic Regression using a custom learning rate (C=0.5) and evaluate accuracy."
      ],
      "metadata": {
        "id": "ijPPcEf0l8bI"
      }
    },
    {
      "cell_type": "code",
      "source": [
        "#ans :\n",
        "\n",
        "import zipfile\n",
        "\n",
        "# the dataset\n",
        "zip_file_path = '/content/bank-additional-full.csv.zip'\n",
        "csv_file_path = 'bank-additional-full.csv'\n",
        "\n",
        "with zipfile.ZipFile(zip_file_path, 'r') as z:\n",
        "    with z.open(csv_file_path) as f:\n",
        "        df = pd.read_csv(f, sep=';')\n",
        "\n",
        "# Converting categorical variables to numerical\n",
        "df = pd.get_dummies(df, drop_first=True)\n",
        "\n",
        "# Separating features and target variable\n",
        "X = df.drop('y_yes', axis=1)\n",
        "y = df['y_yes']\n",
        "\n",
        "# Spliting data into training and testing sets\n",
        "X_train, X_test, y_train, y_test = train_test_split(X, y, test_size=0.2, random_state=42)\n",
        "\n",
        "# Initializing and training the Logistic Regression model with C=0.5\n",
        "model = LogisticRegression(C=0.5, max_iter=1000)\n",
        "model.fit(X_train, y_train)\n",
        "\n",
        "y_pred = model.predict(X_test)\n",
        "accuracy = accuracy_score(y_test, y_pred)\n",
        "\n",
        "print(\"Model Accuracy:\", accuracy)"
      ],
      "metadata": {
        "colab": {
          "base_uri": "https://localhost:8080/"
        },
        "id": "0UzcZB1NmCnp",
        "outputId": "adf909bb-ad43-4c21-cefa-bbc1620a0bbf"
      },
      "execution_count": null,
      "outputs": [
        {
          "output_type": "stream",
          "name": "stdout",
          "text": [
            "Model Accuracy: 0.911143481427531\n"
          ]
        }
      ]
    },
    {
      "cell_type": "markdown",
      "source": [
        "##Q18 : Write a Python program to train Logistic Regression and identify important features based on model coefficients."
      ],
      "metadata": {
        "id": "a5BEKA3GmMSb"
      }
    },
    {
      "cell_type": "code",
      "source": [
        "#ans :\n",
        "\n",
        "import zipfile\n",
        "\n",
        "# the dataset\n",
        "zip_file_path = '/content/bank-additional-full.csv.zip'\n",
        "csv_file_path = 'bank-additional-full.csv'\n",
        "\n",
        "with zipfile.ZipFile(zip_file_path, 'r') as z:\n",
        "    with z.open(csv_file_path) as f:\n",
        "        df = pd.read_csv(f, sep=';')\n",
        "\n",
        "# Converting categorical variables to numerical\n",
        "df = pd.get_dummies(df, drop_first=True)\n",
        "\n",
        "# Separating the features and targeting variable\n",
        "X = df.drop('y_yes', axis=1)\n",
        "y = df['y_yes']\n",
        "\n",
        "# Spliting data into training and testing sets\n",
        "X_train, X_test, y_train, y_test = train_test_split(X, y, test_size=0.2, random_state=42)\n",
        "\n",
        "# Initializing and training the Logistic Regression model\n",
        "model = LogisticRegression(max_iter=1000)\n",
        "model.fit(X_train, y_train)\n",
        "\n",
        "# feature names\n",
        "feature_names = X.columns\n",
        "\n",
        "# model coefficients\n",
        "coefficients = model.coef_[0]\n",
        "\n",
        "# Creating a DataFrame to display feature importance\n",
        "feature_importance = pd.DataFrame({'Feature': feature_names, 'Coefficient': coefficients})\n",
        "\n",
        "feature_importance['Abs_Coefficient'] = abs(feature_importance['Coefficient'])\n",
        "\n",
        "# Sort by absolute coefficient values\n",
        "feature_importance = feature_importance.sort_values(by='Abs_Coefficient', ascending=False)\n",
        "\n",
        "print(feature_importance)"
      ],
      "metadata": {
        "colab": {
          "base_uri": "https://localhost:8080/"
        },
        "id": "R-RmN6DsmTGy",
        "outputId": "3feed6fb-9dd2-4cc9-fe86-c8233b606b3e"
      },
      "execution_count": null,
      "outputs": [
        {
          "output_type": "stream",
          "name": "stdout",
          "text": [
            "                          Feature  Coefficient  Abs_Coefficient\n",
            "43                      month_may    -1.016163         1.016163\n",
            "42                      month_mar     0.591963         0.591963\n",
            "37              contact_telephone    -0.436427         0.436427\n",
            "6                  cons.price.idx     0.387653         0.387653\n",
            "5                    emp.var.rate    -0.386998         0.386998\n",
            "51           poutcome_nonexistent     0.292720         0.292720\n",
            "31                default_unknown    -0.292502         0.292502\n",
            "40                      month_jul     0.261071         0.261071\n",
            "38                      month_aug     0.246226         0.246226\n",
            "41                      month_jun     0.241277         0.241277\n",
            "10                job_blue-collar    -0.223868         0.223868\n",
            "4                        previous    -0.212658         0.212658\n",
            "44                      month_nov    -0.210014         0.210014\n",
            "14                    job_retired     0.166729         0.166729\n",
            "47                day_of_week_mon    -0.155408         0.155408\n",
            "29    education_university.degree     0.146338         0.146338\n",
            "50                day_of_week_wed     0.134198         0.134198\n",
            "49                day_of_week_tue     0.133811         0.133811\n",
            "17                    job_student     0.116949         0.116949\n",
            "46                      month_sep    -0.108469         0.108469\n",
            "16                   job_services    -0.094371         0.094371\n",
            "15              job_self-employed    -0.090636         0.090636\n",
            "52               poutcome_success     0.082197         0.082197\n",
            "18                 job_technician     0.079449         0.079449\n",
            "8                       euribor3m    -0.076750         0.076750\n",
            "2                        campaign    -0.075408         0.075408\n",
            "45                      month_oct     0.070228         0.070228\n",
            "25             education_basic.9y    -0.067867         0.067867\n",
            "11               job_entrepreneur    -0.051923         0.051923\n",
            "36                       loan_yes    -0.046226         0.046226\n",
            "22                 marital_single     0.040376         0.040376\n",
            "13                 job_management    -0.039012         0.039012\n",
            "26          education_high.school    -0.038814         0.038814\n",
            "19                 job_unemployed     0.034152         0.034152\n",
            "48                day_of_week_thu     0.030176         0.030176\n",
            "12                  job_housemaid    -0.027630         0.027630\n",
            "34                    housing_yes    -0.025434         0.025434\n",
            "20                    job_unknown    -0.017887         0.017887\n",
            "30              education_unknown     0.012924         0.012924\n",
            "7                   cons.conf.idx     0.010137         0.010137\n",
            "21                marital_married    -0.008157         0.008157\n",
            "9                     nr.employed    -0.007284         0.007284\n",
            "27           education_illiterate     0.005325         0.005325\n",
            "1                        duration     0.004702         0.004702\n",
            "39                      month_dec    -0.004111         0.004111\n",
            "0                             age    -0.003793         0.003793\n",
            "23                marital_unknown    -0.002638         0.002638\n",
            "28  education_professional.course     0.002216         0.002216\n",
            "3                           pdays    -0.001806         0.001806\n",
            "35                   loan_unknown     0.001265         0.001265\n",
            "33                housing_unknown     0.001265         0.001265\n",
            "24             education_basic.6y     0.000760         0.000760\n",
            "32                    default_yes    -0.000296         0.000296\n"
          ]
        }
      ]
    },
    {
      "cell_type": "markdown",
      "source": [
        "##Q19 : Write a Python program to train Logistic Regression and evaluate its performance using Cohen’s Kappa Score."
      ],
      "metadata": {
        "id": "gizn64ydmjh7"
      }
    },
    {
      "cell_type": "code",
      "source": [
        "#ans :\n",
        "\n",
        "from sklearn.metrics import cohen_kappa_score\n",
        "import zipfile\n",
        "\n",
        "# the dataset\n",
        "zip_file_path = '/content/bank-additional-full.csv.zip'\n",
        "csv_file_path = 'bank-additional-full.csv'\n",
        "\n",
        "with zipfile.ZipFile(zip_file_path, 'r') as z:\n",
        "    with z.open(csv_file_path) as f:\n",
        "        df = pd.read_csv(f, sep=';')\n",
        "\n",
        "\n",
        "df = pd.get_dummies(df, drop_first=True)\n",
        "\n",
        "# Separating features and targeting variable\n",
        "X = df.drop('y_yes', axis=1)\n",
        "y = df['y_yes']\n",
        "\n",
        "# Spliting the data\n",
        "X_train, X_test, y_train, y_test = train_test_split(X, y, test_size=0.2, random_state=42)\n",
        "\n",
        "# Initializing and training the Logistic Regression model\n",
        "model = LogisticRegression(max_iter=1000)\n",
        "model.fit(X_train, y_train)\n",
        "\n",
        "\n",
        "y_pred = model.predict(X_test)\n",
        "\n",
        "kappa_score = cohen_kappa_score(y_test, y_pred)\n",
        "\n",
        "print(\"Cohen's Kappa Score:\", kappa_score)"
      ],
      "metadata": {
        "colab": {
          "base_uri": "https://localhost:8080/"
        },
        "id": "11O4xtUCmqUS",
        "outputId": "c0724c09-8c35-4055-9ca5-a8b296d08270"
      },
      "execution_count": null,
      "outputs": [
        {
          "output_type": "stream",
          "name": "stdout",
          "text": [
            "Cohen's Kappa Score: 0.4700026894564475\n"
          ]
        }
      ]
    },
    {
      "cell_type": "markdown",
      "source": [
        "##Q20 : Write a Python program to train Logistic Regression and visualize the Precision-Recall Curve for binary classification."
      ],
      "metadata": {
        "id": "x0QLw3Efm6R_"
      }
    },
    {
      "cell_type": "code",
      "source": [
        "#ans :\n",
        "\n",
        "from sklearn.metrics import precision_recall_curve, average_precision_score\n",
        "import zipfile\n",
        "\n",
        "#  the dataset\n",
        "zip_file_path = '/content/bank-additional-full.csv.zip'\n",
        "csv_file_path = 'bank-additional-full.csv'\n",
        "\n",
        "with zipfile.ZipFile(zip_file_path, 'r') as z:\n",
        "    with z.open(csv_file_path) as f:\n",
        "        df = pd.read_csv(f, sep=';')\n",
        "\n",
        "df = pd.get_dummies(df, drop_first=True)\n",
        "\n",
        "# Separating features and targeting variable\n",
        "X = df.drop('y_yes', axis=1)\n",
        "y = df['y_yes']\n",
        "\n",
        "# Spliting the data\n",
        "X_train, X_test, y_train, y_test = train_test_split(X, y, test_size=0.2, random_state=42)\n",
        "\n",
        "# Initializing and training the Logistic Regression model\n",
        "model = LogisticRegression(max_iter=1000)\n",
        "model.fit(X_train, y_train)\n",
        "\n",
        "\n",
        "y_prob = model.predict_proba(X_test)[:, 1]\n",
        "\n",
        "precision, recall, thresholds = precision_recall_curve(y_test, y_prob)\n",
        "\n",
        "average_precision = average_precision_score(y_test, y_prob)\n",
        "\n",
        "# Ploting the precision-recall curve\n",
        "plt.figure(figsize=(8, 6))\n",
        "plt.plot(recall, precision, color='darkorange', lw=2, label='Precision-Recall curve')\n",
        "plt.xlabel('Recall')\n",
        "plt.ylabel('Precision')\n",
        "plt.title(f'Precision-Recall Curve (Avg Precision = {average_precision:.2f})')\n",
        "plt.legend(loc=\"lower left\")\n",
        "plt.grid(True)\n",
        "plt.show()\n"
      ],
      "metadata": {
        "colab": {
          "base_uri": "https://localhost:8080/",
          "height": 564
        },
        "id": "ADN7Vw8UnDeq",
        "outputId": "39905e19-02d0-4f15-efbc-076b69f9d99c"
      },
      "execution_count": null,
      "outputs": [
        {
          "output_type": "display_data",
          "data": {
            "text/plain": [
              "<Figure size 800x600 with 1 Axes>"
            ],
            "image/png": "[encoded data removed]"
          },
          "metadata": {}
        }
      ]
    },
    {
      "cell_type": "markdown",
      "source": [
        "##Q21 : Write a Python program to train Logistic Regression with different solvers (liblinear, saga, lbfgs) and compare their accuracy."
      ],
      "metadata": {
        "id": "7aoe2mSanQlX"
      }
    },
    {
      "cell_type": "code",
      "source": [
        "#ans :\n",
        "\n",
        "import zipfile\n",
        "\n",
        "# the dataset\n",
        "zip_file_path = '/content/bank-additional-full.csv.zip'\n",
        "csv_file_path = 'bank-additional-full.csv'\n",
        "\n",
        "with zipfile.ZipFile(zip_file_path, 'r') as z:\n",
        "    with z.open(csv_file_path) as f:\n",
        "        df = pd.read_csv(f, sep=';')\n",
        "\n",
        "df = pd.get_dummies(df, drop_first=True)\n",
        "\n",
        "X = df.drop('y_yes', axis=1)\n",
        "y = df['y_yes']\n",
        "\n",
        "# Spliting the data\n",
        "X_train, X_test, y_train, y_test = train_test_split(X, y, test_size=0.2, random_state=42)\n",
        "\n",
        "# Defining the solvers to test\n",
        "solvers = ['liblinear', 'saga', 'lbfgs']\n",
        "\n",
        "# Loop through each solver\n",
        "for solver in solvers:\n",
        "    # Initializing and training the Logistic Regression model with the current solver\n",
        "    model = LogisticRegression(solver=solver, max_iter=1000)\n",
        "    model.fit(X_train, y_train)\n",
        "\n",
        "    # predictions on the test set\n",
        "    y_pred = model.predict(X_test)\n",
        "\n",
        "    # Evaluate accuracy\n",
        "    accuracy = accuracy_score(y_test, y_pred)\n",
        "\n",
        "    print(f\"Solver: {solver}, Accuracy: {accuracy}\")"
      ],
      "metadata": {
        "colab": {
          "base_uri": "https://localhost:8080/"
        },
        "id": "YKPn7dW5nWyh",
        "outputId": "7a257a5d-f88c-439e-be12-7c06a8b403e8"
      },
      "execution_count": null,
      "outputs": [
        {
          "output_type": "stream",
          "name": "stdout",
          "text": [
            "Solver: liblinear, Accuracy: 0.9090798737557659\n",
            "Solver: saga, Accuracy: 0.9068948773974266\n",
            "Solver: lbfgs, Accuracy: 0.9098082058752124\n"
          ]
        }
      ]
    },
    {
      "cell_type": "markdown",
      "source": [
        "##Q22 : Write a Python program to train Logistic Regression and evaluate its performance using Matthews Correlation Coefficient (MCC)."
      ],
      "metadata": {
        "id": "LXqQdsTvnrUK"
      }
    },
    {
      "cell_type": "code",
      "source": [
        "#ans :\n",
        "\n",
        "from sklearn.metrics import matthews_corrcoef\n",
        "import zipfile\n",
        "\n",
        "# the dataset\n",
        "zip_file_path = '/content/bank-additional-full.csv.zip'\n",
        "csv_file_path = 'bank-additional-full.csv'\n",
        "\n",
        "with zipfile.ZipFile(zip_file_path, 'r') as z:\n",
        "    with z.open(csv_file_path) as f:\n",
        "        df = pd.read_csv(f, sep=';')\n",
        "\n",
        "# Convertion\n",
        "df = pd.get_dummies(df, drop_first=True)\n",
        "\n",
        "# Separation\n",
        "X = df.drop('y_yes', axis=1)\n",
        "y = df['y_yes']\n",
        "\n",
        "# Spliting the data\n",
        "X_train, X_test, y_train, y_test = train_test_split(X, y, test_size=0.2, random_state=42)\n",
        "\n",
        "model = LogisticRegression(max_iter=1000)\n",
        "model.fit(X_train, y_train)\n",
        "\n",
        "y_pred = model.predict(X_test)\n",
        "\n",
        "# using Matthews Correlation Coefficient (MCC)\n",
        "mcc = matthews_corrcoef(y_test, y_pred)\n",
        "\n",
        "print(\"Matthews Correlation Coefficient (MCC):\", mcc)"
      ],
      "metadata": {
        "colab": {
          "base_uri": "https://localhost:8080/"
        },
        "id": "1JGd_wF7nyWI",
        "outputId": "28a0f4df-af68-4db6-821d-79b45d26cdbb"
      },
      "execution_count": null,
      "outputs": [
        {
          "output_type": "stream",
          "name": "stdout",
          "text": [
            "Matthews Correlation Coefficient (MCC): 0.4836779399526273\n"
          ]
        }
      ]
    },
    {
      "cell_type": "markdown",
      "source": [
        "##Q23 : Write a Python program to train Logistic Regression on both raw and standardized data. Compare their accuracy to see the impact of feature scaling."
      ],
      "metadata": {
        "id": "1uGeBICIoLwk"
      }
    },
    {
      "cell_type": "code",
      "source": [
        "#ans :\n",
        "\n",
        "from sklearn.preprocessing import StandardScaler\n",
        "import zipfile\n",
        "\n",
        "\n",
        "zip_file_path = '/content/bank-additional-full.csv.zip'\n",
        "csv_file_path = 'bank-additional-full.csv'\n",
        "\n",
        "with zipfile.ZipFile(zip_file_path, 'r') as z:\n",
        "    with z.open(csv_file_path) as f:\n",
        "        df = pd.read_csv(f, sep=';')\n",
        "\n",
        "# Convertion\n",
        "df = pd.get_dummies(df, drop_first=True)\n",
        "\n",
        "# Separation\n",
        "X = df.drop('y_yes', axis=1)\n",
        "y = df['y_yes']\n",
        "\n",
        "# Spliting the data\n",
        "X_train, X_test, y_train, y_test = train_test_split(X, y, test_size=0.2, random_state=42)\n",
        "\n",
        "# --- Training on Raw Data ---\n",
        "# Initialize and train the Logistic Regression model on raw data\n",
        "model_raw = LogisticRegression(max_iter=1000)\n",
        "model_raw.fit(X_train, y_train)\n",
        "\n",
        "# predictions on the test set with raw data\n",
        "y_pred_raw = model_raw.predict(X_test)\n",
        "\n",
        "# Evaluating accuracy on raw data\n",
        "accuracy_raw = accuracy_score(y_test, y_pred_raw)\n",
        "\n",
        "print(f\"Accuracy with Raw Data: {accuracy_raw}\")\n",
        "\n",
        "# --- Training on Standardized Data ---\n",
        "\n",
        "scaler = StandardScaler()\n",
        "\n",
        "X_train_scaled = scaler.fit_transform(X_train)\n",
        "\n",
        "X_test_scaled = scaler.transform(X_test)\n",
        "\n",
        "model_scaled = LogisticRegression(max_iter=1000)\n",
        "model_scaled.fit(X_train_scaled, y_train)\n",
        "\n",
        "# predictions on the test set with standardized data\n",
        "y_pred_scaled = model_scaled.predict(X_test_scaled)\n",
        "\n",
        "accuracy_scaled = accuracy_score(y_test, y_pred_scaled)\n",
        "\n",
        "print(f\"Accuracy with Standardized Data: {accuracy_scaled}\")"
      ],
      "metadata": {
        "colab": {
          "base_uri": "https://localhost:8080/"
        },
        "id": "KfT2NH0GoVWH",
        "outputId": "d15005b0-33ab-4a1d-edce-b78720490278"
      },
      "execution_count": null,
      "outputs": [
        {
          "output_type": "stream",
          "name": "stdout",
          "text": [
            "Accuracy with Raw Data: 0.9098082058752124\n",
            "Accuracy with Standardized Data: 0.9115076474872542\n"
          ]
        }
      ]
    },
    {
      "cell_type": "markdown",
      "source": [
        "##Q24 :  Write a Python program to train Logistic Regression and find the optimal C (regularization strength) using cross-validation."
      ],
      "metadata": {
        "id": "M3LtEmSGoqH0"
      }
    },
    {
      "cell_type": "code",
      "source": [
        "#ans :\n",
        "\n",
        "from sklearn.model_selection import train_test_split, cross_val_score, StratifiedKFold\n",
        "import zipfile\n",
        "\n",
        "# the dataset\n",
        "zip_file_path = '/content/bank-additional-full.csv.zip'\n",
        "csv_file_path = 'bank-additional-full.csv'\n",
        "\n",
        "with zipfile.ZipFile(zip_file_path, 'r') as z:\n",
        "    with z.open(csv_file_path) as f:\n",
        "        df = pd.read_csv(f, sep=';')\n",
        "\n",
        "\n",
        "df = pd.get_dummies(df, drop_first=True)\n",
        "\n",
        "X = df.drop('y_yes', axis=1)\n",
        "y = df['y_yes']\n",
        "\n",
        "# Defining a range of C values to test\n",
        "C_values = np.logspace(-4, 4, 10) # 10 values from 10^-4 to 10^4\n",
        "\n",
        "# Initializing the Stratified K-Fold\n",
        "kfold = StratifiedKFold(n_splits=5, shuffle=True, random_state=42)\n",
        "\n",
        "best_accuracy = 0\n",
        "best_c = None\n",
        "accuracies = []\n",
        "\n",
        "\n",
        "for C in C_values:\n",
        "    # Initializing the logistic regression model\n",
        "    model = LogisticRegression(C=C, max_iter=1000)\n",
        "\n",
        "    # Performing cross-validation\n",
        "    scores = cross_val_score(model, X, y, cv=kfold, scoring='accuracy')\n",
        "\n",
        "\n",
        "    mean_accuracy = scores.mean()\n",
        "    accuracies.append(mean_accuracy)\n",
        "\n",
        "    # Checking if the current C has the best accuracy so far\n",
        "    if mean_accuracy > best_accuracy:\n",
        "        best_accuracy = mean_accuracy\n",
        "        best_c = C\n",
        "\n",
        "print(f\"Optimal C: {best_c}\")\n",
        "print(f\"Best Cross-Validation Accuracy: {best_accuracy}\")"
      ],
      "metadata": {
        "colab": {
          "base_uri": "https://localhost:8080/"
        },
        "id": "wWl4emTlowTT",
        "outputId": "d084ce55-5c1a-493d-d604-26c6b1ed4c8c"
      },
      "execution_count": null,
      "outputs": [
        {
          "output_type": "stream",
          "name": "stdout",
          "text": [
            "Optimal C: 21.54434690031882\n",
            "Best Cross-Validation Accuracy: 0.9105565243169524\n"
          ]
        }
      ]
    },
    {
      "cell_type": "markdown",
      "source": [
        "##Q25 : Write a Python program to train Logistic Regression, save the trained model using joblib, and load it again to make predictions."
      ],
      "metadata": {
        "id": "shVB0t06pGYo"
      }
    },
    {
      "cell_type": "code",
      "source": [
        "#ans :\n",
        "import joblib\n",
        "import zipfile\n",
        "\n",
        "# the dataset\n",
        "zip_file_path = '/content/bank-additional-full.csv.zip'\n",
        "csv_file_path = 'bank-additional-full.csv'\n",
        "\n",
        "with zipfile.ZipFile(zip_file_path, 'r') as z:\n",
        "    with z.open(csv_file_path) as f:\n",
        "        df = pd.read_csv(f, sep=';')\n",
        "\n",
        "# Convertion\n",
        "df = pd.get_dummies(df, drop_first=True)\n",
        "\n",
        "# Separation\n",
        "X = df.drop('y_yes', axis=1)\n",
        "y = df['y_yes']\n",
        "\n",
        "\n",
        "X_train, X_test, y_train, y_test = train_test_split(X, y, test_size=0.2, random_state=42)\n",
        "\n",
        "model = LogisticRegression(max_iter=1000)\n",
        "model.fit(X_train, y_train)\n",
        "\n",
        "# --- Saving the trained model using joblib ---\n",
        "model_filename = 'logistic_regression_model.joblib'\n",
        "joblib.dump(model, model_filename)\n",
        "print(f\"Trained model saved to {model_filename}\")\n",
        "\n",
        "# --- Loading the saved model using joblib ---\n",
        "loaded_model = joblib.load(model_filename)\n",
        "print(\"Model loaded successfully.\")\n",
        "\n",
        "y_pred = loaded_model.predict(X_test)\n",
        "\n",
        "print(\"Predictions using loaded model:\", y_pred)"
      ],
      "metadata": {
        "colab": {
          "base_uri": "https://localhost:8080/"
        },
        "id": "5ZQvTLfBpPEQ",
        "outputId": "662d3b6c-620b-4bd8-c1dc-6453c8293727"
      },
      "execution_count": null,
      "outputs": [
        {
          "output_type": "stream",
          "name": "stdout",
          "text": [
            "Trained model saved to logistic_regression_model.joblib\n",
            "Model loaded successfully.\n",
            "Predictions using loaded model: [False False False ... False  True False]\n"
          ]
        }
      ]
    }
  ]
}