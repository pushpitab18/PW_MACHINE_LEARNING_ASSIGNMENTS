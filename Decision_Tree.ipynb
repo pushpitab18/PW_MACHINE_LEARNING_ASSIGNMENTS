{
  "nbformat": 4,
  "nbformat_minor": 0,
  "metadata": {
    "colab": {
      "provenance": [],
      "authorship_tag": "ABX9TyOGAdENF1C6JhtypdH+moNW",
      "include_colab_link": true
    },
    "kernelspec": {
      "name": "python3",
      "display_name": "Python 3"
    },
    "language_info": {
      "name": "python"
    }
  },
  "cells": [
    {
      "cell_type": "markdown",
      "metadata": {
        "id": "view-in-github",
        "colab_type": "text"
      },
      "source": [
        "<a href=\"https://colab.research.google.com/github/pushpitab18/PW_MACHINE_LEARNING_ASSIGNMENTS/blob/main/Decision_Tree.ipynb\" target=\"_parent\"><img src=\"https://colab.research.google.com/assets/colab-badge.svg\" alt=\"Open In Colab\"/></a>"
      ]
    },
    {
      "cell_type": "markdown",
      "source": [
        "#\"Theoretical Questions and Answer : \""
      ],
      "metadata": {
        "id": "gYg5IVMfLgrV"
      }
    },
    {
      "cell_type": "markdown",
      "source": [
        "##Q1 : What is a Decision Tree, and how does it work?\n",
        "\n",
        "\n",
        "###ans :   \n",
        "\n",
        "A Decision Tree is a popular machine learning algorithm used for both classification and regression tasks. It's a tree-like model that breaks down a dataset into smaller subsets based on the values of input features.\n",
        "\n",
        "####How Decision Trees Work :\n",
        "1. Root Node: The algorithm starts with a root node, which represents the entire dataset.\n",
        "2. Splitting: The algorithm selects the best feature to split the data into two subsets. This splitting process is based on a specific criterion, such as Gini impurity or entropy.\n",
        "3. Decision Nodes: The split data creates two child nodes, which represent the subsets of data. These child nodes are decision nodes.\n",
        "4. Leaf Nodes: The algorithm recursively splits the data until it reaches a stopping criterion, such as a maximum depth or a minimum number of samples. The final nodes are leaf nodes, which represent the predicted class labels or target values.\n",
        "5. Prediction: To make a prediction, the algorithm traverses the tree from the root node to a leaf node, following the decision rules at each node.\n"
      ],
      "metadata": {
        "id": "g-2ywdE1PKMg"
      }
    },
    {
      "cell_type": "markdown",
      "source": [
        "##Q2 : What are impurity measures in Decision Trees?\n",
        "\n",
        "###ans :  \n",
        "\n",
        "Impurity measures, also known as split criteria, are used in Decision Trees to determine the best feature to split the data at each node. The goal is to reduce impurity, which measures the homogeneity of the target variable, after each split.\n",
        "\n",
        "####Types of Impurity Measures:\n",
        "\n",
        "1. Gini Impurity: Measures the probability of misclassifying a randomly chosen instance from the node. It's calculated as:\n",
        "\n",
        "Gini Impurity = 1 - ∑(p^2)\n",
        "\n",
        "where p is the proportion of each class in the node.\n",
        "\n",
        "2. Entropy: Measures the amount of uncertainty or randomness in the node. It's calculated as:\n",
        "\n",
        "Entropy = -∑(p * log2(p))\n",
        "\n",
        "where p is the proportion of each class in the node.\n",
        "\n",
        "3. Variance: Used for regression trees, measures the variance of the target variable in the node.\n"
      ],
      "metadata": {
        "id": "36Keljo9Xzbw"
      }
    },
    {
      "cell_type": "markdown",
      "source": [
        "##Q3 :  What is the mathematical formula for Gini Impurity?\n",
        "\n",
        "\n",
        "###ans :   \n",
        "\n",
        "####The mathematical formula for Gini Impurity is:\n",
        "\n",
        "Gini Impurity = 1 - ∑(p^2)\n",
        "\n",
        "####where:\n",
        "\n",
        "- Gini Impurity is a value between 0 and 1\n",
        "- p is the proportion of each class in the node\n",
        "- ∑ denotes the sum over all classes\n",
        "\n",
        "####For a binary classification problem with classes A and B:\n",
        "\n",
        "Gini Impurity = 1 - (p_A^2 + p_B^2)\n",
        "\n",
        "where p_A and p_B are the proportions of classes A and B, respectively.\n",
        "\n",
        "####For a multi-class classification problem with K classes:\n",
        "\n",
        "Gini Impurity = 1 - ∑(p_k^2)\n",
        "\n",
        "where p_k is the proportion of class k, and the sum is taken over all K classes."
      ],
      "metadata": {
        "id": "7ySuBfqPs4tV"
      }
    },
    {
      "cell_type": "markdown",
      "source": [
        "##Q4 :  What is the mathematical formula for Entropy?\n",
        "\n",
        "\n",
        "###ans :\n",
        "\n",
        "####The mathematical formula for Entropy is:\n",
        "\n",
        "Entropy = -∑(p * log2(p))\n",
        "\n",
        "####where:\n",
        "\n",
        "- Entropy is a value between 0 and 1\n",
        "- p is the proportion of each class in the node\n",
        "- log2 is the logarithm to the base 2\n",
        "- ∑ denotes the sum over all classes\n",
        "\n",
        "####For a binary classification problem with classes A and B:\n",
        "\n",
        "Entropy = - (p_A * log2(p_A) + p_B * log2(p_B))\n",
        "\n",
        "where p_A and p_B are the proportions of classes A and B, respectively.\n",
        "\n",
        "####For a multi-class classification problem with K classes:\n",
        "\n",
        "Entropy = - ∑(p_k * log2(p_k))\n",
        "\n",
        "where p_k is the proportion of class k, and the sum is taken over all K classes.\n"
      ],
      "metadata": {
        "id": "WseX9SCktWnY"
      }
    },
    {
      "cell_type": "markdown",
      "source": [
        "##Q5 :  What is Information Gain, and how is it used in Decision Trees?\n",
        "\n",
        "\n",
        "###ans :\n",
        "\n",
        "Information Gain is a measure of the reduction in impurity or uncertainty in a dataset after splitting it based on a particular feature. It's a key concept in Decision Trees, used to determine the best feature to split the data at each node.\n",
        "\n",
        "####Calculating Information Gain:\n",
        "\n",
        "1. Calculate the entropy (or impurity) of the parent node.\n",
        "2. Split the data into two child nodes based on a feature.\n",
        "3. Calculate the entropy of each child node.\n",
        "4. Calculate the weighted average of the child nodes' entropies.\n",
        "5. Calculate the Information Gain as the difference between the parent node's entropy and the weighted average of the child nodes' entropies.\n",
        "\n",
        "####Information Gain Formula:\n",
        "\n",
        "Information Gain = Entropy(Parent) - ∑(Weighted Entropy(Child))\n",
        "\n",
        "####where:\n",
        "\n",
        "- Entropy(Parent) is the entropy of the parent node.\n",
        "- Weighted Entropy(Child) is the weighted average of the entropies of the child nodes.\n",
        "\n",
        "####Using Information Gain in Decision Trees:\n",
        "\n",
        "1. At each node, calculate the Information Gain for each feature.\n",
        "2. Choose the feature with the highest Information Gain.\n",
        "3. Split the data based on the chosen feature.\n",
        "4. Recursively repeat the process for each child node.\n",
        "\n",
        "By using Information Gain, Decision Trees can effectively identify the most informative features and split the data in a way that maximizes the reduction in impurity."
      ],
      "metadata": {
        "id": "ZCqKyE2Ft145"
      }
    },
    {
      "cell_type": "markdown",
      "source": [
        "##Q6 :  What is the difference between Gini Impurity and Entropy?\n",
        "\n",
        "###ans :\n",
        "\n",
        "Gini Impurity and Entropy are both measures of impurity or uncertainty in a dataset, used in Decision Trees to determine the best feature to split the data. While they share some similarities, there are key differences:\n",
        "\n",
        "####Similarities:\n",
        "\n",
        "1. Both Gini Impurity and Entropy measure the impurity or uncertainty in a dataset.\n",
        "2. Both are used in Decision Trees to determine the best feature to split the data.\n",
        "\n",
        "####Differences:\n",
        "\n",
        "1. Calculation: Gini Impurity is calculated as 1 - ∑(p^2), where p is the proportion of each class. Entropy is calculated as -∑(p * log2(p)).\n",
        "2. Interpretation: Gini Impurity measures the probability of misclassifying a randomly chosen instance. Entropy measures the amount of uncertainty or randomness in the data.\n",
        "3. Range: Gini Impurity ranges from 0 (perfectly homogeneous) to 0.5 (perfectly heterogeneous). Entropy ranges from 0 (perfectly homogeneous) to 1 (perfectly heterogeneous).\n",
        "4. Sensitivity to class distribution: Gini Impurity is more sensitive to class distribution than Entropy. This means that Gini Impurity can be affected by imbalanced datasets, while Entropy is more robust.\n"
      ],
      "metadata": {
        "id": "gShTYJBm_WHh"
      }
    },
    {
      "cell_type": "markdown",
      "source": [
        "##Q7 :  What is the mathematical explanation behind Decision Trees?\n",
        "\n",
        "\n",
        "###ans :  \n",
        "\n",
        "\n",
        "Decision Trees use recursive partitioning to split the data into subsets based on features, aiming to create homogeneous subsets with respect to the target variable. This process can be described mathematically using concepts like impurity measures and information gain.\n",
        "\n",
        "\n",
        "1. Impurity Measures:\n",
        "\n",
        "- Gini Impurity: Measures the probability of misclassifying a randomly chosen element in a subset. It's calculated as:\n",
        "\n",
        "  Gini(S) = 1 - Σ(p_i)^2\n",
        "\n",
        "\n",
        "  where: - S is the subset of data - p_i is the proportion of elements belonging to class i in subset S\n",
        "\n",
        "- Entropy: Measures the uncertainty or randomness in a subset. It's calculated as:\n",
        "\n",
        "Entropy(S) = - Σ(p_i * log2(p_i))\n",
        "\n",
        "\n",
        "where: - S is the subset of data - p_i is the proportion of elements belonging to class i in subset S\n",
        "\n",
        "2. Information Gain:\n",
        "\n",
        "Information gain quantifies the reduction in impurity achieved by splitting a subset based on a particular feature. It's calculated as:\n",
        "\n",
        "Information Gain(S, A) = Entropy(S) - Σ((|S_v| / |S|) * Entropy(S_v))\n",
        "\n",
        "\n",
        "where:\n",
        "\n",
        "- S is the subset of data\n",
        "- A is the feature used for splitting\n",
        "- S_v is the subset of data where feature A has value v\n",
        "- |S| denotes the number of elements in subset S\n",
        "\n",
        "\n",
        "3. Recursive Partitioning:\n",
        "\n",
        "The decision tree algorithm recursively applies the following steps:\n",
        "\n",
        "1. Start with the entire dataset as the root node.\n",
        "2. For each feature, calculate the information gain achieved by splitting the data based on that feature.\n",
        "3. Select the feature with the highest information gain and split the data accordingly.\n",
        "4. Repeat steps 2 and 3 for each resulting subset until a stopping criterion is met (e.g., maximum depth, minimum number of samples in a node).\n",
        "\n",
        "\n",
        "4. Prediction:\n",
        "\n",
        "To make a prediction for a new data point, traverse the tree from the root node to a leaf node, following the decision rules at each node based on the feature values of the data point. The prediction is the majority class (for classification) or the average value (for regression) of the data points in the leaf node.\n",
        "\n",
        "In essence, Decision Trees aim to find the optimal sequence of splits that minimizes impurity and maximizes information gain, leading to a tree structure that effectively classifies or predicts the target variable.\n"
      ],
      "metadata": {
        "id": "30ZFvXu7DBzz"
      }
    },
    {
      "cell_type": "markdown",
      "source": [
        "##Q8 : What is Pre-Pruning in Decision Trees?\n",
        "\n",
        "###ans :\n",
        "\n",
        "Pre-Pruning is a technique used in Decision Trees to prevent overfitting by stopping the tree growth early. It's a method to avoid splitting nodes that may lead to overfitting.\n",
        "\n",
        "####How Pre-Pruning works:\n",
        "\n",
        "1. Set a stopping criterion: Define a condition to stop splitting nodes, such as:\n",
        "    - Minimum number of instances required to split a node (e.g., 5 instances).\n",
        "    - Maximum depth of the tree.\n",
        "    - Minimum Information Gain required to split a node.\n",
        "2. Evaluate the stopping criterion: At each node, check if the stopping criterion is met.\n",
        "3. Stop splitting if criterion is met: If the stopping criterion is met, stop splitting the node and make it a leaf node.\n",
        "\n",
        "####Types of Pre-Pruning:\n",
        "\n",
        "1. Depth-based Pre-Pruning: Stop splitting nodes when the tree reaches a maximum depth.\n",
        "2. Instance-based Pre-Pruning: Stop splitting nodes when the number of instances in a node falls below a minimum threshold.\n",
        "3. Information Gain-based Pre-Pruning: Stop splitting nodes when the Information Gain is below a minimum threshold.\n",
        "\n",
        "####Advantages of Pre-Pruning:\n",
        "\n",
        "1. Reduced overfitting: Prevents the tree from fitting the noise in the training data.\n",
        "2. Improved generalization: Helps the tree to generalize better to unseen data.\n",
        "3. Faster training: Reduces the computational cost of training the tree.\n",
        "\n",
        "####Disadvantages of Pre-Pruning:\n",
        "\n",
        "1. Underfitting: May lead to underfitting if the stopping criterion is too restrictive.\n",
        "2. Loss of accuracy: May result in lower accuracy if the tree is not allowed to grow deep enough.\n",
        "\n",
        "By applying Pre-Pruning, we can control the growth of the Decision Tree and prevent overfitting, leading to better generalization and improved performance on unseen data."
      ],
      "metadata": {
        "id": "N9LRRW3GIv30"
      }
    },
    {
      "cell_type": "markdown",
      "source": [
        "##Q9 : What is Post-Pruning in Decision Trees?\n",
        "\n",
        "###ans :  \n",
        "\n",
        "Post-Pruning is a technique used in Decision Trees to reduce the complexity of the tree by removing branches or nodes after the tree has been fully grown.\n",
        "\n",
        "####How Post-Pruning works:\n",
        "\n",
        "1. Grow the tree fully: Train the Decision Tree without any restrictions, allowing it to grow as deep as possible.\n",
        "2. Evaluate the tree: Assess the performance of the fully grown tree on a validation set or using cross-validation.\n",
        "3. Prune the tree: Remove branches or nodes that do not contribute significantly to the tree's performance.\n",
        "4. Re-evaluate the tree: Assess the performance of the pruned tree on the same validation set or using cross-validation.\n",
        "\n",
        "####Methods for Post-Pruning:\n",
        "\n",
        "1. Reduced Error Pruning (REP): Remove branches or nodes that do not increase the error rate when removed.\n",
        "2. Cost-Complexity Pruning (CCP): Remove branches or nodes based on a cost-complexity measure, which balances the error rate and the complexity of the tree.\n",
        "3. Minimum Description Length (MDL): Remove branches or nodes based on the Minimum Description Length principle, which seeks to minimize the complexity of the tree.\n",
        "\n",
        "####Advantages of Post-Pruning:\n",
        "\n",
        "1. Improved generalization: Reduces overfitting by removing branches or nodes that are not generalizable.\n",
        "2. Reduced complexity: Simplifies the tree, making it easier to interpret and visualize.\n",
        "3. Faster prediction: Reduces the computational cost of making predictions.\n",
        "\n",
        "####Disadvantages of Post-Pruning:\n",
        "\n",
        "1. Increased risk of underfitting: May lead to underfitting if too many branches or nodes are removed.\n",
        "2. Requires careful tuning: Requires careful tuning of pruning parameters to achieve optimal results.\n",
        "\n",
        "By applying Post-Pruning, we can simplify the Decision Tree, reduce overfitting, and improve its generalization performance."
      ],
      "metadata": {
        "id": "7-Bqoer6JZsv"
      }
    },
    {
      "cell_type": "markdown",
      "source": [
        "##Q10 : What is the difference between Pre-Pruning and Post-Pruning?\n",
        "\n",
        "###ans :\n",
        "\n",
        "Pre-Pruning and Post-Pruning are both techniques used to prevent overfitting in Decision Trees, but they differ in when and how they are applied:\n",
        "\n",
        "####Pre-Pruning:\n",
        "\n",
        "1. Applied during tree growth: Pre-Pruning is applied while the tree is being grown, by stopping the tree growth early.\n",
        "2. Stops tree growth: Pre-Pruning stops the tree from growing further when a stopping criterion is met.\n",
        "3. Simple and efficient: Pre-Pruning is simple to implement and computationally efficient.\n",
        "\n",
        "####Post-Pruning:\n",
        "\n",
        "1. Applied after tree growth: Post-Pruning is applied after the tree has been fully grown.\n",
        "2. Removes branches or nodes: Post-Pruning removes branches or nodes from the fully grown tree to simplify it.\n",
        "3. More complex and computationally expensive: Post-Pruning is more complex to implement and computationally expensive than Pre-Pruning.\n",
        "\n",
        "####Key differences:\n",
        "\n",
        "1. Timing: Pre-Pruning is applied during tree growth, while Post-Pruning is applied after tree growth.\n",
        "2. Method: Pre-Pruning stops tree growth, while Post-Pruning removes branches or nodes from the fully grown tree.\n",
        "3. Complexity: Pre-Pruning is simpler and more efficient, while Post-Pruning is more complex and computationally expensive.\n",
        "\n",
        "In general, Pre-Pruning is a more straightforward and efficient approach, while Post-Pruning provides more flexibility and control over the pruning process."
      ],
      "metadata": {
        "id": "v1U_K8rxK3FW"
      }
    },
    {
      "cell_type": "markdown",
      "source": [
        "##Q11 : What is a Decision Tree Regressor?\n",
        "\n",
        "\n",
        "###ans :  \n",
        "A Decision Tree Regressor is a type of supervised learning algorithm that uses a decision tree to predict continuous outcomes. It's a popular algorithm for regression tasks, such as predicting house prices, stock prices, or energy consumption.\n",
        "\n",
        "####How Decision Tree Regressor works:\n",
        "\n",
        "1. Tree construction: The algorithm builds a decision tree by recursively partitioning the data into smaller subsets based on the feature values.\n",
        "2. Node splitting: At each node, the algorithm selects the best feature to split the data, based on a criterion such as Mean Squared Error (MSE) or Mean Absolute Error (MAE).\n",
        "3. Leaf node prediction: When a leaf node is reached, the algorithm predicts the target value based on the values of the instances in that node.\n",
        "4. Regression: The predicted values are continuous, making it a regression algorithm.\n",
        "\n",
        "####Advantages of Decision Tree Regressor:\n",
        "\n",
        "1. Interpretable: Decision Trees are easy to interpret, as the feature importance and split values are clearly visible.\n",
        "2. Handling missing values: Decision Trees can handle missing values by treating them as a separate category.\n",
        "3. Non-parametric: Decision Trees are non-parametric, meaning they don't assume a specific distribution for the data.\n",
        "\n",
        "####Disadvantages of Decision Tree Regressor:\n",
        "\n",
        "1. Overfitting: Decision Trees can suffer from overfitting, especially when the trees are deep.\n",
        "2. Not robust to outliers: Decision Trees can be sensitive to outliers, which can affect the tree's performance.\n",
        "\n"
      ],
      "metadata": {
        "id": "eEeZmKWtLYAV"
      }
    },
    {
      "cell_type": "markdown",
      "source": [
        "##Q12 :  What are the advantages and disadvantages of Decision Trees?\n",
        "\n",
        "###ans :\n",
        "\n",
        "Here are the advantages and disadvantages of Decision Trees:\n",
        "\n",
        "####Advantages:\n",
        "\n",
        "1. Easy to Interpret: Decision Trees are easy to understand and interpret, as the feature importance and split values are clearly visible.\n",
        "2. Handling Missing Values: Decision Trees can handle missing values by treating them as a separate category.\n",
        "3. Non-Parametric: Decision Trees are non-parametric, meaning they don't assume a specific distribution for the data.\n",
        "4. Handling Non-Linear Relationships: Decision Trees can handle non-linear relationships between features and target variables.\n",
        "5. Fast Training: Decision Trees are relatively fast to train, especially when compared to other algorithms like Support Vector Machines.\n",
        "6. Handling High-Dimensional Data: Decision Trees can handle high-dimensional data with many features.\n",
        "\n",
        "####Disadvantages:\n",
        "\n",
        "1. Overfitting: Decision Trees can suffer from overfitting, especially when the trees are deep.\n",
        "2. Not Robust to Outliers: Decision Trees can be sensitive to outliers, which can affect the tree's performance.\n",
        "3. Not Suitable for Complex Relationships: Decision Trees are not suitable for modeling complex relationships between features and target variables.\n",
        "4. Difficult to Optimize: Decision Trees can be difficult to optimize, as the hyperparameters can have a significant impact on the tree's performance.\n",
        "5. Not Suitable for Multi-Class Problems: Decision Trees can be less effective for multi-class problems, as they are designed for binary classification.\n"
      ],
      "metadata": {
        "id": "3Y01udSXMMor"
      }
    },
    {
      "cell_type": "markdown",
      "source": [
        "##Q13 : How does a Decision Tree handle missing values?\n",
        "\n",
        "\n",
        "###ans :\n",
        "\n",
        "Decision Trees can handle missing values in several ways:\n",
        "\n",
        "####Methods for Handling Missing Values :\n",
        "1. Ignore the instance: Ignore the instance with the missing value and continue training the tree with the remaining instances.\n",
        "2. Replace with mean/median/mode: Replace the missing value with the mean, median, or mode of the feature.\n",
        "3. Assign a new category: Assign a new category to the missing value, treating it as a separate category.\n",
        "4. Use a surrogate feature: Use a surrogate feature to split the node instead of the feature with the missing value.\n",
        "5. Use a probability-based approach: Use a probability-based approach to handle missing values, such as predicting the probability of each class given the missing value.\n",
        "\n",
        "####How Decision Trees Handle Missing Values :\n",
        "When a Decision Tree encounters a missing value, it will typically:\n",
        "\n",
        "1. Split the node: Split the node into two child nodes, one for instances with the missing value and one for instances without the missing value.\n",
        "2. Use a default value: Use a default value, such as the mean or median, to replace the missing value.\n",
        "3. Use a surrogate feature: Use a surrogate feature to split the node instead of the feature with the missing value.\n",
        "\n",
        "####Advantages of Handling Missing Values in Decision Trees :\n",
        "1. Robustness to missing data: Decision Trees can handle missing values, making them robust to missing data.\n",
        "2. Improved accuracy: By handling missing values, Decision Trees can improve their accuracy.\n",
        "3. Flexibility: Decision Trees can handle missing values in different ways, making them flexible.\n",
        "\n",
        "####Disadvantages of Handling Missing Values in Decision Trees :\n",
        "1. Increased complexity: Handling missing values can increase the complexity of the Decision Tree.\n",
        "2. Overfitting: If not handled properly, missing values can lead to overfitting.\n",
        "3. Loss of interpretability: Handling missing values can make the Decision Tree less interpretable."
      ],
      "metadata": {
        "id": "QmB0hbVPNKBu"
      }
    },
    {
      "cell_type": "markdown",
      "source": [
        "##Q14 :  How does a Decision Tree handle categorical features?\n",
        "\n",
        "\n",
        "###ans :\n",
        "\n",
        "Decision Trees can handle categorical features in several ways:\n",
        "\n",
        "####Methods for Handling Categorical Features :\n",
        "1. One-Hot Encoding (OHE): Convert categorical features into numerical features using OHE.\n",
        "2. Label Encoding: Assign a numerical value to each category.\n",
        "3. Binary Encoding: Convert categorical features into binary features.\n",
        "4. Category-Based Splitting: Split the node based on the categorical feature, using a separate branch for each category.\n",
        "\n",
        "####How Decision Trees Handle Categorical Features :\n",
        "When a Decision Tree encounters a categorical feature, it will typically:\n",
        "\n",
        "1. Split the node: Split the node into separate branches for each category.\n",
        "2. Use a categorical split criterion: Use a split criterion specifically designed for categorical features, such as the Gini index or entropy.\n",
        "3. Handle missing values: Handle missing values in categorical features using methods such as ignoring the instance or assigning a default value.\n",
        "\n",
        "####Advantages of Handling Categorical Features in Decision Trees :\n",
        "1. Ability to handle non-numerical data: Decision Trees can handle categorical features, making them suitable for datasets with non-numerical data.\n",
        "2. Improved accuracy: By handling categorical features, Decision Trees can improve their accuracy.\n",
        "3. Flexibility: Decision Trees can handle categorical features in different ways, making them flexible.\n",
        "\n",
        "####Disadvantages of Handling Categorical Features in Decision Trees :\n",
        "1. Increased complexity: Handling categorical features can increase the complexity of the Decision Tree.\n",
        "2. Overfitting: If not handled properly, categorical features can lead to overfitting.\n",
        "3. Loss of interpretability: Handling categorical features can make the Decision Tree less interpretable."
      ],
      "metadata": {
        "id": "bXrC7BjhTb5y"
      }
    },
    {
      "cell_type": "markdown",
      "source": [
        "##Q15 : What are some real-world applications of Decision Trees?\n",
        "\n",
        "\n",
        "###ans :\n",
        "\n",
        "Decision Trees have numerous real-world applications across various industries:\n",
        "\n",
        "####Applications in Finance :\n",
        "1. Credit Risk Assessment: Decision Trees are used to evaluate creditworthiness and predict loan defaults.\n",
        "2. Portfolio Optimization: Decision Trees help optimize investment portfolios by identifying the most profitable assets.\n",
        "3. Fraud Detection: Decision Trees detect fraudulent transactions and identify patterns of suspicious behavior.\n",
        "\n",
        "####Applications in Healthcare :\n",
        "1. Disease Diagnosis: Decision Trees aid in diagnosing diseases by analyzing symptoms and medical histories.\n",
        "2. Patient Outcome Prediction: Decision Trees predict patient outcomes, such as mortality rates or disease progression.\n",
        "3. Personalized Medicine: Decision Trees help personalize treatment plans based on individual patient characteristics.\n",
        "\n",
        "####Applications in Marketing :\n",
        "1. Customer Segmentation: Decision Trees segment customers based on demographics, behavior, and preferences.\n",
        "2. Targeted Advertising: Decision Trees optimize advertising campaigns by identifying the most responsive customer segments.\n",
        "3. Churn Prediction: Decision Trees predict customer churn, enabling proactive retention strategies.\n",
        "\n",
        "####Applications in Transportation :\n",
        "1. Traffic Prediction: Decision Trees predict traffic patterns, optimizing route planning and traffic management.\n",
        "2. Autonomous Vehicles: Decision Trees enable autonomous vehicles to make decisions based on sensor data and environmental conditions.\n",
        "3. Route Optimization: Decision Trees optimize routes for logistics and transportation companies.\n",
        "\n",
        "####Applications in Education :\n",
        "1. Student Performance Prediction: Decision Trees predict student performance, enabling early interventions and personalized learning.\n",
        "2. Course Recommendation: Decision Trees recommend courses based on student interests, skills, and academic history.\n",
        "3. Dropout Prediction: Decision Trees predict student dropout rates, enabling proactive support strategies.\n",
        "\n",
        "These are just a few examples of the many real-world applications of Decision Trees. Their ability to handle complex data and provide interpretable results makes them a popular choice across industries."
      ],
      "metadata": {
        "id": "GZe9owk1-UpD"
      }
    },
    {
      "cell_type": "markdown",
      "source": [
        "# Practical Questions and Answers :"
      ],
      "metadata": {
        "id": "DDEnBUtm_njd"
      }
    },
    {
      "cell_type": "code",
      "source": [
        "# necessary libraries\n",
        "from sklearn.datasets import load_iris\n",
        "from sklearn.model_selection import train_test_split\n",
        "from sklearn.tree import DecisionTreeClassifier\n",
        "from sklearn.metrics import accuracy_score, classification_report, confusion_matrix\n",
        "from sklearn.multiclass import OneVsRestClassifier\n",
        "from sklearn.preprocessing import StandardScaler\n",
        "from sklearn.datasets import fetch_california_housing\n",
        "from sklearn.metrics import mean_squared_error, mean_absolute_error, r2_score\n",
        "from sklearn.metrics import precision_score, recall_score, f1_score, classification_report, confusion_matrix\n",
        "from sklearn.model_selection import GridSearchCV\n",
        "\n",
        "\n",
        "import numpy as np\n",
        "import seaborn as sns\n",
        "import matplotlib.pyplot as plt\n"
      ],
      "metadata": {
        "id": "ekcX2iS4TBbB"
      },
      "execution_count": 7,
      "outputs": []
    },
    {
      "cell_type": "markdown",
      "source": [
        "##Q16 : Write a Python program to train a Decision Tree Classifier on the Iris dataset and print the model accuracy.\n",
        "\n"
      ],
      "metadata": {
        "id": "6PiHVFX6_wPE"
      }
    },
    {
      "cell_type": "code",
      "source": [
        "#ans :\n",
        "\n",
        "# the Iris dataset\n",
        "iris = load_iris()\n",
        "\n",
        "# Define features (X) and target variable (y)\n",
        "X = iris.data\n",
        "y = iris.target\n",
        "\n",
        "# Split the dataset into training and testing sets\n",
        "X_train, X_test, y_train, y_test = train_test_split(X, y, test_size=0.2, random_state=42)\n",
        "\n",
        "# Initialize and train a Decision Tree Classifier\n",
        "clf = DecisionTreeClassifier(random_state=42)\n",
        "clf.fit(X_train, y_train)\n",
        "\n",
        "# Make predictions on the test set\n",
        "y_pred = clf.predict(X_test)\n",
        "\n",
        "# Calculate and print the model accuracy\n",
        "accuracy = accuracy_score(y_test, y_pred)\n",
        "print(\"Model Accuracy:\", accuracy)\n"
      ],
      "metadata": {
        "colab": {
          "base_uri": "https://localhost:8080/"
        },
        "id": "hr-qpR-QSH5W",
        "outputId": "b33e3c8d-ffd2-4552-9302-a1e91c608d31"
      },
      "execution_count": null,
      "outputs": [
        {
          "output_type": "stream",
          "name": "stdout",
          "text": [
            "Model Accuracy: 1.0\n"
          ]
        }
      ]
    },
    {
      "cell_type": "markdown",
      "source": [
        "##Q17 : Write a Python program to train a Decision Tree Classifier using Gini Impurity as the criterion and print the feature importances."
      ],
      "metadata": {
        "id": "5wa-9BVFSXy5"
      }
    },
    {
      "cell_type": "code",
      "source": [
        "#ans :\n",
        "\n",
        "# the Iris dataset\n",
        "iris = load_iris()\n",
        "\n",
        "# Define features (X) and target variable (y)\n",
        "X = iris.data\n",
        "y = iris.target\n",
        "\n",
        "# Split the dataset into training and testing sets\n",
        "X_train, X_test, y_train, y_test = train_test_split(X, y, test_size=0.2, random_state=42)\n",
        "\n",
        "# Initialize and train a Decision Tree Classifier using Gini Impurity\n",
        "clf = DecisionTreeClassifier(criterion='gini', random_state=42)\n",
        "clf.fit(X_train, y_train)\n",
        "\n",
        "# Get the feature importances\n",
        "feature_importances = clf.feature_importances_\n",
        "\n",
        "# the feature importances\n",
        "print(\"Feature Importances:\")\n",
        "for i, importance in enumerate(feature_importances):\n",
        "    print(f\"Feature {i+1}: {importance:.3f}\")\n",
        "\n",
        "# bar chart\n",
        "import matplotlib.pyplot as plt\n",
        "plt.bar(range(1, len(feature_importances) + 1), feature_importances)\n",
        "plt.xlabel(\"Feature Index\")\n",
        "plt.ylabel(\"Importance\")\n",
        "plt.title(\"Feature Importances\")\n",
        "plt.show()\n"
      ],
      "metadata": {
        "colab": {
          "base_uri": "https://localhost:8080/",
          "height": 563
        },
        "id": "LIhHdyJ7ScZ1",
        "outputId": "a3ef06df-b8b4-4f48-b298-068b250b941d"
      },
      "execution_count": null,
      "outputs": [
        {
          "output_type": "stream",
          "name": "stdout",
          "text": [
            "Feature Importances:\n",
            "Feature 1: 0.000\n",
            "Feature 2: 0.017\n",
            "Feature 3: 0.906\n",
            "Feature 4: 0.077\n"
          ]
        },
        {
          "output_type": "display_data",
          "data": {
            "text/plain": [
              "<Figure size 640x480 with 1 Axes>"
            ],
            "image/png": "[encoded data removed]"
          },
          "metadata": {}
        }
      ]
    },
    {
      "cell_type": "markdown",
      "source": [
        "##Q18 : Write a Python program to train a Decision Tree Classifier using Entropy as the splitting criterion and print the model accuracy."
      ],
      "metadata": {
        "id": "kYW14askT-_x"
      }
    },
    {
      "cell_type": "code",
      "source": [
        "#ans :\n",
        "# the Iris dataset\n",
        "iris = load_iris()\n",
        "\n",
        "# Define features (X) and target variable (y)\n",
        "X = iris.data\n",
        "y = iris.target\n",
        "\n",
        "# Split the dataset into training and testing sets\n",
        "X_train, X_test, y_train, y_test = train_test_split(X, y, test_size=0.2, random_state=42)\n",
        "\n",
        "# Initialize and train a Decision Tree Classifier\n",
        "clf = DecisionTreeClassifier(random_state=42)\n",
        "clf.fit(X_train, y_train)\n",
        "\n",
        "# Make predictions on the test set\n",
        "y_pred = clf.predict(X_test)\n",
        "\n",
        "# Calculate and print the model accuracy\n",
        "accuracy = accuracy_score(y_test, y_pred)\n",
        "print(\"Model Accuracy:\", accuracy)\n",
        "\n",
        "#  the classification report\n",
        "print(\"Classification Report:\")\n",
        "print(classification_report(y_test, y_pred))\n",
        "\n",
        "# the confusion matrix\n",
        "print(\"Confusion Matrix:\")\n",
        "print(confusion_matrix(y_test, y_pred))\n"
      ],
      "metadata": {
        "colab": {
          "base_uri": "https://localhost:8080/"
        },
        "id": "G7oJLRqCUGPa",
        "outputId": "c2bf8289-304b-4bd9-e66d-5abde7da22ca"
      },
      "execution_count": 15,
      "outputs": [
        {
          "output_type": "stream",
          "name": "stdout",
          "text": [
            "Model Accuracy: 1.0\n",
            "Classification Report:\n",
            "              precision    recall  f1-score   support\n",
            "\n",
            "           0       1.00      1.00      1.00        10\n",
            "           1       1.00      1.00      1.00         9\n",
            "           2       1.00      1.00      1.00        11\n",
            "\n",
            "    accuracy                           1.00        30\n",
            "   macro avg       1.00      1.00      1.00        30\n",
            "weighted avg       1.00      1.00      1.00        30\n",
            "\n",
            "Confusion Matrix:\n",
            "[[10  0  0]\n",
            " [ 0  9  0]\n",
            " [ 0  0 11]]\n"
          ]
        }
      ]
    },
    {
      "cell_type": "markdown",
      "source": [
        "##Q19 : Write a Python program to train a Decision Tree Regressor on a housing dataset and evaluate using Mean Squared Error (MSE)."
      ],
      "metadata": {
        "id": "tG0kqpj7X4sW"
      }
    },
    {
      "cell_type": "code",
      "source": [
        "#ans :\n",
        "# necessary libraries\n",
        "from sklearn.datasets import fetch_california_housing\n",
        "from sklearn.model_selection import train_test_split\n",
        "from sklearn.tree import DecisionTreeRegressor\n",
        "from sklearn.metrics import mean_squared_error\n",
        "import numpy as np\n",
        "\n",
        "# California Housing dataset\n",
        "housing = fetch_california_housing()\n",
        "\n",
        "# Define features (X) and target variable (y)\n",
        "X = housing.data\n",
        "y = housing.target\n",
        "\n",
        "# Split the dataset into training and testing sets\n",
        "X_train, X_test, y_train, y_test = train_test_split(X, y, test_size=0.2, random_state=42)\n",
        "\n",
        "# Initialize and train a Decision Tree Regressor\n",
        "dtr = DecisionTreeRegressor(random_state=42)\n",
        "dtr.fit(X_train, y_train)\n",
        "\n",
        "# Make predictions on the test set\n",
        "y_pred = dtr.predict(X_test)\n",
        "\n",
        "# the Mean Squared Error (MSE)\n",
        "mse = mean_squared_error(y_test, y_pred)\n",
        "print(\"Mean Squared Error (MSE):\", mse)\n",
        "\n",
        "# the Root Mean Squared Error (RMSE)\n",
        "rmse = np.sqrt(mse)\n",
        "print(\"Root Mean Squared Error (RMSE):\", rmse)"
      ],
      "metadata": {
        "colab": {
          "base_uri": "https://localhost:8080/"
        },
        "id": "HPYEgAzDaVPo",
        "outputId": "c7c817e4-47dd-4df8-da51-255265124c7d"
      },
      "execution_count": null,
      "outputs": [
        {
          "output_type": "stream",
          "name": "stdout",
          "text": [
            "Mean Squared Error (MSE): 0.495235205629094\n",
            "Root Mean Squared Error (RMSE): 0.7037294974840077\n"
          ]
        }
      ]
    },
    {
      "cell_type": "markdown",
      "source": [
        "##Q20 :  Write a Python program to train a Decision Tree Classifier and visualize the tree using graphviz."
      ],
      "metadata": {
        "id": "H82sn0GFbpLS"
      }
    },
    {
      "cell_type": "code",
      "source": [
        "#ans :\n",
        "# necessary libraries\n",
        "from sklearn.datasets import load_iris\n",
        "from sklearn.model_selection import train_test_split\n",
        "from sklearn.tree import DecisionTreeClassifier, export_graphviz\n",
        "import graphviz\n",
        "\n",
        "# the Iris dataset\n",
        "iris = load_iris()\n",
        "\n",
        "# Define features (X) and target variable (y)\n",
        "X = iris.data\n",
        "y = iris.target\n",
        "\n",
        "# Split the dataset into training and testing sets\n",
        "X_train, X_test, y_train, y_test = train_test_split(X, y, test_size=0.2, random_state=42)\n",
        "\n",
        "# Initialize and train a Decision Tree Classifier\n",
        "clf = DecisionTreeClassifier(random_state=42)\n",
        "clf.fit(X_train, y_train)\n",
        "\n",
        "# Export the decision tree to a dot file\n",
        "dot_data = export_graphviz(clf, out_file=None,\n",
        "                             feature_names=iris.feature_names,\n",
        "                             class_names=iris.target_names,\n",
        "                             filled=True)\n",
        "\n",
        "# Render the decision tree using graphviz\n",
        "graph = graphviz.Source(dot_data)\n",
        "graph.render(\"iris_decision_tree\")\n",
        "\n",
        "# the rendered tree\n",
        "print(\"Decision Tree rendered to iris_decision_tree.pdf\")"
      ],
      "metadata": {
        "colab": {
          "base_uri": "https://localhost:8080/"
        },
        "id": "mbF6350Jbuoz",
        "outputId": "ae53ea87-6824-44f1-900f-484da53f1cc6"
      },
      "execution_count": null,
      "outputs": [
        {
          "output_type": "stream",
          "name": "stdout",
          "text": [
            "Decision Tree rendered to iris_decision_tree.pdf\n"
          ]
        }
      ]
    },
    {
      "cell_type": "markdown",
      "source": [
        "##Q21 : Write a Python program to train a Decision Tree Classifier with a maximum depth of 3 and compare its accuracy with a fully grown tree."
      ],
      "metadata": {
        "id": "F5BYPjtlcpwE"
      }
    },
    {
      "cell_type": "code",
      "source": [
        "#ans :\n",
        "\n",
        "# the Iris dataset\n",
        "iris = load_iris()\n",
        "\n",
        "# Define features (X) and target variable (y)\n",
        "X = iris.data\n",
        "y = iris.target\n",
        "\n",
        "# Split the dataset into training and testing sets\n",
        "X_train, X_test, y_train, y_test = train_test_split(X, y, test_size=0.2, random_state=42)\n",
        "\n",
        "# Initialize and train a fully grown Decision Tree Classifier\n",
        "clf_fully_grown = DecisionTreeClassifier(random_state=42)\n",
        "clf_fully_grown.fit(X_train, y_train)\n",
        "\n",
        "# predictions on the test set using the fully grown tree\n",
        "y_pred_fully_grown = clf_fully_grown.predict(X_test)\n",
        "\n",
        "# Calculate the accuracy of the fully grown tree\n",
        "accuracy_fully_grown = accuracy_score(y_test, y_pred_fully_grown)\n",
        "print(\"Accuracy of Fully Grown Tree:\", accuracy_fully_grown)\n",
        "\n",
        "# Initialize and train a Decision Tree Classifier with a maximum depth of 3\n",
        "clf_max_depth_3 = DecisionTreeClassifier(max_depth=3, random_state=42)\n",
        "clf_max_depth_3.fit(X_train, y_train)\n",
        "\n",
        "# Make predictions on the test set using the tree with maximum depth 3\n",
        "y_pred_max_depth_3 = clf_max_depth_3.predict(X_test)\n",
        "\n",
        "# Calculate the accuracy of the tree with maximum depth 3\n",
        "accuracy_max_depth_3 = accuracy_score(y_test, y_pred_max_depth_3)\n",
        "print(\"Accuracy of Tree with Maximum Depth 3:\", accuracy_max_depth_3)\n"
      ],
      "metadata": {
        "colab": {
          "base_uri": "https://localhost:8080/"
        },
        "id": "4t0N-SPAcyA-",
        "outputId": "5797c586-0bf5-4a68-9773-c860f7d58512"
      },
      "execution_count": null,
      "outputs": [
        {
          "output_type": "stream",
          "name": "stdout",
          "text": [
            "Accuracy of Fully Grown Tree: 1.0\n",
            "Accuracy of Tree with Maximum Depth 3: 1.0\n"
          ]
        }
      ]
    },
    {
      "cell_type": "markdown",
      "source": [
        "##Q22 : Write a Python program to train a Decision Tree Classifier using min_samples_split=5 and compare its accuracy with a default tree."
      ],
      "metadata": {
        "id": "hYENQ3aKi5g8"
      }
    },
    {
      "cell_type": "code",
      "source": [
        "#ans :\n",
        "\n",
        "# the Iris dataset\n",
        "iris = load_iris()\n",
        "\n",
        "# Define features (X) and target variable (y)\n",
        "X = iris.data\n",
        "y = iris.target\n",
        "\n",
        "# Split the dataset into training and testing sets\n",
        "X_train, X_test, y_train, y_test = train_test_split(X, y, test_size=0.2, random_state=42)\n",
        "\n",
        "# Initialize and train a default Decision Tree Classifier\n",
        "clf_default = DecisionTreeClassifier(random_state=42)\n",
        "clf_default.fit(X_train, y_train)\n",
        "\n",
        "# Make predictions on the test set using the default tree\n",
        "y_pred_default = clf_default.predict(X_test)\n",
        "\n",
        "# Calculate the accuracy of the default tree\n",
        "accuracy_default = accuracy_score(y_test, y_pred_default)\n",
        "print(\"Accuracy of Default Tree:\", accuracy_default)\n",
        "\n",
        "# Initialize and train a Decision Tree Classifier with min_samples_split=5\n",
        "clf_min_samples_split = DecisionTreeClassifier(min_samples_split=5, random_state=42)\n",
        "clf_min_samples_split.fit(X_train, y_train)\n",
        "\n",
        "# Make predictions on the test set using the tree with min_samples_split=5\n",
        "y_pred_min_samples_split = clf_min_samples_split.predict(X_test)\n",
        "\n",
        "# Calculate the accuracy of the tree with min_samples_split=5\n",
        "accuracy_min_samples_split = accuracy_score(y_test, y_pred_min_samples_split)\n",
        "print(\"Accuracy of Tree with min_samples_split=5:\", accuracy_min_samples_split)\n"
      ],
      "metadata": {
        "colab": {
          "base_uri": "https://localhost:8080/"
        },
        "id": "XBOugPoBoMVN",
        "outputId": "46a9417f-c9c8-4217-83f1-137f75d3fd1c"
      },
      "execution_count": null,
      "outputs": [
        {
          "output_type": "stream",
          "name": "stdout",
          "text": [
            "Accuracy of Default Tree: 1.0\n",
            "Accuracy of Tree with min_samples_split=5: 1.0\n"
          ]
        }
      ]
    },
    {
      "cell_type": "markdown",
      "source": [
        "##Q23 : Write a Python program to apply feature scaling before training a Decision Tree Classifier and compare its accuracy with unscaled data."
      ],
      "metadata": {
        "id": "9ZlT-LYooxmI"
      }
    },
    {
      "cell_type": "code",
      "source": [
        "#ans :\n",
        "\n",
        "# the Iris dataset\n",
        "iris = load_iris()\n",
        "\n",
        "# Define features (X) and target variable (y)\n",
        "X = iris.data\n",
        "y = iris.target\n",
        "\n",
        "# Split the dataset into training and testing sets\n",
        "X_train, X_test, y_train, y_test = train_test_split(X, y, test_size=0.2, random_state=42)\n",
        "\n",
        "# Train a Decision Tree Classifier on unscaled data\n",
        "clf_unscaled = DecisionTreeClassifier(random_state=42)\n",
        "clf_unscaled.fit(X_train, y_train)\n",
        "\n",
        "# Make predictions on the test set using the unscaled model\n",
        "y_pred_unscaled = clf_unscaled.predict(X_test)\n",
        "\n",
        "# Calculate the accuracy of the unscaled model\n",
        "accuracy_unscaled = accuracy_score(y_test, y_pred_unscaled)\n",
        "print(\"Accuracy of Unscaled Model:\", accuracy_unscaled)\n",
        "\n",
        "# Apply feature scaling using StandardScaler\n",
        "scaler = StandardScaler()\n",
        "X_train_scaled = scaler.fit_transform(X_train)\n",
        "X_test_scaled = scaler.transform(X_test)\n",
        "\n",
        "# Train a Decision Tree Classifier on scaled data\n",
        "clf_scaled = DecisionTreeClassifier(random_state=42)\n",
        "clf_scaled.fit(X_train_scaled, y_train)\n",
        "\n",
        "# Make predictions on the test set using the scaled model\n",
        "y_pred_scaled = clf_scaled.predict(X_test_scaled)\n",
        "\n",
        "# Calculate the accuracy of the scaled model\n",
        "accuracy_scaled = accuracy_score(y_test, y_pred_scaled)\n",
        "print(\"Accuracy of Scaled Model:\", accuracy_scaled)\n"
      ],
      "metadata": {
        "colab": {
          "base_uri": "https://localhost:8080/"
        },
        "id": "go5x5BQdo6jf",
        "outputId": "dae5cb75-7de4-4d55-bf8a-ef0509c935fe"
      },
      "execution_count": null,
      "outputs": [
        {
          "output_type": "stream",
          "name": "stdout",
          "text": [
            "Accuracy of Unscaled Model: 1.0\n",
            "Accuracy of Scaled Model: 1.0\n"
          ]
        }
      ]
    },
    {
      "cell_type": "markdown",
      "source": [
        "##Q24 : Write a Python program to train a Decision Tree Classifier using One-vs-Rest (OvR) strategy for multiclass classification."
      ],
      "metadata": {
        "id": "9-CdVM0rvvOI"
      }
    },
    {
      "cell_type": "code",
      "source": [
        "#ans :\n",
        "\n",
        "# the Iris dataset\n",
        "iris = load_iris()\n",
        "\n",
        "# Define features (X) and target variable (y)\n",
        "X = iris.data\n",
        "y = iris.target\n",
        "\n",
        "# Split the dataset into training and testing sets\n",
        "X_train, X_test, y_train, y_test = train_test_split(X, y, test_size=0.2, random_state=42)\n",
        "\n",
        "# Initialize and train a Decision Tree Classifier using One-vs-Rest (OvR) strategy\n",
        "ovr_clf = OneVsRestClassifier(DecisionTreeClassifier(random_state=42))\n",
        "ovr_clf.fit(X_train, y_train)\n",
        "\n",
        "# Make predictions on the test set using the OvR classifier\n",
        "y_pred_ovr = ovr_clf.predict(X_test)\n",
        "\n",
        "# Calculate the accuracy of the OvR classifier\n",
        "accuracy_ovr = accuracy_score(y_test, y_pred_ovr)\n",
        "print(\"Accuracy of OvR Classifier:\", accuracy_ovr)\n",
        "\n",
        "# the classification report\n",
        "print(\"Classification Report:\")\n",
        "print(classification_report(y_test, y_pred_ovr))\n",
        "\n",
        "#  the confusion matrix\n",
        "print(\"Confusion Matrix:\")\n",
        "print(confusion_matrix(y_test, y_pred_ovr))\n",
        "\n"
      ],
      "metadata": {
        "colab": {
          "base_uri": "https://localhost:8080/"
        },
        "id": "ksKzwKDGv1Vy",
        "outputId": "d2ee7925-2b86-4c96-e5b4-bb641e118338"
      },
      "execution_count": 14,
      "outputs": [
        {
          "output_type": "stream",
          "name": "stdout",
          "text": [
            "Accuracy of OvR Classifier: 1.0\n",
            "Classification Report:\n",
            "              precision    recall  f1-score   support\n",
            "\n",
            "           0       1.00      1.00      1.00        10\n",
            "           1       1.00      1.00      1.00         9\n",
            "           2       1.00      1.00      1.00        11\n",
            "\n",
            "    accuracy                           1.00        30\n",
            "   macro avg       1.00      1.00      1.00        30\n",
            "weighted avg       1.00      1.00      1.00        30\n",
            "\n",
            "Confusion Matrix:\n",
            "[[10  0  0]\n",
            " [ 0  9  0]\n",
            " [ 0  0 11]]\n"
          ]
        }
      ]
    },
    {
      "cell_type": "markdown",
      "source": [
        "##Q25 : Write a Python program to train a Decision Tree Classifier and display the feature importance scores."
      ],
      "metadata": {
        "id": "wxpSLlspwzeu"
      }
    },
    {
      "cell_type": "code",
      "source": [
        "#ans :\n",
        "\n",
        "import matplotlib.pyplot as plt\n",
        "\n",
        "# Load the Iris dataset\n",
        "iris = load_iris()\n",
        "\n",
        "# Define features (X) and target variable (y)\n",
        "X = iris.data\n",
        "y = iris.target\n",
        "\n",
        "# Split the dataset into training and testing sets\n",
        "X_train, X_test, y_train, y_test = train_test_split(X, y, test_size=0.2, random_state=42)\n",
        "\n",
        "# Initialize and train a Decision Tree Classifier\n",
        "clf = DecisionTreeClassifier(random_state=42)\n",
        "clf.fit(X_train, y_train)\n",
        "\n",
        "# Get the feature importance scores\n",
        "feature_importances = clf.feature_importances_\n",
        "\n",
        "# the feature importance scores\n",
        "print(\"Feature Importance Scores:\")\n",
        "for i, importance in enumerate(feature_importances):\n",
        "    print(f\"Feature {i+1}: {importance:.3f}\")\n",
        "\n",
        "# Plot the feature importance scores\n",
        "plt.bar(range(1, len(feature_importances) + 1), feature_importances)\n",
        "plt.xlabel(\"Feature Index\")\n",
        "plt.ylabel(\"Importance\")\n",
        "plt.title(\"Feature Importance Scores\")\n",
        "plt.show()\n"
      ],
      "metadata": {
        "colab": {
          "base_uri": "https://localhost:8080/",
          "height": 563
        },
        "id": "Ghlv-Ni5w5Zz",
        "outputId": "96dfe7f5-8506-45bb-cda0-4719e6c831d0"
      },
      "execution_count": 13,
      "outputs": [
        {
          "output_type": "stream",
          "name": "stdout",
          "text": [
            "Feature Importance Scores:\n",
            "Feature 1: 0.000\n",
            "Feature 2: 0.017\n",
            "Feature 3: 0.906\n",
            "Feature 4: 0.077\n"
          ]
        },
        {
          "output_type": "display_data",
          "data": {
            "text/plain": [
              "<Figure size 640x480 with 1 Axes>"
            ],
            "image/png": "[encoded data removed]"
          },
          "metadata": {}
        }
      ]
    },
    {
      "cell_type": "markdown",
      "source": [
        "##Q26 : Write a Python program to train a Decision Tree Regressor with max_depth=5 and compare its performance with an unrestricted tree."
      ],
      "metadata": {
        "id": "UHPkRdwa0aq7"
      }
    },
    {
      "cell_type": "code",
      "source": [
        "#ans :\n",
        "\n",
        "#the California Housing dataset\n",
        "housing = fetch_california_housing()\n",
        "\n",
        "# Define features (X) and target variable (y)\n",
        "X = housing.data\n",
        "y = housing.target\n",
        "\n",
        "# Split the dataset into training and testing sets\n",
        "X_train, X_test, y_train, y_test = train_test_split(X, y, test_size=0.2, random_state=42)\n",
        "\n",
        "# Initialize and train an unrestricted Decision Tree Regressor\n",
        "dtr_unrestricted = DecisionTreeRegressor(random_state=42)\n",
        "dtr_unrestricted.fit(X_train, y_train)\n",
        "\n",
        "# predictions on the test set using the unrestricted tree\n",
        "y_pred_unrestricted = dtr_unrestricted.predict(X_test)\n",
        "\n",
        "# Calculate the evaluation metrics for the unrestricted tree\n",
        "mse_unrestricted = mean_squared_error(y_test, y_pred_unrestricted)\n",
        "mae_unrestricted = mean_absolute_error(y_test, y_pred_unrestricted)\n",
        "r2_unrestricted = r2_score(y_test, y_pred_unrestricted)\n",
        "print(\"Unrestricted Tree Metrics:\")\n",
        "print(f\"MSE: {mse_unrestricted:.3f}\")\n",
        "print(f\"MAE: {mae_unrestricted:.3f}\")\n",
        "print(f\"R2 Score: {r2_unrestricted:.3f}\")\n",
        "\n",
        "# Initialize and train a Decision Tree Regressor with max_depth=5\n",
        "dtr_max_depth_5 = DecisionTreeRegressor(max_depth=5, random_state=42)\n",
        "dtr_max_depth_5.fit(X_train, y_train)\n",
        "\n",
        "# Make predictions on the test set using the tree with max_depth=5\n",
        "y_pred_max_depth_5 = dtr_max_depth_5.predict(X_test)\n",
        "\n",
        "# Calculate the evaluation metrics for the tree with max_depth=5\n",
        "mse_max_depth_5 = mean_squared_error(y_test, y_pred_max_depth_5)\n",
        "mae_max_depth_5 = mean_absolute_error(y_test, y_pred_max_depth_5)\n",
        "r2_max_depth_5 = r2_score(y_test, y_pred_max_depth_5)\n",
        "print(\"Tree with max_depth=5 Metrics:\")\n",
        "print(f\"MSE: {mse_max_depth_5:.3f}\")\n",
        "print(f\"MAE: {mae_max_depth_5:.3f}\")\n",
        "print(f\"R2 Score: {r2_max_depth_5:.3f}\")"
      ],
      "metadata": {
        "colab": {
          "base_uri": "https://localhost:8080/"
        },
        "id": "oi5FWgIr1cIS",
        "outputId": "1a8fb553-2b4e-4b09-8a97-b749c22d756d"
      },
      "execution_count": null,
      "outputs": [
        {
          "output_type": "stream",
          "name": "stdout",
          "text": [
            "Unrestricted Tree Metrics:\n",
            "MSE: 0.495\n",
            "MAE: 0.455\n",
            "R2 Score: 0.622\n",
            "Tree with max_depth=5 Metrics:\n",
            "MSE: 0.525\n",
            "MAE: 0.522\n",
            "R2 Score: 0.600\n"
          ]
        }
      ]
    },
    {
      "cell_type": "markdown",
      "source": [
        "##Q27 : Write a Python program to train a Decision Tree Classifier, apply Cost Complexity Pruning (CCP), and visualize its effect on accuracy."
      ],
      "metadata": {
        "id": "Rm5tYuYjrWft"
      }
    },
    {
      "cell_type": "code",
      "source": [
        "#ans :\n",
        "\n",
        "#the Iris dataset\n",
        "iris = load_iris()\n",
        "\n",
        "# Define features (X) and target variable (y)\n",
        "X = iris.data\n",
        "y = iris.target\n",
        "\n",
        "# Split the dataset into training and testing sets\n",
        "X_train, X_test, y_train, y_test = train_test_split(X, y, test_size=0.2, random_state=42)\n",
        "\n",
        "# Initialize and train a Decision Tree Classifier\n",
        "clf = DecisionTreeClassifier(random_state=42)\n",
        "clf.fit(X_train, y_train)\n",
        "\n",
        "# Get the cost complexity pruning path\n",
        "path = clf.cost_complexity_pruning_path(X_train, y_train)\n",
        "\n",
        "# Get the pruning alpha values\n",
        "alpha_values = path.ccp_alphas\n",
        "\n",
        "# Initialize lists to store accuracy values\n",
        "accuracy_values = []\n",
        "\n",
        "# Iterate over the pruning alpha values\n",
        "for alpha in alpha_values:\n",
        "    # Initialize and train a Decision Tree Classifier with pruning\n",
        "    clf_pruned = DecisionTreeClassifier(random_state=42, ccp_alpha=alpha)\n",
        "    clf_pruned.fit(X_train, y_train)\n",
        "\n",
        "    # Make predictions on the test set using the pruned tree\n",
        "    y_pred_pruned = clf_pruned.predict(X_test)\n",
        "\n",
        "    # Calculate the accuracy of the pruned tree\n",
        "    accuracy_pruned = accuracy_score(y_test, y_pred_pruned)\n",
        "    accuracy_values.append(accuracy_pruned)\n",
        "\n",
        "# Plot the accuracy values against the pruning alpha values\n",
        "plt.plot(alpha_values, accuracy_values)\n",
        "plt.xlabel(\"Pruning Alpha\")\n",
        "plt.ylabel(\"Accuracy\")\n",
        "plt.title(\"Effect of Cost Complexity Pruning on Accuracy\")\n",
        "plt.show()"
      ],
      "metadata": {
        "colab": {
          "base_uri": "https://localhost:8080/",
          "height": 472
        },
        "id": "idJVU9L-3O8H",
        "outputId": "8069af66-35b4-4a65-9206-f6d504185fd0"
      },
      "execution_count": null,
      "outputs": [
        {
          "output_type": "display_data",
          "data": {
            "text/plain": [
              "<Figure size 640x480 with 1 Axes>"
            ],
            "image/png": "[encoded data removed]"
          },
          "metadata": {}
        }
      ]
    },
    {
      "cell_type": "markdown",
      "source": [
        "##Q28 : Write a Python program to train a Decision Tree Classifier and evaluate its performance using Precision, Recall, and F1-Score."
      ],
      "metadata": {
        "id": "Kn94Q4q_3957"
      }
    },
    {
      "cell_type": "code",
      "source": [
        "#ans :\n",
        "\n",
        "# the Iris dataset\n",
        "iris = load_iris()\n",
        "\n",
        "# Define features (X) and target variable (y)\n",
        "X = iris.data\n",
        "y = iris.target\n",
        "\n",
        "# Split the dataset into training and testing sets\n",
        "X_train, X_test, y_train, y_test = train_test_split(X, y, test_size=0.2, random_state=42)\n",
        "\n",
        "# Initialize and train a Decision Tree Classifier\n",
        "clf = DecisionTreeClassifier(random_state=42)\n",
        "clf.fit(X_train, y_train)\n",
        "\n",
        "# Make predictions on the test set\n",
        "y_pred = clf.predict(X_test)\n",
        "\n",
        "# Calculate the Precision, Recall, and F1-Score for each class\n",
        "for i in range(len(np.unique(y))):\n",
        "    precision = precision_score(y_test, y_pred, average=None)[i]\n",
        "    recall = recall_score(y_test, y_pred, average=None)[i]\n",
        "    f1 = f1_score(y_test, y_pred, average=None)[i]\n",
        "    print(f\"Class {i+1}:\")\n",
        "    print(f\"Precision: {precision:.3f}\")\n",
        "    print(f\"Recall: {recall:.3f}\")\n",
        "    print(f\"F1-Score: {f1:.3f}\")\n",
        "    print()\n",
        "\n",
        "# the classification report\n",
        "print(\"Classification Report:\")\n",
        "print(classification_report(y_test, y_pred))\n",
        "\n",
        "# the confusion matrix\n",
        "print(\"Confusion Matrix:\")\n",
        "print(confusion_matrix(y_test, y_pred))"
      ],
      "metadata": {
        "id": "RBSk-kpp4Ec5",
        "colab": {
          "base_uri": "https://localhost:8080/"
        },
        "outputId": "b1dc1d6d-c554-4298-a8e4-72c4e700f46f"
      },
      "execution_count": 12,
      "outputs": [
        {
          "output_type": "stream",
          "name": "stdout",
          "text": [
            "Class 1:\n",
            "Precision: 1.000\n",
            "Recall: 1.000\n",
            "F1-Score: 1.000\n",
            "\n",
            "Class 2:\n",
            "Precision: 1.000\n",
            "Recall: 1.000\n",
            "F1-Score: 1.000\n",
            "\n",
            "Class 3:\n",
            "Precision: 1.000\n",
            "Recall: 1.000\n",
            "F1-Score: 1.000\n",
            "\n",
            "Classification Report:\n",
            "              precision    recall  f1-score   support\n",
            "\n",
            "           0       1.00      1.00      1.00        10\n",
            "           1       1.00      1.00      1.00         9\n",
            "           2       1.00      1.00      1.00        11\n",
            "\n",
            "    accuracy                           1.00        30\n",
            "   macro avg       1.00      1.00      1.00        30\n",
            "weighted avg       1.00      1.00      1.00        30\n",
            "\n",
            "Confusion Matrix:\n",
            "[[10  0  0]\n",
            " [ 0  9  0]\n",
            " [ 0  0 11]]\n"
          ]
        }
      ]
    },
    {
      "cell_type": "markdown",
      "source": [
        "##Q29 : Write a Python program to train a Decision Tree Classifier and visualize the confusion matrix using seaborn."
      ],
      "metadata": {
        "id": "EXJIaKmak2KO"
      }
    },
    {
      "cell_type": "code",
      "source": [
        "#ans :\n",
        "\n",
        "# the Iris dataset\n",
        "iris = load_iris()\n",
        "\n",
        "# Define features (X) and target variable (y)\n",
        "X = iris.data\n",
        "y = iris.target\n",
        "\n",
        "# Split the dataset into training and testing sets\n",
        "X_train, X_test, y_train, y_test = train_test_split(X, y, test_size=0.2, random_state=42)\n",
        "\n",
        "# Initialize and train a Decision Tree Classifier\n",
        "clf = DecisionTreeClassifier(random_state=42)\n",
        "clf.fit(X_train, y_train)\n",
        "\n",
        "# Make predictions on the test set\n",
        "y_pred = clf.predict(X_test)\n",
        "\n",
        "# Calculate the confusion matrix\n",
        "cm = confusion_matrix(y_test, y_pred)\n",
        "\n",
        "# Visualize the confusion matrix using seaborn\n",
        "plt.figure(figsize=(8, 6))\n",
        "sns.heatmap(cm, annot=True, cmap=\"YlGnBu\", fmt='d')\n",
        "plt.xlabel(\"Predicted Labels\")\n",
        "plt.ylabel(\"True Labels\")\n",
        "plt.title(\"Confusion Matrix\")\n",
        "plt.show()\n"
      ],
      "metadata": {
        "colab": {
          "base_uri": "https://localhost:8080/",
          "height": 564
        },
        "id": "cPGpWZ-Nk8aA",
        "outputId": "692fe49b-8dd0-45c7-c3ac-50760bb89736"
      },
      "execution_count": 6,
      "outputs": [
        {
          "output_type": "display_data",
          "data": {
            "text/plain": [
              "<Figure size 800x600 with 2 Axes>"
            ],
            "image/png": "[encoded data removed]"
          },
          "metadata": {}
        }
      ]
    },
    {
      "cell_type": "markdown",
      "source": [
        "##Q30 : Write a Python program to train a Decision Tree Classifier and use GridSearchCV to find the optimal values for max_depth and min_samples_split."
      ],
      "metadata": {
        "id": "bqDgFEABlj27"
      }
    },
    {
      "cell_type": "code",
      "source": [
        "#ans :\n",
        "\n",
        "# the Iris dataset\n",
        "iris = load_iris()\n",
        "\n",
        "# Define features (X) and target variable (y)\n",
        "X = iris.data\n",
        "y = iris.target\n",
        "\n",
        "# Split the dataset into training and testing sets\n",
        "X_train, X_test, y_train, y_test = train_test_split(X, y, test_size=0.2, random_state=42)\n",
        "\n",
        "# Define the hyperparameter space for GridSearchCV\n",
        "param_grid = {\n",
        "    \"max_depth\": [3, 5, 7, 9, None],\n",
        "    \"min_samples_split\": [2, 5, 10]\n",
        "}\n",
        "\n",
        "# Initialize GridSearchCV with DecisionTreeClassifier and the hyperparameter space\n",
        "grid_search = GridSearchCV(DecisionTreeClassifier(random_state=42), param_grid, cv=5)\n",
        "\n",
        "# Perform GridSearchCV on the training data\n",
        "grid_search.fit(X_train, y_train)\n",
        "\n",
        "# the optimal hyperparameters and the best score\n",
        "print(\"Optimal Hyperparameters:\", grid_search.best_params_)\n",
        "print(\"Best Score:\", grid_search.best_score_)\n",
        "\n",
        "# Train a DecisionTreeClassifier with the optimal hyperparameters\n",
        "best_clf = grid_search.best_estimator_\n",
        "best_clf.fit(X_train, y_train)\n",
        "\n",
        "# Make predictions on the test set using the best classifier\n",
        "y_pred = best_clf.predict(X_test)\n",
        "\n",
        "# Calculate the accuracy of the best classifier\n",
        "accuracy = accuracy_score(y_test, y_pred)\n",
        "print(\"Accuracy of Best Classifier:\", accuracy)\n",
        "\n",
        "# the classification report and confusion matrix\n",
        "print(\"Classification Report:\")\n",
        "print(classification_report(y_test, y_pred))\n",
        "print(\"Confusion Matrix:\")\n",
        "print(confusion_matrix(y_test, y_pred))"
      ],
      "metadata": {
        "colab": {
          "base_uri": "https://localhost:8080/"
        },
        "id": "4e-XXXi3lsHv",
        "outputId": "0f99ee3e-01e7-4066-c139-3e728faee100"
      },
      "execution_count": 11,
      "outputs": [
        {
          "output_type": "stream",
          "name": "stdout",
          "text": [
            "Optimal Hyperparameters: {'max_depth': 7, 'min_samples_split': 2}\n",
            "Best Score: 0.9416666666666668\n",
            "Accuracy of Best Classifier: 1.0\n",
            "Classification Report:\n",
            "              precision    recall  f1-score   support\n",
            "\n",
            "           0       1.00      1.00      1.00        10\n",
            "           1       1.00      1.00      1.00         9\n",
            "           2       1.00      1.00      1.00        11\n",
            "\n",
            "    accuracy                           1.00        30\n",
            "   macro avg       1.00      1.00      1.00        30\n",
            "weighted avg       1.00      1.00      1.00        30\n",
            "\n",
            "Confusion Matrix:\n",
            "[[10  0  0]\n",
            " [ 0  9  0]\n",
            " [ 0  0 11]]\n"
          ]
        }
      ]
    }
  ]
}